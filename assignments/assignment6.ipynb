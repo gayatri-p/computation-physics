{
 "cells": [
  {
   "cell_type": "markdown",
   "metadata": {
    "id": "iSobuQq0gaTc"
   },
   "source": [
    "# Assignment 6"
   ]
  },
  {
   "cell_type": "code",
   "execution_count": null,
   "metadata": {
    "id": "X3ZkptugKYY1"
   },
   "outputs": [],
   "source": [
    "import numpy as np"
   ]
  },
  {
   "cell_type": "markdown",
   "metadata": {
    "id": "6S85nxDPgeE-"
   },
   "source": [
    "## Problem 4.14\n",
    "\n",
    "Prove (by contradiction) that Doolittle’s LU decomposition is unique."
   ]
  },
  {
   "cell_type": "markdown",
   "metadata": {
    "id": "vTrHAQSZgwoQ"
   },
   "source": [
    "**Proof:** Let matrix $A=LU$, by the means of Doolittle’s LU decomposition.\n",
    "\n",
    "Assume that $L$ and $U$ are not unique. Hence there exists some $L'$ and $U'$ s.t. $A=L'U'$, $L'\\ne L$ and $U'\\ne U$.\n",
    "\n",
    "Hence,\n",
    "$$\n",
    "L = \\begin{pmatrix}\n",
    "1 & 0 & 0\\\\\n",
    "L_{10} & 1 & 0\\\\\n",
    "L_{20} & L_{21} & 1\n",
    "\\end{pmatrix},\\,\\,\\,U = \\begin{pmatrix}\n",
    "U_{00} & U_{01} & U_{02}\\\\\n",
    "0 & U_{11} & U_{12}\\\\\n",
    "0 & 0 & U_{22}\n",
    "\\end{pmatrix}\n",
    "$$\n",
    "\n",
    "$$\n",
    "L' = \\begin{pmatrix}\n",
    "1 & 0 & 0\\\\\n",
    "L'_{10} & 1 & 0\\\\\n",
    "L'_{20} & L'_{21} & 1\n",
    "\\end{pmatrix},\\,\\,\\,U = \\begin{pmatrix}\n",
    "U'_{00} & U'_{01} & U'_{02}\\\\\n",
    "0 & U'_{11} & U'_{12}\\\\\n",
    "0 & 0 & U'_{22}\n",
    "\\end{pmatrix}\n",
    "$$\n",
    "\n",
    "Now, multiplying to get $A=LU=L'U'$,\n",
    "\n",
    "$$\n",
    "A = \\begin{pmatrix}\n",
    "U_{00} & U_{01} & U_{02}\\\\\n",
    "U_{00}L_{10} & U_{01}L_{10}+U_{11} & U_{02}L_{10}+U_{12}\\\\\n",
    "U_{00}L_{20} & U_{01}L_{20}+U_{11}L_{21} &U_{02}L_{20}+U_{12}L_{21}+U_{22}\n",
    "\\end{pmatrix}\\\\\n",
    "=\\begin{pmatrix}\n",
    "U'_{00} & U'_{01} & U'_{02}\\\\\n",
    "U'_{00}L'_{10} & U'_{01}L'_{10}+U'_{11} & U'_{02}L'_{10}+U'_{12}\\\\\n",
    "U'_{00}L'_{20} & U'_{01}L'_{20}+U'_{11}L'_{21} &U'_{02}L'_{20}+U'_{12}L'_{21}+U'_{22}\n",
    "\\end{pmatrix}\n",
    "$$\n",
    "\n",
    "Comparing the terms on the first row, we get\n",
    "\n",
    "$$\n",
    "U_{00}=U'_{00},\\,\\,\\,U_{01}=U'_{01}\\,\\,\\,U_{02}=U'_{02}\n",
    "$$\n",
    "\n",
    "Substituting them in the second and third rows, we get,\n",
    "$$\n",
    "L_{10}=L'_{10},\\,\\,\\,U_{11}=U'_{11}\\,\\,\\,U_{12}=U'_{12}\\\\\n",
    "L_{20}=L'_{20},\\,\\,\\,L_{11}=L'_{21}\\,\\,\\,U_{22}=U'_{22}\\\\\n",
    "\\therefore L'=L \\text{  and  } U'=U\n",
    "$$\n",
    "\n",
    "Hence our assumption is proven wrong. Thus, Doolittle’s LU decomposition is unique for every matrix."
   ]
  },
  {
   "cell_type": "markdown",
   "metadata": {
    "id": "lLyK9aHVgxDx"
   },
   "source": [
    "## Problem 4.17\n",
    "\n",
    "Use Gaussian elimination or LU decomposition (without and with pivoting) for:\n",
    "\n",
    "``` python\n",
    "A = np.array([4., 4, 8, 4, 4, 5, 3, 7, 8,3, 9, 9, 4, 7, 9, 5]).reshape(4,4)\n",
    "bs = np.array([1., 2, 3, 4])\n",
    "\n",
    "```\n",
    "Does pivoting help in any way? What are your conclusions about this matrix? You\n",
    "sometimes hear the advice that, since the problem arises from one of the $U_{ii}$'s being\n",
    "zero, you should replace it with a small number, say $10^{−20}$. Does this work?"
   ]
  },
  {
   "cell_type": "code",
   "execution_count": null,
   "metadata": {
    "id": "0JKBqkduhEpo"
   },
   "outputs": [],
   "source": [
    "A = np.array([4., 4, 8, 4, 4, 5, 3, 7, 8, 3, 9, 9, 4, 7, 9, 5]).reshape(4,4)\n",
    "bs = np.array([1., 2, 3, 4])\n",
    "\n",
    "def gauelim(inA,inbs):\n",
    "  A = np.copy(inA)\n",
    "  bs = np.copy(inbs)\n",
    "  n = bs.size\n",
    "  for j in range(n-1):\n",
    "    for i in range(j+1,n):\n",
    "      coeff = A[i,j]/A[j,j]\n",
    "      A[i,j:] -= coeff*A[j,j:]\n",
    "      bs[i] -= coeff*bs[j]\n",
    "  xs = backsub(A,bs)\n",
    "  return xs\n",
    "\n",
    "def backsub(U,bs):\n",
    "  n = bs.size\n",
    "  xs = np.zeros(n)\n",
    "  for i in reversed(range(n)):\n",
    "    xs[i] = (bs[i] - U[i,i+1:]@xs[i+1:])/U[i,i]\n",
    "  return xs\n",
    "\n",
    "def gauelim_pivot(inA,inbs):\n",
    "  A = np.copy(inA)\n",
    "  bs = np.copy(inbs)\n",
    "  n = bs.size\n",
    "  for j in range(n-1):\n",
    "    k = np.argmax(np.abs(A[j:,j])) + j\n",
    "    if k != j:\n",
    "      A[j,:], A[k,:] = A[k,:], A[j,:].copy()\n",
    "      bs[j], bs[k] = bs[k], bs[j]\n",
    "    for i in range(j+1,n):\n",
    "      coeff = A[i,j]/A[j,j]\n",
    "      A[i,j:] -= coeff*A[j,j:]\n",
    "      bs[i] -= coeff*bs[j]\n",
    "  xs = backsub(A,bs)\n",
    "  return xs\n",
    "\n",
    "def gauelim_pivot_scale(inA,inbs):\n",
    "    A = np.copy(inA)\n",
    "    bs = np.copy(inbs)\n",
    "    n = bs.size\n",
    "    scales = np.max(np.abs(A),axis=1)\n",
    "\n",
    "    for j in range(n-1):\n",
    "        k = np.argmax(np.abs(A[j:,j])/scales[j:]) + j\n",
    "        scales[j], scales[k] = scales[k], scales[j]\n",
    "        bs[j], bs[k] = bs[k], bs[j]\n",
    "        A[j,:], A[k,:] = A[k,:], A[j,:].copy()\n",
    "\n",
    "        for i in range(j+1,n):\n",
    "            coeff = A[i,j]/A[j,j]\n",
    "            A[i,j:] -= coeff*A[j,j:]\n",
    "            bs[i] -= coeff*bs[j]\n",
    "\n",
    "    xs = backsub(A,bs)\n",
    "    return xs\n",
    "\n",
    "def testsolve(f,A,bs):\n",
    "  xs = f(A,bs); print(xs)"
   ]
  },
  {
   "cell_type": "markdown",
   "metadata": {
    "id": "Lu8Z28BVut7U"
   },
   "source": [
    "**Solution:** In the following three cell blocks, we have attempted to solve perform gaussian elimination without pivoting, with pivoting and with scaled pivoting. But none of the methods seem to work in this case."
   ]
  },
  {
   "cell_type": "code",
   "execution_count": null,
   "metadata": {
    "colab": {
     "base_uri": "https://localhost:8080/"
    },
    "executionInfo": {
     "elapsed": 14,
     "status": "ok",
     "timestamp": 1725774625112,
     "user": {
      "displayName": "Gayatri P",
      "userId": "12002088389909785121"
     },
     "user_tz": -330
    },
    "id": "r-qwqk0BLHNT",
    "outputId": "809777ed-f730-4d53-e193-e08f5727995b"
   },
   "outputs": [
    {
     "name": "stdout",
     "output_type": "stream",
     "text": [
      "[nan nan inf inf]\n"
     ]
    },
    {
     "name": "stderr",
     "output_type": "stream",
     "text": [
      "<ipython-input-10-be3ea33d55d9>:20: RuntimeWarning: divide by zero encountered in scalar divide\n",
      "  xs[i] = (bs[i] - U[i,i+1:]@xs[i+1:])/U[i,i]\n",
      "<ipython-input-10-be3ea33d55d9>:20: RuntimeWarning: invalid value encountered in matmul\n",
      "  xs[i] = (bs[i] - U[i,i+1:]@xs[i+1:])/U[i,i]\n"
     ]
    }
   ],
   "source": [
    "testsolve(gauelim,A,bs)"
   ]
  },
  {
   "cell_type": "code",
   "execution_count": null,
   "metadata": {
    "colab": {
     "base_uri": "https://localhost:8080/"
    },
    "executionInfo": {
     "elapsed": 526,
     "status": "ok",
     "timestamp": 1725774630590,
     "user": {
      "displayName": "Gayatri P",
      "userId": "12002088389909785121"
     },
     "user_tz": -330
    },
    "id": "HD4NGpRELv3n",
    "outputId": "362cdd86-c15b-4ebf-c9a9-84c20ee94878"
   },
   "outputs": [
    {
     "name": "stdout",
     "output_type": "stream",
     "text": [
      "[ nan  inf -inf -inf]\n"
     ]
    },
    {
     "name": "stderr",
     "output_type": "stream",
     "text": [
      "<ipython-input-10-be3ea33d55d9>:20: RuntimeWarning: divide by zero encountered in scalar divide\n",
      "  xs[i] = (bs[i] - U[i,i+1:]@xs[i+1:])/U[i,i]\n",
      "<ipython-input-10-be3ea33d55d9>:20: RuntimeWarning: invalid value encountered in matmul\n",
      "  xs[i] = (bs[i] - U[i,i+1:]@xs[i+1:])/U[i,i]\n"
     ]
    }
   ],
   "source": [
    "testsolve(gauelim_pivot,A,bs)"
   ]
  },
  {
   "cell_type": "code",
   "execution_count": null,
   "metadata": {
    "colab": {
     "base_uri": "https://localhost:8080/"
    },
    "executionInfo": {
     "elapsed": 811,
     "status": "ok",
     "timestamp": 1725774638395,
     "user": {
      "displayName": "Gayatri P",
      "userId": "12002088389909785121"
     },
     "user_tz": -330
    },
    "id": "RynvR5TSLw-P",
    "outputId": "111eddda-b6a5-4c0b-d856-c48c32e2136d"
   },
   "outputs": [
    {
     "name": "stdout",
     "output_type": "stream",
     "text": [
      "[ nan  inf -inf -inf]\n"
     ]
    },
    {
     "name": "stderr",
     "output_type": "stream",
     "text": [
      "<ipython-input-10-be3ea33d55d9>:20: RuntimeWarning: divide by zero encountered in scalar divide\n",
      "  xs[i] = (bs[i] - U[i,i+1:]@xs[i+1:])/U[i,i]\n",
      "<ipython-input-10-be3ea33d55d9>:20: RuntimeWarning: invalid value encountered in matmul\n",
      "  xs[i] = (bs[i] - U[i,i+1:]@xs[i+1:])/U[i,i]\n"
     ]
    }
   ],
   "source": [
    "testsolve(gauelim_pivot_scale,A,bs)"
   ]
  },
  {
   "cell_type": "markdown",
   "metadata": {
    "id": "CbdfwFr4vlJ_"
   },
   "source": [
    "Now, because these errors seem to arise froom $U_{ii}$ being zero and encountering zero division error, we have modified the back-substitution code to replace if $U_{ii}=0$ with $U_{ii}=10^{-20}$."
   ]
  },
  {
   "cell_type": "code",
   "execution_count": null,
   "metadata": {
    "id": "2Dc8EOzdvOYL"
   },
   "outputs": [],
   "source": [
    "def backsub(U,bs):\n",
    "  n = bs.size\n",
    "  xs = np.zeros(n)\n",
    "  for i in reversed(range(n)):\n",
    "    if U[i,i] == 0:\n",
    "      U[i,i] = 1.e-20\n",
    "    xs[i] = (bs[i] - U[i,i+1:]@xs[i+1:])/U[i,i]\n",
    "  return xs"
   ]
  },
  {
   "cell_type": "code",
   "execution_count": null,
   "metadata": {
    "colab": {
     "base_uri": "https://localhost:8080/"
    },
    "executionInfo": {
     "elapsed": 454,
     "status": "ok",
     "timestamp": 1725817727649,
     "user": {
      "displayName": "Gayatri P",
      "userId": "12002088389909785121"
     },
     "user_tz": -330
    },
    "id": "x1rD_ZDrv5Cc",
    "outputId": "2a5282be-da3a-4359-fedd-1b3f8c10bcd6"
   },
   "outputs": [
    {
     "name": "stdout",
     "output_type": "stream",
     "text": [
      "[ 3.e+20  1.e+20 -1.e+20 -2.e+20]\n"
     ]
    }
   ],
   "source": [
    "testsolve(gauelim_pivot,A,bs)"
   ]
  },
  {
   "cell_type": "markdown",
   "metadata": {
    "id": "NVJGg1o1M2M6"
   },
   "source": [
    "This, however outputs very large numbers for our solution matrix (possibly due to the denominator $U_{ii}$ being very small). None of these methods actually work however because the matrix is singular, i.e. $\\det(A)=0$, hence $A^{-1}$ does not exist. There is no possible solution for any version of `bs` in this case.\n",
    "\n",
    "We can check this by using NumPy."
   ]
  },
  {
   "cell_type": "code",
   "execution_count": null,
   "metadata": {
    "colab": {
     "base_uri": "https://localhost:8080/"
    },
    "executionInfo": {
     "elapsed": 595,
     "status": "ok",
     "timestamp": 1725817871205,
     "user": {
      "displayName": "Gayatri P",
      "userId": "12002088389909785121"
     },
     "user_tz": -330
    },
    "id": "IVRDklexwl-p",
    "outputId": "56647568-6292-4c22-93da-2369eb5c1ab3"
   },
   "outputs": [
    {
     "name": "stdout",
     "output_type": "stream",
     "text": [
      "Determinant of A =  0.0\n"
     ]
    }
   ],
   "source": [
    "print('Determinant of A = ', np.linalg.det(A))"
   ]
  },
  {
   "cell_type": "markdown",
   "metadata": {
    "id": "ihVpMWXpwuUc"
   },
   "source": [
    "Additionally, we can see that NumPy's built-in matrix solver code will throw up a `LinAlgError: Singular matrix` error as expected."
   ]
  },
  {
   "cell_type": "code",
   "execution_count": null,
   "metadata": {
    "colab": {
     "base_uri": "https://localhost:8080/",
     "height": 287
    },
    "executionInfo": {
     "elapsed": 37,
     "status": "error",
     "timestamp": 1725817934083,
     "user": {
      "displayName": "Gayatri P",
      "userId": "12002088389909785121"
     },
     "user_tz": -330
    },
    "id": "iaQabjsdwuBg",
    "outputId": "46894c41-be35-4fd0-ca8f-e2eb1177a38e"
   },
   "outputs": [
    {
     "ename": "LinAlgError",
     "evalue": "Singular matrix",
     "output_type": "error",
     "traceback": [
      "\u001b[0;31m---------------------------------------------------------------------------\u001b[0m",
      "\u001b[0;31mLinAlgError\u001b[0m                               Traceback (most recent call last)",
      "\u001b[0;32m<ipython-input-12-434f6e987f3d>\u001b[0m in \u001b[0;36m<cell line: 1>\u001b[0;34m()\u001b[0m\n\u001b[0;32m----> 1\u001b[0;31m \u001b[0mnp\u001b[0m\u001b[0;34m.\u001b[0m\u001b[0mlinalg\u001b[0m\u001b[0;34m.\u001b[0m\u001b[0msolve\u001b[0m\u001b[0;34m(\u001b[0m\u001b[0mA\u001b[0m\u001b[0;34m,\u001b[0m \u001b[0mbs\u001b[0m\u001b[0;34m)\u001b[0m\u001b[0;34m\u001b[0m\u001b[0;34m\u001b[0m\u001b[0m\n\u001b[0m",
      "\u001b[0;32m/usr/local/lib/python3.10/dist-packages/numpy/linalg/linalg.py\u001b[0m in \u001b[0;36msolve\u001b[0;34m(a, b)\u001b[0m\n\u001b[1;32m    407\u001b[0m     \u001b[0msignature\u001b[0m \u001b[0;34m=\u001b[0m \u001b[0;34m'DD->D'\u001b[0m \u001b[0;32mif\u001b[0m \u001b[0misComplexType\u001b[0m\u001b[0;34m(\u001b[0m\u001b[0mt\u001b[0m\u001b[0;34m)\u001b[0m \u001b[0;32melse\u001b[0m \u001b[0;34m'dd->d'\u001b[0m\u001b[0;34m\u001b[0m\u001b[0;34m\u001b[0m\u001b[0m\n\u001b[1;32m    408\u001b[0m     \u001b[0mextobj\u001b[0m \u001b[0;34m=\u001b[0m \u001b[0mget_linalg_error_extobj\u001b[0m\u001b[0;34m(\u001b[0m\u001b[0m_raise_linalgerror_singular\u001b[0m\u001b[0;34m)\u001b[0m\u001b[0;34m\u001b[0m\u001b[0;34m\u001b[0m\u001b[0m\n\u001b[0;32m--> 409\u001b[0;31m     \u001b[0mr\u001b[0m \u001b[0;34m=\u001b[0m \u001b[0mgufunc\u001b[0m\u001b[0;34m(\u001b[0m\u001b[0ma\u001b[0m\u001b[0;34m,\u001b[0m \u001b[0mb\u001b[0m\u001b[0;34m,\u001b[0m \u001b[0msignature\u001b[0m\u001b[0;34m=\u001b[0m\u001b[0msignature\u001b[0m\u001b[0;34m,\u001b[0m \u001b[0mextobj\u001b[0m\u001b[0;34m=\u001b[0m\u001b[0mextobj\u001b[0m\u001b[0;34m)\u001b[0m\u001b[0;34m\u001b[0m\u001b[0;34m\u001b[0m\u001b[0m\n\u001b[0m\u001b[1;32m    410\u001b[0m \u001b[0;34m\u001b[0m\u001b[0m\n\u001b[1;32m    411\u001b[0m     \u001b[0;32mreturn\u001b[0m \u001b[0mwrap\u001b[0m\u001b[0;34m(\u001b[0m\u001b[0mr\u001b[0m\u001b[0;34m.\u001b[0m\u001b[0mastype\u001b[0m\u001b[0;34m(\u001b[0m\u001b[0mresult_t\u001b[0m\u001b[0;34m,\u001b[0m \u001b[0mcopy\u001b[0m\u001b[0;34m=\u001b[0m\u001b[0;32mFalse\u001b[0m\u001b[0;34m)\u001b[0m\u001b[0;34m)\u001b[0m\u001b[0;34m\u001b[0m\u001b[0;34m\u001b[0m\u001b[0m\n",
      "\u001b[0;32m/usr/local/lib/python3.10/dist-packages/numpy/linalg/linalg.py\u001b[0m in \u001b[0;36m_raise_linalgerror_singular\u001b[0;34m(err, flag)\u001b[0m\n\u001b[1;32m    110\u001b[0m \u001b[0;34m\u001b[0m\u001b[0m\n\u001b[1;32m    111\u001b[0m \u001b[0;32mdef\u001b[0m \u001b[0m_raise_linalgerror_singular\u001b[0m\u001b[0;34m(\u001b[0m\u001b[0merr\u001b[0m\u001b[0;34m,\u001b[0m \u001b[0mflag\u001b[0m\u001b[0;34m)\u001b[0m\u001b[0;34m:\u001b[0m\u001b[0;34m\u001b[0m\u001b[0;34m\u001b[0m\u001b[0m\n\u001b[0;32m--> 112\u001b[0;31m     \u001b[0;32mraise\u001b[0m \u001b[0mLinAlgError\u001b[0m\u001b[0;34m(\u001b[0m\u001b[0;34m\"Singular matrix\"\u001b[0m\u001b[0;34m)\u001b[0m\u001b[0;34m\u001b[0m\u001b[0;34m\u001b[0m\u001b[0m\n\u001b[0m\u001b[1;32m    113\u001b[0m \u001b[0;34m\u001b[0m\u001b[0m\n\u001b[1;32m    114\u001b[0m \u001b[0;32mdef\u001b[0m \u001b[0m_raise_linalgerror_nonposdef\u001b[0m\u001b[0;34m(\u001b[0m\u001b[0merr\u001b[0m\u001b[0;34m,\u001b[0m \u001b[0mflag\u001b[0m\u001b[0;34m)\u001b[0m\u001b[0;34m:\u001b[0m\u001b[0;34m\u001b[0m\u001b[0;34m\u001b[0m\u001b[0m\n",
      "\u001b[0;31mLinAlgError\u001b[0m: Singular matrix"
     ]
    }
   ],
   "source": [
    "np.linalg.solve(A, bs)"
   ]
  },
  {
   "cell_type": "markdown",
   "metadata": {
    "id": "Mk7vpIFPhE1u"
   },
   "source": [
    "## Problem 4.18\n",
    "\n",
    "We will now employ the Jacobi iterative method to solve a linear system of equations,\n",
    "for the case where the coefficient matrix is sparse; we won’t need to explicitly store\n",
    "$A$. Focus on the following cyclic tridiagonal matrix:\n",
    "\n",
    "$$\n",
    "\\left(\\hspace{-5pt}\\begin{array}{ccccccccc|c}\n",
    "  4 & -1 & 0 & 0 & ... & 0 & 0 & 0 & -1 & 1 \\\\\n",
    "  -1 & 4 & -1 & 0 & ... & 0 & 0 & 0 & 0 & 1 \\\\\n",
    "  \\vdots & \\vdots & \\vdots & \\vdots & \\vdots & \\vdots & \\vdots & \\vdots & \\vdots & \\vdots \\\\\n",
    "  0 & 0 & 0 & 0 & ... & 0 & -1 & 4 & -1 & 1 \\\\\n",
    "  -1 & 0 & 0 & 0 & ... & 0 & 0 & -1 & 4 & 1\n",
    "\\end{array}\\hspace{-5pt}\\right)\n",
    "$$\n",
    "\n",
    "Something similar appears when you study differential equations with periodic boundary conditions, as we will see in section 8.4.2. (Note that A is “almost” a tridiagonal\n",
    "matrix.) For this problem, the Jacobi iterative method of Eq. (4.121) turns into:\n",
    "\n",
    "$$\n",
    "x^{(k)}_0 = \\left(1+x^{(k-1)}_1+x^{(k-1)}_{n-1}\\right)\\frac{1}{4}\\\\\n",
    "x^{(k)}_i = \\left(1+x^{(k-1)}_{i-1}+x^{(k-1)}_{i+1}\\right)\\frac{1}{4},\\,\\,\\,i=1,2,3,...,n-2\\\\\n",
    "x^{(k)}_{n-1} = \\left(1+x^{(k-1)}_0+x^{(k-1)}_{n-2}\\right)\\frac{1}{4}\\\\\n",
    "$$\n",
    "\n",
    "Implement the Jacobi iterative method for this set of equations. Your input parameters should be only the total number of iterations, the tolerance, as well as $n$ (which\n",
    "determines the size of the problem), i.e., there are no longer any $A$ and $b$ to be passed\n",
    "in. Choose a tolerance of $10^{−5}$ and print out the solution vectors for $n = 10$ and for $n = 20$, each time also comparing with the output of `numpy.linalg.solve()`. (To\n",
    "produce the latter, you will have to form A and b explicitly.)"
   ]
  },
  {
   "cell_type": "code",
   "execution_count": null,
   "metadata": {
    "id": "mQJiyFfBEbcF"
   },
   "outputs": [],
   "source": [
    "def termcrit(xolds,xnews):\n",
    "  errs = np.abs((xnews - xolds)/xnews)\n",
    "  return np.sum(errs)\n",
    "\n",
    "def jacobi_cyclic(n,kmax=50,tol=1.e-5):\n",
    "  xnews = np.zeros(n)\n",
    "\n",
    "  for k in range(1,kmax):\n",
    "    xs = np.copy(xnews)\n",
    "    for i in range(n):\n",
    "      # cylic iterative variables\n",
    "      p = i-1 if i != 0 else n-1\n",
    "      q = i+1 if i != n-1 else 0\n",
    "\n",
    "      xnews[i] = (1 + xs[p] + xs[q])/4\n",
    "\n",
    "    err = termcrit(xs, xnews)\n",
    "    print(f'[{k}]: {err}')\n",
    "\n",
    "    if err < tol:\n",
    "      break\n",
    "  else:\n",
    "    xnews = None\n",
    "  return xnews\n",
    "\n",
    "def generate_cyclic_matrix(n):\n",
    "  A = np.zeros((n, n))\n",
    "  for i in range(n):\n",
    "    A[i][i] = 4\n",
    "    p = i-1 if i != 0 else n-1\n",
    "    q = i+1 if i != n-1 else 0\n",
    "    A[i][p] = -1\n",
    "    A[i][q] = -1\n",
    "  return A\n",
    "\n",
    "def testsolve(f,n):\n",
    "  # generate the matrix explicitly to pass to the NumPy solve function\n",
    "  A = generate_cyclic_matrix(n)\n",
    "  bs = np.ones(n)\n",
    "\n",
    "  print('Matrix generated for n =', n)\n",
    "  print(A)\n",
    "\n",
    "  print('\\nJacobi iterative solution relative error')\n",
    "  print('[n]: Error')\n",
    "  xs = f(n)\n",
    "\n",
    "  print('\\nFinal solution based on Jacobi iterative method:')\n",
    "  xs1 = np.linalg.solve(A,bs)\n",
    "  print(xs)\n",
    "  print('\\nSolution according to numpy.linalg.solve():')\n",
    "  print(xs1)"
   ]
  },
  {
   "cell_type": "code",
   "execution_count": null,
   "metadata": {
    "colab": {
     "base_uri": "https://localhost:8080/"
    },
    "executionInfo": {
     "elapsed": 12,
     "status": "ok",
     "timestamp": 1725801156362,
     "user": {
      "displayName": "Gayatri P",
      "userId": "12002088389909785121"
     },
     "user_tz": -330
    },
    "id": "IV8AKIs0v60b",
    "outputId": "c1d3085e-2f32-4a43-cede-3d37db2b1c43"
   },
   "outputs": [
    {
     "name": "stdout",
     "output_type": "stream",
     "text": [
      "Matrix generated for n = 10\n",
      "[[ 4. -1.  0.  0.  0.  0.  0.  0.  0. -1.]\n",
      " [-1.  4. -1.  0.  0.  0.  0.  0.  0.  0.]\n",
      " [ 0. -1.  4. -1.  0.  0.  0.  0.  0.  0.]\n",
      " [ 0.  0. -1.  4. -1.  0.  0.  0.  0.  0.]\n",
      " [ 0.  0.  0. -1.  4. -1.  0.  0.  0.  0.]\n",
      " [ 0.  0.  0.  0. -1.  4. -1.  0.  0.  0.]\n",
      " [ 0.  0.  0.  0.  0. -1.  4. -1.  0.  0.]\n",
      " [ 0.  0.  0.  0.  0.  0. -1.  4. -1.  0.]\n",
      " [ 0.  0.  0.  0.  0.  0.  0. -1.  4. -1.]\n",
      " [-1.  0.  0.  0.  0.  0.  0.  0. -1.  4.]]\n",
      "\n",
      "Jacobi iterative solution relative error\n",
      "[n]: Error\n",
      "[1]: 10.0\n",
      "[2]: 3.3333333333333335\n",
      "[3]: 1.4285714285714284\n",
      "[4]: 0.6666666666666666\n",
      "[5]: 0.32258064516129026\n",
      "[6]: 0.15873015873015872\n",
      "[7]: 0.07874015748031496\n",
      "[8]: 0.0392156862745098\n",
      "[9]: 0.019569471624266144\n",
      "[10]: 0.009775171065493644\n",
      "[11]: 0.004885197850512946\n",
      "[12]: 0.002442002442002442\n",
      "[13]: 0.0012208521548040532\n",
      "[14]: 0.0006103888176768602\n",
      "[15]: 0.0003051850947599719\n",
      "[16]: 0.00015259021896696422\n",
      "[17]: 7.629452739355005e-05\n",
      "[18]: 3.8147118175957395e-05\n",
      "[19]: 1.907352270798246e-05\n",
      "[20]: 9.536752259018191e-06\n",
      "\n",
      "Final solution based on Jacobi iterative method:\n",
      "[0.49999952 0.49999952 0.49999952 0.49999952 0.49999952 0.49999952\n",
      " 0.49999952 0.49999952 0.49999952 0.49999952]\n",
      "\n",
      "Solution according to numpy.linalg.solve():\n",
      "[0.5 0.5 0.5 0.5 0.5 0.5 0.5 0.5 0.5 0.5]\n"
     ]
    }
   ],
   "source": [
    "testsolve(jacobi_cyclic, n=10)"
   ]
  },
  {
   "cell_type": "code",
   "execution_count": null,
   "metadata": {
    "colab": {
     "base_uri": "https://localhost:8080/"
    },
    "executionInfo": {
     "elapsed": 802,
     "status": "ok",
     "timestamp": 1725801175178,
     "user": {
      "displayName": "Gayatri P",
      "userId": "12002088389909785121"
     },
     "user_tz": -330
    },
    "id": "Kn1dDLElxAAv",
    "outputId": "5644d377-b68f-4d4a-e04b-3671239dd347"
   },
   "outputs": [
    {
     "name": "stdout",
     "output_type": "stream",
     "text": [
      "Matrix generated for n = 20\n",
      "[[ 4. -1.  0.  0.  0.  0.  0.  0.  0.  0.  0.  0.  0.  0.  0.  0.  0.  0.\n",
      "   0. -1.]\n",
      " [-1.  4. -1.  0.  0.  0.  0.  0.  0.  0.  0.  0.  0.  0.  0.  0.  0.  0.\n",
      "   0.  0.]\n",
      " [ 0. -1.  4. -1.  0.  0.  0.  0.  0.  0.  0.  0.  0.  0.  0.  0.  0.  0.\n",
      "   0.  0.]\n",
      " [ 0.  0. -1.  4. -1.  0.  0.  0.  0.  0.  0.  0.  0.  0.  0.  0.  0.  0.\n",
      "   0.  0.]\n",
      " [ 0.  0.  0. -1.  4. -1.  0.  0.  0.  0.  0.  0.  0.  0.  0.  0.  0.  0.\n",
      "   0.  0.]\n",
      " [ 0.  0.  0.  0. -1.  4. -1.  0.  0.  0.  0.  0.  0.  0.  0.  0.  0.  0.\n",
      "   0.  0.]\n",
      " [ 0.  0.  0.  0.  0. -1.  4. -1.  0.  0.  0.  0.  0.  0.  0.  0.  0.  0.\n",
      "   0.  0.]\n",
      " [ 0.  0.  0.  0.  0.  0. -1.  4. -1.  0.  0.  0.  0.  0.  0.  0.  0.  0.\n",
      "   0.  0.]\n",
      " [ 0.  0.  0.  0.  0.  0.  0. -1.  4. -1.  0.  0.  0.  0.  0.  0.  0.  0.\n",
      "   0.  0.]\n",
      " [ 0.  0.  0.  0.  0.  0.  0.  0. -1.  4. -1.  0.  0.  0.  0.  0.  0.  0.\n",
      "   0.  0.]\n",
      " [ 0.  0.  0.  0.  0.  0.  0.  0.  0. -1.  4. -1.  0.  0.  0.  0.  0.  0.\n",
      "   0.  0.]\n",
      " [ 0.  0.  0.  0.  0.  0.  0.  0.  0.  0. -1.  4. -1.  0.  0.  0.  0.  0.\n",
      "   0.  0.]\n",
      " [ 0.  0.  0.  0.  0.  0.  0.  0.  0.  0.  0. -1.  4. -1.  0.  0.  0.  0.\n",
      "   0.  0.]\n",
      " [ 0.  0.  0.  0.  0.  0.  0.  0.  0.  0.  0.  0. -1.  4. -1.  0.  0.  0.\n",
      "   0.  0.]\n",
      " [ 0.  0.  0.  0.  0.  0.  0.  0.  0.  0.  0.  0.  0. -1.  4. -1.  0.  0.\n",
      "   0.  0.]\n",
      " [ 0.  0.  0.  0.  0.  0.  0.  0.  0.  0.  0.  0.  0.  0. -1.  4. -1.  0.\n",
      "   0.  0.]\n",
      " [ 0.  0.  0.  0.  0.  0.  0.  0.  0.  0.  0.  0.  0.  0.  0. -1.  4. -1.\n",
      "   0.  0.]\n",
      " [ 0.  0.  0.  0.  0.  0.  0.  0.  0.  0.  0.  0.  0.  0.  0.  0. -1.  4.\n",
      "  -1.  0.]\n",
      " [ 0.  0.  0.  0.  0.  0.  0.  0.  0.  0.  0.  0.  0.  0.  0.  0.  0. -1.\n",
      "   4. -1.]\n",
      " [-1.  0.  0.  0.  0.  0.  0.  0.  0.  0.  0.  0.  0.  0.  0.  0.  0.  0.\n",
      "  -1.  4.]]\n",
      "\n",
      "Jacobi iterative solution relative error\n",
      "[n]: Error\n",
      "[1]: 20.0\n",
      "[2]: 6.666666666666665\n",
      "[3]: 2.8571428571428568\n",
      "[4]: 1.3333333333333333\n",
      "[5]: 0.6451612903225805\n",
      "[6]: 0.31746031746031744\n",
      "[7]: 0.15748031496062986\n",
      "[8]: 0.0784313725490196\n",
      "[9]: 0.03913894324853229\n",
      "[10]: 0.01955034213098729\n",
      "[11]: 0.009770395701025891\n",
      "[12]: 0.004884004884004884\n",
      "[13]: 0.0024417043096081063\n",
      "[14]: 0.0012207776353537203\n",
      "[15]: 0.0006103701895199438\n",
      "[16]: 0.00030518043793392844\n",
      "[17]: 0.0001525890547871001\n",
      "[18]: 7.629423635191479e-05\n",
      "[19]: 3.814704541596492e-05\n",
      "[20]: 1.9073504518036383e-05\n",
      "[21]: 9.536747711538177e-06\n",
      "\n",
      "Final solution based on Jacobi iterative method:\n",
      "[0.49999976 0.49999976 0.49999976 0.49999976 0.49999976 0.49999976\n",
      " 0.49999976 0.49999976 0.49999976 0.49999976 0.49999976 0.49999976\n",
      " 0.49999976 0.49999976 0.49999976 0.49999976 0.49999976 0.49999976\n",
      " 0.49999976 0.49999976]\n",
      "\n",
      "Solution according to numpy.linalg.solve():\n",
      "[0.5 0.5 0.5 0.5 0.5 0.5 0.5 0.5 0.5 0.5 0.5 0.5 0.5 0.5 0.5 0.5 0.5 0.5\n",
      " 0.5 0.5]\n"
     ]
    }
   ],
   "source": [
    "testsolve(jacobi_cyclic, n=20)"
   ]
  },
  {
   "cell_type": "markdown",
   "metadata": {
    "id": "0Ux7Ee_luRIt"
   },
   "source": [
    "**Solution:** Hence, for both $n=10, 20$ our modified Jacobi algorithm produces a result really close the required value."
   ]
  }
 ],
 "metadata": {
  "colab": {
   "authorship_tag": "ABX9TyP6O5pwztadr3+2vXsJqU5v",
   "provenance": []
  },
  "kernelspec": {
   "display_name": "Python 3",
   "name": "python3"
  },
  "language_info": {
   "name": "python"
  }
 },
 "nbformat": 4,
 "nbformat_minor": 0
}
