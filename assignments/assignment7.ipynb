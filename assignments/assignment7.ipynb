{
 "cells": [
  {
   "cell_type": "markdown",
   "metadata": {
    "id": "XAJu0i4BTWdk"
   },
   "source": [
    "# Assignment 7\n",
    "\n",
    "## Problem 4.26\n",
    "\n",
    "We will now use QR decomposition to solve a linear system of equations, $Ax = b$. This equation can be rewritten as: $QRx = b$. We can take advantage of the orthogonality of $Q$ to re-express this as: $Rx = Q^Tb$. But now the right-hand side contains only known quantities and the left-hand side has the upper-triangular matrix $R$, so a back substitution is all that’s needed. Implement this approach in Python for classical Gram–Schmidt."
   ]
  },
  {
   "cell_type": "code",
   "execution_count": 7,
   "metadata": {
    "colab": {
     "base_uri": "https://localhost:8080/"
    },
    "executionInfo": {
     "elapsed": 488,
     "status": "ok",
     "timestamp": 1726455744621,
     "user": {
      "displayName": "Gayatri P",
      "userId": "12002088389909785121"
     },
     "user_tz": -330
    },
    "id": "-zAB2IhIQF8U",
    "outputId": "c38c5ba9-0b1a-4e2e-c18c-4a4131bc0e09"
   },
   "outputs": [
    {
     "name": "stdout",
     "output_type": "stream",
     "text": [
      "Matrix A:\n",
      "[[4.58257569 4.69041576 4.79583152 4.89897949]\n",
      " [5.         5.09901951 5.19615242 5.29150262]\n",
      " [5.38516481 5.47722558 5.56776436 5.65685425]\n",
      " [5.74456265 5.83095189 5.91607978 6.        ]]\n",
      "\n",
      "Column Matrix b:\n",
      "[24.45289367 25.67697243 26.90383729 28.13337297]\n",
      "\n",
      "QR = A\n",
      "Q = [[ 0.44095855  0.74266424 -0.48002199  0.15100169]\n",
      " [ 0.48112522  0.22782622  0.60503318 -0.58882127]\n",
      " [ 0.51818773 -0.21035281  0.38538773  0.73602108]\n",
      " [ 0.5527708  -0.5935459  -0.50496538 -0.29792779]] \n",
      "R = [[1.03923048e+01 1.05829568e+01 1.07701462e+01 1.09540595e+01]\n",
      " [0.00000000e+00 3.20069752e-02 6.28525184e-02 9.26292875e-02]\n",
      " [0.00000000e+00 0.00000000e+00 7.26503393e-05 2.06738475e-04]\n",
      " [0.00000000e+00 0.00000000e+00 0.00000000e+00 3.08319779e-07]]\n",
      "\n",
      "A = QR =  [[4.58257569 4.69041576 4.79583152 4.89897949]\n",
      " [5.         5.09901951 5.19615242 5.29150262]\n",
      " [5.38516481 5.47722558 5.56776436 5.65685425]\n",
      " [5.74456265 5.83095189 5.91607978 6.        ]]\n",
      "\n",
      "Solution:\n",
      "[ 17690.96197192 -56886.91578401  60741.76490521 -21541.16063928]\n",
      "\n",
      "Solution using np.linalg.solve():\n",
      "[ 17118.95550576 -55069.99968225  58822.07615809 -20866.39258928]\n"
     ]
    }
   ],
   "source": [
    "import numpy as np\n",
    "\n",
    "def backsub(U,bs):\n",
    "  n = bs.size\n",
    "  xs = np.zeros(n)\n",
    "  for i in reversed(range(n)):\n",
    "    xs[i] = (bs[i] - U[i,i+1:]@xs[i+1:])/U[i,i]\n",
    "  return xs\n",
    "\n",
    "def mag(xs):\n",
    " return np.sqrt(np.sum(xs*xs))\n",
    "\n",
    "def qrdec(A):\n",
    "  n = A.shape[0]\n",
    "  Ap = np.copy(A)\n",
    "  Q = np.zeros((n,n))\n",
    "  R = np.zeros((n,n))\n",
    "  for j in range(n):\n",
    "    for i in range(j):\n",
    "      R[i,j] = Q[:,i]@A[:,j]\n",
    "      Ap[:,j] -= R[i,j]*Q[:,i]\n",
    "    R[j,j] = mag(Ap[:,j])\n",
    "    Q[:,j] = Ap[:,j]/R[j,j]\n",
    "  return Q, R\n",
    "\n",
    "def gram_schmidt(A, b):\n",
    "  Q, R = qrdec(A)\n",
    "  Q_trans_b = np.transpose(Q)@b\n",
    "  xs = backsub(R, Q_trans_b)\n",
    "  print('Matrix A:')\n",
    "  print(A)\n",
    "  print('\\nColumn Matrix b:')\n",
    "  print(b)\n",
    "  print('\\nQR = A\\nQ =', Q, '\\nR =', R)\n",
    "  print('\\nA = QR = ', Q@R)\n",
    "  print('\\nSolution:')\n",
    "  print(xs)\n",
    "  print('\\nSolution using np.linalg.solve():')\n",
    "  print(np.linalg.solve(A, b))\n",
    "\n",
    "def testcreate(n,val):\n",
    "  A = np.arange(val,val+n*n).reshape(n,n)\n",
    "  A = np.sqrt(A)\n",
    "  bs = (A[0,:])**2.1\n",
    "  return A, bs\n",
    "\n",
    "A, bs = testcreate(4, 21)\n",
    "gram_schmidt(A, bs)"
   ]
  },
  {
   "cell_type": "markdown",
   "metadata": {
    "id": "nacE-qdgT6WM"
   },
   "source": [
    "## Problem 4.31\n",
    "\n",
    "Finding the eigenvectors of an upper triangular matrix $U$ is (much) easier than finding the eigenvectors of a general matrix. Most obviously, the first column of the identity matrix, $e_0$ as per Eq. (4.100), is an eigenvector of our triangular matrix. To see how\n",
    "to find the rest, first partition our $n × n$ matrix as follows:\n",
    "\n",
    "$$\n",
    "U = \\begin{pmatrix}\n",
    "U_{00} & U_{0i} & R\\\\\n",
    "0 & U_{ii} & S\\\\\n",
    "0 & 0 & T\n",
    "\\end{pmatrix}\n",
    "$$\n",
    "\n",
    "where, crucially, $U_{ii}$ is a matrix element and $U_{00}$ is a submatrix; this means that $U_{0i}$ is a vector ($R, S,$ and $T$ won’t matter in what follows).\n",
    "\n",
    "First, write down the eigenvector of $U$ with eigenvalue $U_{ii}$ as $\\begin{pmatrix}\n",
    "x_0 & 1 & 0\n",
    "\\end{pmatrix}^T$ and show that you can find $x_0$ by solving the upper-triangular system of equations:\n",
    "$$\n",
    "(U_{00} - U_{ii}I)x_0 = −U_{0i}\n",
    "$$\n",
    "\n",
    "Second, implement this approach programmatically to find all the eigenvectors of an upper-triangular matrix. (Return unit-norm versions of the eigenvectors.)"
   ]
  },
  {
   "cell_type": "markdown",
   "metadata": {
    "id": "xTKYXL2Z_Ieu"
   },
   "source": [
    "**Solution:** Consider the $n\\times n$ upper triangular matrix\n",
    "\n",
    "$$\n",
    "U = \\begin{pmatrix}\n",
    "U_{00} & U_{01} & \\dots & U_{0n}\\\\\n",
    "0 & U_{11} & \\dots & U_{1n}\\\\\n",
    "\\vdots & \\vdots & \\vdots & \\vdots\\\\\n",
    "0 & 0 & \\dots & U_{nn}\n",
    "\\end{pmatrix}\n",
    "$$\n",
    "\n",
    "Let the eigenvector be $\\begin{pmatrix}\n",
    "x_0 & 1 & 0\n",
    "\\end{pmatrix}^T$\n",
    "\n",
    "$$\n",
    "\\implies \\begin{pmatrix}\n",
    "U_{00} & U_{0i} & R\\\\\n",
    "0 & U_{ii} & S\\\\\n",
    "0 & 0 & T\n",
    "\\end{pmatrix}\\begin{pmatrix}\n",
    "x_0 \\\\ 1 \\\\ 0\n",
    "\\end{pmatrix} = U_{ii}\\begin{pmatrix}\n",
    "x_0 \\\\ 1 \\\\ 0\n",
    "\\end{pmatrix}\\\\\n",
    "\\implies U_{00}x_0 +U_{0i}=U_{ii}x_0\\\\\n",
    "\\implies (U_{ii}-U_{00})x_0 = U_{0i}\\\\\n",
    "\\text{or, } \\boxed{(U_{00}-U_{ii})x_0 = -U_{0i}}\n",
    "$$"
   ]
  },
  {
   "cell_type": "code",
   "execution_count": 13,
   "metadata": {
    "colab": {
     "base_uri": "https://localhost:8080/"
    },
    "executionInfo": {
     "elapsed": 472,
     "status": "ok",
     "timestamp": 1726456061290,
     "user": {
      "displayName": "Gayatri P",
      "userId": "12002088389909785121"
     },
     "user_tz": -330
    },
    "id": "oMwxNME5VS5_",
    "outputId": "86fe67c2-db0a-47a9-e9c3-c83ac222a2e6"
   },
   "outputs": [
    {
     "name": "stdout",
     "output_type": "stream",
     "text": [
      "Matrix A:\n",
      " [[1 2 3]\n",
      " [0 4 5]\n",
      " [0 0 6]]\n",
      "\n",
      "Eigenvectors of A:\n",
      "[-0.88225755 -0.36760731  0.29408585]\n",
      "[-0.89442719  0.4472136   0.        ]\n",
      "[1. 0. 0.]\n"
     ]
    }
   ],
   "source": [
    "import numpy as np\n",
    "\n",
    "def find_eigenvectors(A):\n",
    "  eigenvectors = []\n",
    "  n = A.shape[0]\n",
    "\n",
    "  for i in range(n-1, -1, -1):\n",
    "    x = np.zeros(n)\n",
    "    x[i] = 1\n",
    "    for j in range(i - 1, -1, -1):\n",
    "      x[j] = -(A[j, i] * x[i]) / A[j, j]\n",
    "    x /= np.linalg.norm(x)\n",
    "    eigenvectors.append(x)\n",
    "\n",
    "  return eigenvectors\n",
    "\n",
    "A = np.array([[1, 2, 3],\n",
    "              [0, 4, 5],\n",
    "              [0, 0, 6]])\n",
    "\n",
    "eigenvectors = find_eigenvectors(A)\n",
    "\n",
    "print('Matrix A:\\n', A)\n",
    "print('\\nEigenvectors of A:')\n",
    "for vect in eigenvectors:\n",
    "  print(vect)"
   ]
  }
 ],
 "metadata": {
  "colab": {
   "authorship_tag": "ABX9TyOmZeIeKDs2UtjzYaHaMuJI",
   "provenance": []
  },
  "kernelspec": {
   "display_name": "Python 3",
   "name": "python3"
  },
  "language_info": {
   "name": "python"
  }
 },
 "nbformat": 4,
 "nbformat_minor": 0
}
