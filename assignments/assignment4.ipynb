{
 "cells": [
  {
   "cell_type": "markdown",
   "id": "cdec4e17",
   "metadata": {
    "id": "T-D1WDSVF5qk"
   },
   "source": [
    "# Assignment 4"
   ]
  },
  {
   "cell_type": "code",
   "execution_count": 57,
   "id": "f701c5c4",
   "metadata": {
    "id": "0xUrk9X9twKt"
   },
   "outputs": [],
   "source": [
    "import numpy as np\n",
    "import matplotlib.pyplot as plt"
   ]
  },
  {
   "cell_type": "markdown",
   "id": "dc5ee337",
   "metadata": {
    "id": "8soeZPCQ8trK"
   },
   "source": [
    "## Problem 3.14\n",
    "\n",
    "In the main text we used Richardson extrapolation in order to rederive a second forward-difference formula for the first derivative, see Eq. (3.49). Do the same (i.e., don’t use Taylor series) for the third forward difference for the first derivative."
   ]
  },
  {
   "cell_type": "markdown",
   "id": "b6afb4d7",
   "metadata": {},
   "source": [
    "**Solution:** According to the Richardson extrapolation, exact answer of the calculation G is given by\n",
    "\n",
    "$$\n",
    "G = \\frac{2^pg(h/2)-g(h)}{2^p-1}+O(h^{p+q})\n",
    "$$\n",
    "\n",
    "where $g(h)$ is the approximate answer and $p$ denotes the order of the leading error term and $q$ is the increment in the order for the error terms after that. The second forward-difference formula for the first derivative is,\n",
    "\n",
    "$$\n",
    "D_{fd}(h) = \\frac{4f(x+\\frac{h}{2})- f(x+h)-3f(x)}{h} + O(h^2)\n",
    "$$\n",
    "\n",
    "For the third forward difference for the first derivative, $p=2$ and $q=1$.\n",
    "\n",
    "$$\n",
    "R_{fd} = \\frac{4D_{fd}(h/2)-D_{fd}(h)}{4-1} + O(h^3)\\\\\n",
    "R_{fd}= \\frac{1}{3}\\left(\\frac{4\\left[4f(x+\\frac{h}{4})-f(x+\\frac{h}{2})-3f(x)\\right]}{h/2} - \\frac{4f(x+\\frac{h}{2})-f(x+h)-3f(x)}{h}\\right)+ O(h^3)\\\\\n",
    "R_{fd}= \\frac{32f(x+\\frac{h}{4})-12f(x+\\frac{h}{2})+f(x+h)-21f(x)}{3h}+ O(h^3)\n",
    "$$\n",
    "\n",
    "Hence, $R_{fd}$ is the third forward difference for the first derivative with the leading error term of the order $O(h^3)$."
   ]
  },
  {
   "cell_type": "markdown",
   "id": "c9215cc2",
   "metadata": {
    "id": "8soeZPCQ8trK"
   },
   "source": [
    "## Problem 3.16\n",
    "\n",
    "We will now discuss an application of Richardson extrapolation which does not involve finite differences. Inspired by Archimedes’ approach to approximating the value of $\\pi$ (namely inscribing a regular polygon in a circle with unit diameter), we write down the perimeter of a polygon with $2^n$ angles $g_n = 2^n \\sin(\\pi/2^n)$.\n",
    "\n",
    "(a) Set $h = 2^{−n}$ and then Taylor/Maclaurin expand the sine so as to produce a systematic theory for the dependence of $g$ on $h$, i.e., $g(h)$."
   ]
  },
  {
   "cell_type": "markdown",
   "id": "66003a5c",
   "metadata": {},
   "source": [
    "**Solution:** We know that,\n",
    "\n",
    "$$\n",
    "\\sin(x) = x - \\frac{x^3}{3!} + \\frac{x^5}{5!} - \\frac{x^7}{7!} + \\frac{x^9}{9!} + ...\\\\\n",
    "\\implies 2^n \\sin(\\pi/ 2^n) = \\pi - \\frac{\\pi^3}{3!  (2^n)^2} + \\frac{\\pi^5}{5!  (2^n)^4} - \\frac{\\pi^7}{7!  (2^n)^6} + ...\n",
    "$$\n",
    "\n",
    "putting $h=2^{-n}$,\n",
    "\n",
    "$$\n",
    "    g(h) = \\pi  - \\frac{\\pi^3 h^2}{3!} + \\frac{\\pi^5 h^4}{5!} - \\frac{\\pi^7 h^6}{7!} + O(h^8)\\\\\n",
    "    \\implies g(h) = \\pi + \\sum_{n=1}^\\infty \\frac{(-1)^n \\pi^{2n+1} h^{2n}}{(2n+1)!}\n",
    "$$"
   ]
  },
  {
   "cell_type": "markdown",
   "id": "907e1150",
   "metadata": {
    "id": "8soeZPCQ8trK"
   },
   "source": [
    "(b) In the previous part you should have found that, to begin with, in the language\n",
    "of Eq. (3.47) you have:\n",
    "\n",
    "$$\n",
    "G=\\frac{4g(h/2)-g(h)}{3} + O(h^4)\n",
    "$$\n",
    "\n",
    "Take $n = 2, . . ., 10$ and apply $g_n = 2^n \\sin(\\pi/2^n)$. Then, use those values as input to Eq. (3.91) to produce extrapolated estimates."
   ]
  },
  {
   "cell_type": "markdown",
   "id": "1d27ee76",
   "metadata": {},
   "source": [
    "**Solution:** For $O(h^4)$ error, where $p=2$ and $q=2$\n",
    "$$\n",
    "    g(h) = \\pi  - \\frac{\\pi^3 h^2}{3!} + O(h^4)\\\\\n",
    "$$\n"
   ]
  },
  {
   "cell_type": "code",
   "execution_count": 148,
   "id": "e6b88df9",
   "metadata": {},
   "outputs": [
    {
     "name": "stdout",
     "output_type": "stream",
     "text": [
      "n = 2; Approximation of pi: 3.0772888734507617; Error bar: 0.06430378013903137\n",
      "n = 3; Approximation of pi: 3.1174064272510473; Error bar: 0.024186226338745787\n",
      "n = 4; Approximation of pi: 3.1350345214949917; Error bar: 0.006558132094801383\n",
      "n = 5; Approximation of pi: 3.1399211225212427; Error bar: 0.001671531068550447\n",
      "n = 6; Approximation of pi: 3.141172770750749; Error bar: 0.000419882839044039\n",
      "n = 7; Approximation of pi: 3.1414875578732473; Error bar: 0.00010509571654582217\n",
      "n = 8; Approximation of pi: 3.1415663718477; Error bar: 2.6281742093292593e-05\n",
      "n = 9; Approximation of pi: 3.1415860826659596; Error bar: 6.570923833493225e-06\n",
      "n = 10; Approximation of pi: 3.1415910108283147; Error bar: 1.6427614784042532e-06\n"
     ]
    }
   ],
   "source": [
    "ns = [i for i in range(2,11)]\n",
    "ps = [2**n * np.sin(np.pi/2**n) for n in ns]\n",
    "qs = [(4*ps[i+1] - ps[i])/3 for i in range(8)]\n",
    "rs = [(16*qs[i+1] - qs[i])/15 for i in range(7)]\n",
    "print(ps)\n",
    "print(qs)\n",
    "print(rs)"
   ]
  },
  {
   "cell_type": "markdown",
   "id": "74e90025",
   "metadata": {},
   "source": [
    "Here, we can see that the error bar has is of the order of $10^{-6}$ for $n=10$. We can observe that as $n$ increases, the value of $\\pi$ gets closer and closer to the real value."
   ]
  },
  {
   "cell_type": "markdown",
   "id": "89e326e6",
   "metadata": {},
   "source": [
    "(c) You should now see a pattern following from the above Taylor expansion. In\n",
    "the previous part you cancelled the error $O(h^2)$, so you were left with a theory\n",
    "having $p = 4$ and $q = 2$. Apply Eq. (3.47) to the results you produced in the\n",
    "previous part to carry out a further round of Richardson extrapolation. (This is\n",
    "quite similar to what we will encounter in Eq. (7.87).)"
   ]
  },
  {
   "cell_type": "markdown",
   "id": "260d6198",
   "metadata": {},
   "source": [
    "**Solution:** For a further round of Richardson extrapolation, we cancel out the $O(h^4)$ error. Here, $p=4$ and $q=2$.\n",
    "$$\n",
    "    g(h) = \\pi  - \\frac{\\pi^3 h^2}{3!} + \\frac{\\pi^5 h^4}{5!}+ O(h^6)\\\\\n",
    "$$\n"
   ]
  },
  {
   "cell_type": "code",
   "execution_count": 146,
   "id": "a0e02aab",
   "metadata": {},
   "outputs": [
    {
     "name": "stdout",
     "output_type": "stream",
     "text": [
      "n = 2; Approximation of pi: 3.1424471995626337; Error bar: 0.0008545459728406257\n",
      "n = 3; Approximation of pi: 3.14145815663389; Error bar: 0.0001344969559031739\n",
      "n = 4; Approximation of pi: 3.1415362019553057; Error bar: 5.6451634487419966e-05\n",
      "n = 5; Approximation of pi: 3.1415771097327108; Error bar: 1.5543857082356283e-05\n",
      "n = 6; Approximation of pi: 3.141588678173762; Error bar: 3.975416031032353e-06\n",
      "n = 7; Approximation of pi: 3.1415916541449675; Error bar: 9.994448255667976e-07\n",
      "n = 8; Approximation of pi: 3.1415924033791596; Error bar: 2.502106335455778e-07\n",
      "n = 9; Approximation of pi: 3.141592591015296; Error bar: 6.257449713942265e-08\n",
      "n = 10; Approximation of pi: 3.141592637944804; Error bar: 1.5644989304064438e-08\n"
     ]
    }
   ],
   "source": [
    "p = 4\n",
    "for n in range(2, 11):\n",
    "    # Here n is the number of iterations\n",
    "    pi_approx = richardson(n, p)\n",
    "    print(f\"n = {n}; Approximation of pi: {pi_approx}; Error bar: {abs(np.pi-pi_approx)}\")"
   ]
  },
  {
   "cell_type": "markdown",
   "id": "fdb3c591",
   "metadata": {},
   "source": [
    "Here, we can see that the error bar has further decreased down to the order of $10^{-8}$ for $n=10$, which is two orders less that the previous part (b), as predicted by Richardson extrapolation."
   ]
  },
  {
   "cell_type": "markdown",
   "id": "f2f9671b",
   "metadata": {
    "id": "8soeZPCQ8trK"
   },
   "source": [
    "## Problem 4.5\n",
    "\n",
    "For a matrix A, implement: (a) finding the lower and upper triangular part, (b) the\n",
    "Frobenius norm, and (c) the infinity norm. You can use NumPy but, obviously, you\n",
    "shouldn’t use the functions that have been designed to give the corresponding answer\n",
    "each time."
   ]
  },
  {
   "cell_type": "markdown",
   "id": "44237560",
   "metadata": {},
   "source": [
    "### Upper and Lower triangular part"
   ]
  },
  {
   "cell_type": "code",
   "execution_count": 108,
   "id": "2ee22471",
   "metadata": {},
   "outputs": [],
   "source": [
    "def upper_triangular(M):\n",
    "    rows, cols = len(M), len(M[0])\n",
    "    N = [[] for _ in range(rows)]\n",
    "    for i in range(rows):\n",
    "        for j in range(cols):\n",
    "            if i > j:\n",
    "                N[i].append(0)\n",
    "            else:\n",
    "                N[i].append(M[i][j])\n",
    "    return N\n",
    "\n",
    "def lower_triangular(M):\n",
    "    rows, cols = len(M), len(M[0])\n",
    "    N = [[] for _ in range(rows)]\n",
    "    for i in range(rows):\n",
    "        for j in range(cols):\n",
    "            if i < j:\n",
    "                N[i].append(0)\n",
    "            else:\n",
    "                N[i].append(M[i][j])\n",
    "    return N"
   ]
  },
  {
   "cell_type": "code",
   "execution_count": 109,
   "id": "4a00a419",
   "metadata": {},
   "outputs": [
    {
     "name": "stdout",
     "output_type": "stream",
     "text": [
      "Upper triangular matrix of M calculated:\n",
      "[1, 2, 3]\n",
      "[0, 5, 6]\n",
      "[0, 0, 9]\n",
      "[0, 0, 0]\n",
      "Upper triangular matrix of M using NumPy:\n",
      "[1 2 3]\n",
      "[0 5 6]\n",
      "[0 0 9]\n",
      "[0 0 0]\n"
     ]
    }
   ],
   "source": [
    "M = [[1,2,3],[4,5,6],[7,8,9],[9,5,1]]\n",
    "print('Upper triangular matrix of M calculated:')\n",
    "for row in upper_triangular(M):\n",
    "    print(row)\n",
    "print('Upper triangular matrix of M using NumPy:')\n",
    "for row in np.triu(M):\n",
    "    print(row)"
   ]
  },
  {
   "cell_type": "code",
   "execution_count": 110,
   "id": "a0c92c48",
   "metadata": {},
   "outputs": [
    {
     "name": "stdout",
     "output_type": "stream",
     "text": [
      "Lower triangular matrix of M calculated:\n",
      "[1, 0, 0]\n",
      "[4, 5, 0]\n",
      "[7, 8, 9]\n",
      "[9, 5, 1]\n",
      "Lower triangular matrix of M using NumPy:\n",
      "[1 0 0]\n",
      "[4 5 0]\n",
      "[7 8 9]\n",
      "[9 5 1]\n"
     ]
    }
   ],
   "source": [
    "M = [[1,2,3],[4,5,6],[7,8,9],[9,5,1]]\n",
    "print('Lower triangular matrix of M calculated:')\n",
    "for row in lower_triangular(M):\n",
    "    print(row)\n",
    "print('Lower triangular matrix of M using NumPy:')\n",
    "for row in np.tril(M):\n",
    "    print(row)"
   ]
  },
  {
   "cell_type": "markdown",
   "id": "c8a3a656",
   "metadata": {},
   "source": [
    "### Frobenius norm"
   ]
  },
  {
   "cell_type": "code",
   "execution_count": 111,
   "id": "c2411db0",
   "metadata": {},
   "outputs": [
    {
     "name": "stdout",
     "output_type": "stream",
     "text": [
      "Frobenius norm of M calculated :  19.79898987322333\n",
      "Frobenius norm of M using NumPy:  19.79898987322333\n"
     ]
    }
   ],
   "source": [
    "def frobenius_norm(M):\n",
    "    norm = 0\n",
    "    rows, cols = len(M), len(M[0])\n",
    "    for i in range(rows):\n",
    "        for j in range(cols):\n",
    "            norm += M[i][j]**2\n",
    "\n",
    "    return norm**0.5\n",
    "\n",
    "print('Frobenius norm of M calculated : ', frobenius_norm(M))\n",
    "print('Frobenius norm of M using NumPy: ', np.linalg.norm(M))"
   ]
  },
  {
   "cell_type": "markdown",
   "id": "b6c6002a",
   "metadata": {},
   "source": [
    "### Infinity norm"
   ]
  },
  {
   "cell_type": "code",
   "execution_count": 112,
   "id": "d87e3bb4",
   "metadata": {},
   "outputs": [
    {
     "name": "stdout",
     "output_type": "stream",
     "text": [
      "Infinity norm of M calculated :  24\n",
      "Infinity norm of M using NumPy:  24.0\n"
     ]
    }
   ],
   "source": [
    "def infinity_norm(M):\n",
    "    # if M is not a column vector, we convert in into one\n",
    "    N = [sum(row) for row in M] \n",
    "    xi = [abs(row) for row in N] \n",
    "    return max(xi)\n",
    "\n",
    "print('Infinity norm of M calculated : ', infinity_norm(M))\n",
    "print('Infinity norm of M using NumPy: ', np.linalg.norm(M, ord=np.inf))"
   ]
  },
  {
   "cell_type": "markdown",
   "id": "ef394a22",
   "metadata": {
    "id": "8soeZPCQ8trK"
   },
   "source": [
    "## Problem 4.8\n",
    "\n",
    "Evaluate the norm and condition number $\\kappa (A)$ for the $4 × 4$, $10 × 10$, and $20 × 20$\n",
    "matrices you get from `triang.testcreate()`; feel free to use NumPy functionality."
   ]
  },
  {
   "cell_type": "markdown",
   "id": "e6c00847",
   "metadata": {},
   "source": [
    "**Solution:** Using the formula $\\kappa(M) = ||M||\\times||M^{-1}||$"
   ]
  },
  {
   "cell_type": "code",
   "execution_count": 113,
   "id": "03dea718",
   "metadata": {},
   "outputs": [],
   "source": [
    "def testcreate(n,val):\n",
    "    A = np.arange(val,val+n*n).reshape(n,n)\n",
    "    A = np.sqrt(A)\n",
    "    bs = (A[0,:])**2.1\n",
    "    return A, bs\n",
    "\n",
    "def kappa(M):\n",
    "    Minv = np.linalg.inv(M)\n",
    "    return np.linalg.norm(M)*np.linalg.norm(Minv)\n",
    "\n",
    "def norm(M):\n",
    "    norm = 0\n",
    "    rows, cols = len(M), len(M[0])\n",
    "    for i in range(rows):\n",
    "        for j in range(cols):\n",
    "            norm += M[i][j]**2\n",
    "\n",
    "    return norm**0.5"
   ]
  },
  {
   "cell_type": "code",
   "execution_count": 97,
   "id": "860c9f17",
   "metadata": {},
   "outputs": [],
   "source": [
    "fourM, _ = testcreate(4, 21)\n",
    "tenM, _ = testcreate(10, 21)\n",
    "twentyM, _ = testcreate(20, 21)"
   ]
  },
  {
   "cell_type": "code",
   "execution_count": 117,
   "id": "764a30d8",
   "metadata": {},
   "outputs": [
    {
     "name": "stdout",
     "output_type": "stream",
     "text": [
      "Norms\n",
      "Matrix       | Calculated norm    | Using linalg.norm()\n",
      "------------------------------------------------------\n",
      "4x4 matrix   | 21.354156504062622 | 21.354156504062622\n",
      "10x10 matrix | 83.96427811873333  | 83.96427811873333\n",
      "20x20 matrix | 296.98484809834997 | 296.98484809834997\n"
     ]
    }
   ],
   "source": [
    "print('Norms')\n",
    "print('Matrix       | Calculated norm    | Using linalg.norm()')\n",
    "print('-'*54)\n",
    "print('4x4 matrix   |', norm(fourM), '|', np.linalg.norm(fourM))\n",
    "print('10x10 matrix |', norm(tenM), ' |', np.linalg.norm(tenM))\n",
    "print('20x20 matrix |', norm(twentyM), '|', np.linalg.norm(twentyM))"
   ]
  },
  {
   "cell_type": "code",
   "execution_count": 122,
   "id": "788a7a8b",
   "metadata": {},
   "outputs": [
    {
     "name": "stdout",
     "output_type": "stream",
     "text": [
      "Condition numbers\n",
      "Matrix       | Calculated kappa       | Using linalg.cond()\n",
      "----------------------------------------------------------------------\n",
      "4x4 matrix   | 286206168.8401083      | 286204585.7850762\n",
      "10x10 matrix | 4.8405393063922456e+16 | 4.4203343826650816e+17\n",
      "20x20 matrix | 1.3100221871120957e+18 | 2.2754580965939308e+18\n"
     ]
    }
   ],
   "source": [
    "print('Condition numbers')\n",
    "print('Matrix       | Calculated kappa       | Using linalg.cond()')\n",
    "print('-'*70)\n",
    "print('4x4 matrix   |', kappa(fourM), '     |', np.linalg.cond(fourM))\n",
    "print('10x10 matrix |', kappa(tenM), '|', np.linalg.cond(tenM))\n",
    "print('20x20 matrix |', kappa(twentyM), '|', np.linalg.cond(twentyM))"
   ]
  },
  {
   "cell_type": "markdown",
   "id": "7f58d7d6",
   "metadata": {},
   "source": [
    "Here, we can see that while the norm is calculated accurately, the condition numbers are not that accurate, although their order is roughly the same. These matrices have high values of $\\kappa$, which means that a small perturbation can lead to a large amplifications while performing operations with these matrices."
   ]
  }
 ],
 "metadata": {
  "kernelspec": {
   "display_name": "Python 3",
   "language": "python",
   "name": "python3"
  }
 },
 "nbformat": 4,
 "nbformat_minor": 5
}
