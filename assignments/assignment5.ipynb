{
  "nbformat": 4,
  "nbformat_minor": 0,
  "metadata": {
    "colab": {
      "provenance": []
    },
    "kernelspec": {
      "name": "python3",
      "display_name": "Python 3"
    },
    "language_info": {
      "name": "python"
    }
  },
  "cells": [
    {
      "cell_type": "markdown",
      "source": [
        "# Assignment 5"
      ],
      "metadata": {
        "id": "U5Ic-ai6XJbE"
      }
    },
    {
      "cell_type": "markdown",
      "source": [
        "## Problem 4.9\n",
        "In this problem we will evaluate the sum $\\sum_{k=0}^{n-1}k^2$ needed for Eqn 4.82. The trick we'll use is to start from the following sum\n",
        "\n",
        "$$\n",
        "\\sum_{k=0}^{N}\\left[(k+1)^3-k^3\\right]\n",
        "$$\n",
        "\n",
        "First evaluate this sum without expanding the parentheses: you will notice that it involves a telescoping series and is therefore straightforward. Now that you know what this sum is equal to, expand the parentheses and solve for the sum we started with. Finally, it should be trivial to re-express the final result for the case $N = n - 1$."
      ],
      "metadata": {
        "id": "wXNsb0CyXT5n"
      }
    },
    {
      "cell_type": "markdown",
      "source": [
        "**Solution:** Evaluating the sum without expanding the parentheses,\n",
        "\n",
        "$$\n",
        "\\sum_{k=0}^{N}\\left[(k+1)^3-k^3\\right] = (1^3-0^3)+(2^3-1^3)+(3^3-2^3)+...+[N^3-(N-1)^3]+[(N+1)^3-N^3]\n",
        "$$\n",
        "\n",
        "Since this is a telescopic series all terms will cancel out except the first and last terms,\n",
        "\n",
        "$$\n",
        "\\sum_{k=0}^{N}\\left[(k+1)^3-k^3\\right] = (N+1)^3-0^3 = (N+1)^3\n",
        "$$\n",
        "\n",
        "Now, expanding the parenthesis,\n",
        "\n",
        "$$\n",
        "\\sum_{k=0}^{N}\\left[(k+1)^3-k^3\\right] = \\sum_{k=0}^{N}\\left[k^3+1^3+3k^2+3k-k^3\\right]\\\\\n",
        "\\implies (N+1)^3=3\\sum_{k=0}^{N}k^2+3\\sum_{k=0}^{N}k+\\sum_{k=0}^{N}1\\\\\n",
        "\\implies 3\\sum_{k=0}^{N}k^2 = (N+1)^3 - 3\\left(\\frac{N(N+1)}{2}\\right) - (N+1)\\\\\n",
        "=\\frac{(2N^3+2+6N^2+6N)-3N^2-3N-2N-2}{2}\\\\\n",
        "=\\frac{2N^3+3N^2+N}{2}\\\\\n",
        "=\\frac{N(2N^2+3N+1)}{2}\\\\\n",
        "=\\frac{N(N+1)(2N+1)}{2}\\\\\n",
        "$$\n",
        "\n",
        "Hence the summation equates to,\n",
        "\n",
        "$$\n",
        "\\sum_{k=0}^{N}k^2 = \\frac{N(N+1)(2N+1)}{6}\n",
        "$$\n",
        "\n",
        "on changing the $N=n-1$,\n",
        "\\begin{align*}\n",
        "  \\boxed{\\sum_{k=0}^{n-1}k^2 = \\frac{n(n-1)(2n-1)}{6}}\n",
        "\\end{align*}"
      ],
      "metadata": {
        "id": "-nyzlu47YBjO"
      }
    },
    {
      "cell_type": "markdown",
      "source": [
        "## Problem 4.10\n",
        "\n",
        "Update `gauelim.py` such that it can handle multiple constant vectors. In other words, generalize `gauelim()` such that it takes in an $n × n$ matrix $A$ and an $n × m$ matrix $B$, where $m$ is the number of distinct constant vectors you will be handling. The output\n",
        "should be an $n × m$ matrix $X$, collecting all the solution vectors:\n",
        "\n",
        "$$\n",
        "\\vec{X}=(\\vec{x_0}\\,\\,\\,\\,\\vec{x_1}\\dots\\,\\,\\vec{x_{m-1}})\\\\\n",
        "\\vec{B}=(\\vec{b_0}\\,\\,\\,\\,\\vec{b_1}\\dots\\,\\,\\vec{b_{m-1}})\n",
        "$$\n",
        "\n",
        "Test out the case where $A$ is a $4 × 4$ matrix and $B$ is $4 × 3$."
      ],
      "metadata": {
        "id": "MlBUcC17ZWOy"
      }
    },
    {
      "cell_type": "code",
      "execution_count": null,
      "metadata": {
        "id": "aWBYM53EW6hf"
      },
      "outputs": [],
      "source": [
        "import numpy as np\n",
        "\n",
        "def backsub(U,bs):\n",
        "  ''' Back subtitution algorithm for an upper triangular matrix'''\n",
        "  n = bs.size\n",
        "  xs = np.zeros(n)\n",
        "  for i in reversed(range(n)):\n",
        "    xs[i] = (bs[i] - U[i,i+1:]@xs[i+1:])/U[i,i]\n",
        "  return xs\n",
        "\n",
        "def testcreate(n,m,val):\n",
        "  '''Test function to create a n x n and an n x m matrix'''\n",
        "  A = np.arange(val,val+n*n).reshape(n,n)\n",
        "  A = np.sqrt(A)\n",
        "  bs = (A[:m,:])**2.1\n",
        "  if m > n:\n",
        "    for i in range(0, m-n):\n",
        "      bs = np.append(bs, [bs[0]**(i/2+0.2)], axis=0)\n",
        "  return A, bs\n",
        "\n",
        "def testsolve(f,A,B):\n",
        "  '''Test function to generate a solution matrix using custom code and library code for comparison'''\n",
        "  X = f(A, B)\n",
        "  Xlib = []\n",
        "  for i in range(len(B)):\n",
        "    xs = np.linalg.solve(A,B[i])\n",
        "    Xlib.append(xs)\n",
        "  return X, np.array(Xlib)"
      ]
    },
    {
      "cell_type": "code",
      "source": [
        "def gauelim(inA, inB):\n",
        "  X = [] # solution vectors are stored here\n",
        "  n = inB[0].size\n",
        "\n",
        "  # create a lower triangular matrix from A by performing gausian elimination\n",
        "  # and store the require coefficients in another matrix\n",
        "  coeffs = np.zeros(np.shape(inA))\n",
        "  A = np.copy(inA)\n",
        "  for j in range(n-1):\n",
        "    for i in range(j+1,n):\n",
        "      coeff = A[i,j]/A[j,j]\n",
        "      A[i,j:] -= coeff*A[j,j:]\n",
        "      coeffs[i][j] = coeff\n",
        "\n",
        "  # iterate each item of bi and perfrom operations as per the\n",
        "  # previously created coefficient matrix\n",
        "  for inbs in inB:\n",
        "    bs = np.copy(inbs)\n",
        "    for j in range(n-1):\n",
        "      for i in range(j+1,n):\n",
        "        bs[i] -= coeffs[i][j]*bs[j]\n",
        "\n",
        "    # finally perform back substitution using the\n",
        "    # previously calculated lower triangular matrix\n",
        "    xs = backsub(A,bs)\n",
        "    X.append(xs)\n",
        "\n",
        "  return np.array(X)"
      ],
      "metadata": {
        "id": "nFiQAXS6pdOt"
      },
      "execution_count": null,
      "outputs": []
    },
    {
      "cell_type": "code",
      "source": [
        "# testing\n",
        "A, B = testcreate(n=4, m=3, val=21)\n",
        "print('Matrix A')\n",
        "print(A)\n",
        "print('\\nMatrix B (Constant Vectors)')\n",
        "print(np.transpose(B))\n",
        "X, Xlib = testsolve(gauelim, A, B)\n",
        "print('\\nSolution Vectors')\n",
        "print(np.transpose(X))\n",
        "print('\\nSolution Vectors generated using numpy.linalg.solve()')\n",
        "print(np.transpose(Xlib))"
      ],
      "metadata": {
        "colab": {
          "base_uri": "https://localhost:8080/"
        },
        "id": "5K6TIxLcfyXY",
        "outputId": "08da70c5-66de-42ef-819a-384ccc6c0ef3"
      },
      "execution_count": null,
      "outputs": [
        {
          "output_type": "stream",
          "name": "stdout",
          "text": [
            "Matrix A\n",
            "[[4.58257569 4.69041576 4.79583152 4.89897949]\n",
            " [5.         5.09901951 5.19615242 5.29150262]\n",
            " [5.38516481 5.47722558 5.56776436 5.65685425]\n",
            " [5.74456265 5.83095189 5.91607978 6.        ]]\n",
            "\n",
            "Matrix B (Constant Vectors)\n",
            "[[24.45289367 29.36547358 34.31767822]\n",
            " [25.67697243 30.60004149 35.5612745 ]\n",
            " [26.90383729 31.83698643 36.80694553]\n",
            " [28.13337297 33.07622465 38.05462768]]\n",
            "\n",
            "Solution Vectors\n",
            "[[ 17118.9554009   14276.82461745  11407.7199386 ]\n",
            " [-55069.99934969 -45710.45691492 -36261.30692494]\n",
            " [ 58822.07580723  48582.47137498  38244.03373634]\n",
            " [-20866.39246612 -17143.88975603 -13385.187617  ]]\n",
            "\n",
            "Solution Vectors generated using numpy.linalg.solve()\n",
            "[[ 17118.95550576  14276.82470448  11407.72000762]\n",
            " [-55069.99968225 -45710.45719093 -36261.30714383]\n",
            " [ 58822.07615809  48582.47166618  38244.03396728]\n",
            " [-20866.39258928 -17143.88985825 -13385.18769806]]\n"
          ]
        }
      ]
    }
  ]
}