{
 "cells": [
  {
   "cell_type": "markdown",
   "metadata": {
    "id": "qclniTq9-qxN"
   },
   "source": [
    "MONTECARLO\n",
    "\n"
   ]
  },
  {
   "cell_type": "code",
   "execution_count": null,
   "metadata": {
    "colab": {
     "base_uri": "https://localhost:8080/"
    },
    "id": "Hmxerqxk4TY6",
    "outputId": "42de1e5e-cb9d-4547-fc52-66f927b0dba1"
   },
   "outputs": [
    {
     "name": "stdout",
     "output_type": "stream",
     "text": [
      "[0.48478427 0.13683948 0.97389686 0.60569245 0.83563963 0.88864421\n",
      " 0.34384269 0.29771033 0.99392394 0.86841491]\n",
      "0.5857807781684822\n"
     ]
    }
   ],
   "source": [
    "#To generate random numbers uniformly distributed between 0 and 1 in Python,\n",
    "#you can use the numpy.random.uniform() function from the NumPy library\n",
    "import numpy as np\n",
    "\n",
    "random_numbers = np.random.uniform(0, 1, size=10)\n",
    "print(random_numbers)\n",
    "#If you want to generate a single random number, you can omit the size parameter:\n",
    "random_number = np.random.uniform(0, 1)\n",
    "print(random_number)"
   ]
  },
  {
   "cell_type": "markdown",
   "metadata": {
    "id": "WzSqE0PFAhzs"
   },
   "source": [
    "MonteCarlo integration\n",
    "\n",
    "1. Determining the value of $\\pi$"
   ]
  },
  {
   "cell_type": "code",
   "execution_count": null,
   "metadata": {
    "colab": {
     "base_uri": "https://localhost:8080/"
    },
    "id": "UVglFNVi-tHK",
    "outputId": "05f1b519-9ec5-43d1-b64c-780171d857cc"
   },
   "outputs": [
    {
     "name": "stdout",
     "output_type": "stream",
     "text": [
      "Enter number of points: 10000000\n",
      "Approximation of pi: 3.140718\n",
      "Standard deviation in approximation to pi: 0.0005194961447860802\n"
     ]
    }
   ],
   "source": [
    "#code to calculate pi via Monte Carlo integration\n",
    "import numpy as np\n",
    "N = input('Enter number of points: ');\n",
    "N = int(N)\n",
    "numberin = 0; # Count number inside circle.\n",
    "for i in range(1,N): # Loop over points.\n",
    "  x = np.random.uniform(-1,1) ; # Random point in the square.\n",
    "  y = np.random.uniform(-1,1) ;\n",
    "  if x**2 + y**2 < 1.0: # See if point is inside the circle.\n",
    "    numberin = numberin + 1; # If so, increment counter.\n",
    "pio4 = numberin/N; # Approximation to pi/4.\n",
    "piapprox = 4.0*pio4 # Approximation to pi\n",
    "print(\"Approximation of pi:\", piapprox)\n",
    "varpio4 = (pio4 - pio4**2)/N;\n",
    "#Variance in approximation to pi/4.\n",
    "varpi = 16*varpio4; # Variance in approximation to pi.\n",
    "# Note factor of 16.\n",
    "stdpi = np.sqrt(varpi); # Standard deviation in approximation to pi.\n",
    "print(\"Standard deviation in approximation to pi:\", stdpi)"
   ]
  },
  {
   "cell_type": "markdown",
   "metadata": {
    "id": "Kww0SprQCas4"
   },
   "source": [
    "3D Integration\n",
    "\n",
    "density of object $\\gamma= \\exp(0.5z)$.\n",
    "\n",
    "$\\int \\int \\int _{volume} \\gamma(x,y,z) dx dy dz$"
   ]
  },
  {
   "cell_type": "code",
   "execution_count": null,
   "metadata": {
    "colab": {
     "base_uri": "https://localhost:8080/"
    },
    "id": "mKkRUOErBDCb",
    "outputId": "4cb4f610-2a1f-497d-a1f5-0b2c0f861071"
   },
   "outputs": [
    {
     "name": "stdout",
     "output_type": "stream",
     "text": [
      " Enter number of sample points: 1000000\n",
      "Volume of object: 570.288\n",
      "Standard deviation in volume of object: 0.4950349452877039\n",
      "Mass of object: 1324.5663836948522\n",
      "Standard deviation in mass of object: 2.4786458187646256\n"
     ]
    }
   ],
   "source": [
    "import numpy as np\n",
    "N = input(' Enter number of sample points: ');\n",
    "N = int(N)\n",
    "def gamma(x,y,z):\n",
    "  return np.exp(0.5*z)\n",
    "volumeOfBox = 10*10*10; # Volume of surrounding box.\n",
    "vol = 0;\n",
    "mass = 0; # Initialize volume and mass of object.\n",
    "volsq = 0;\n",
    "masssq = 0; # Initialize their squares.\n",
    "for i in range (1,N): # Loop over sample points.\n",
    "  x = np.random.uniform(-5,5) ; # Generate a point from surrounding box.\n",
    "  y = np.random.uniform(-5,5) ;\n",
    "  z = np.random.uniform(-5,5) ;\n",
    "  if x*y*z <= 1: # Check if point is inside object.\n",
    "    vol = vol + 1; # If so, add to vol and mass.\n",
    "    mass = mass + gamma(x,y,z);\n",
    "    volsq = volsq + 1; #Also add to square of vol and mass.\n",
    "    masssq = masssq + gamma(x,y,z)**2;\n",
    "volumeOfObject = (vol/N)*volumeOfBox # Fraction of pts inside times vol of box\n",
    "volvar = (1/N)*((volsq/N) - (vol/N)**2)*volumeOfBox**2; # Variance in vol of object:\n",
    "# (Expected value of volsq - square of expected value of vol) divided by N and\n",
    "# multiplied by square of factor volumeOfBox.\n",
    "volstd = np.sqrt(volvar) # Standard deviation in volume of object.\n",
    "massOfObject = (mass/N)*volumeOfBox # Average mass times volume of box\n",
    "massvar = (1/N)*((masssq/N) - (mass/N)**2)*volumeOfBox**2; # Variance in mass:\n",
    "# (Expected value of masssq - square of expected value of mass) divided by N and\n",
    "# multiplied by square of factor volumeOfBox.\n",
    "massstd = np.sqrt(massvar) # Standard deviation in mass of object.\n",
    "print(\"Volume of object:\", volumeOfObject)\n",
    "print(\"Standard deviation in volume of object:\", volstd)\n",
    "print(\"Mass of object:\", massOfObject)\n",
    "print(\"Standard deviation in mass of object:\", massstd)"
   ]
  },
  {
   "cell_type": "markdown",
   "metadata": {
    "id": "xdXEv_C7Ew5R"
   },
   "source": [
    "3D Integration\n",
    "\n",
    "$\\int_{0}^{1} (\\int_{x}^{1} (\\int_{xy}^{2} \\cos(xy e^{z})dz)dy)dx$"
   ]
  },
  {
   "cell_type": "code",
   "execution_count": null,
   "metadata": {
    "colab": {
     "base_uri": "https://localhost:8080/"
    },
    "id": "5mjSIWKpDWXH",
    "outputId": "5e93d1f9-b3ce-453b-e5c7-37ca1720094d"
   },
   "outputs": [
    {
     "name": "stdout",
     "output_type": "stream",
     "text": [
      " Enter number of sample points:1000000\n",
      "Integral: 0.5229203372146503\n",
      "Standard deviation: 0.0009620192907829723\n"
     ]
    }
   ],
   "source": [
    "import numpy as np\n",
    "def f(x,y,z):\n",
    "  return np.cos(x*y*np.exp(z)) # Define integrand.\n",
    "N = input(' Enter number of sample points:' );\n",
    "N=int(N)\n",
    "In = 0; # Initialize integral.\n",
    "In2=0;\n",
    "for i in range(1,N): # Loop over sample points.\n",
    "# Generate a point from surrounding box.\n",
    "  x = np.random.uniform(0,1);\n",
    "  y = np.random.uniform(0,1);\n",
    "  z = np.random.uniform(0,2);\n",
    "  if x <= y and x*y <= z: # Check if point is inside region.\n",
    "    In = In + f(x,y,z); # If so, add to int.\n",
    "    In2=In2+f(x,y,z)*f(x,y,z)\n",
    "In = (In/N)*2\n",
    "var=(1/N)*((In2/N)*4-In**2)\n",
    "std=np.sqrt(var)\n",
    "print(\"Integral:\", In)\n",
    "print(\"Standard deviation:\", std)"
   ]
  },
  {
   "cell_type": "markdown",
   "metadata": {
    "id": "2CxGvG22G7Vg"
   },
   "source": [
    "1d Montecarlo search\n",
    "\n"
   ]
  },
  {
   "cell_type": "code",
   "execution_count": null,
   "metadata": {
    "colab": {
     "base_uri": "https://localhost:8080/",
     "height": 469
    },
    "id": "pUoXypMxFZC2",
    "outputId": "2d0d0fc2-4978-4c75-d876-35a37027ff0f"
   },
   "outputs": [
    {
     "data": {
      "image/png": "[encoded data removed]",
      "text/plain": [
       "<Figure size 640x480 with 1 Axes>"
      ]
     },
     "metadata": {},
     "output_type": "display_data"
    }
   ],
   "source": [
    "import numpy as np\n",
    "import matplotlib.pyplot as plt\n",
    "x = np.linspace(0,10, 100)\n",
    "y = (20-2*x)*(20-2*x)*x\n",
    "plt.plot(x,y, 'green', label='The Function')\n",
    "plt.grid()\n",
    "plt.legend()\n",
    "plt.xlabel(\"x axis\")\n",
    "plt.ylabel(\"y axis\")\n",
    "plt.show()"
   ]
  },
  {
   "cell_type": "code",
   "execution_count": null,
   "metadata": {
    "colab": {
     "base_uri": "https://localhost:8080/"
    },
    "id": "B-DzUYCbHD81",
    "outputId": "589b0999-82c2-40f4-8dc4-ef99b2b5877f"
   },
   "outputs": [
    {
     "name": "stdout",
     "output_type": "stream",
     "text": [
      "3.333276760570054\n"
     ]
    }
   ],
   "source": [
    "import numpy as np\n",
    "\n",
    "def monte_carlo_max(f, a, b, N):\n",
    "    # Generate uniform random samples\n",
    "    x = np.random.uniform(a, b, N)\n",
    "\n",
    "    # Evaluate function values\n",
    "    y = [f(xi) for xi in x]\n",
    "\n",
    "    # Find the maximum\n",
    "    x_max = x[np.argmax(y)]\n",
    "\n",
    "    return x_max\n",
    "\n",
    "def f(x):\n",
    "    return (20-2*x)*(20-2*x)*x\n",
    "\n",
    "x_max = monte_carlo_max(f, 0, 10, 10000)\n",
    "print(x_max)  # Output"
   ]
  },
  {
   "cell_type": "code",
   "execution_count": null,
   "metadata": {
    "id": "3mA_gJiwHhyh"
   },
   "outputs": [],
   "source": []
  }
 ],
 "metadata": {
  "colab": {
   "provenance": []
  },
  "kernelspec": {
   "display_name": "Python 3",
   "name": "python3"
  },
  "language_info": {
   "name": "python"
  }
 },
 "nbformat": 4,
 "nbformat_minor": 0
}
