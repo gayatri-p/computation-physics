{
 "cells": [
  {
   "cell_type": "markdown",
   "metadata": {
    "id": "AceRPdAoXwoi"
   },
   "source": [
    "Error analysis for solving systems of linear equations\n",
    "\n",
    "Posterior analysis\n",
    "\n",
    "Ax = b for the case where:\n",
    "\n",
    "Augmented matrix:  (A|b) =\\begin{bmatrix}  \n",
    "  0.2161 & 0.1441 &| 0.1440 \\\\\n",
    "  1.2969 & 0.8648 &| 0.8642 \\end{bmatrix}\n",
    "\n",
    "  Check an approximate solution: $\\tilde{x}= \\left[\n",
    "         \t\\begin{array}{c}\n",
    "         \t.9911  \\\\\\\\\n",
    "         \t-.4870\n",
    "        \t\\end{array}\n",
    "    \t\\right]   $\n",
    "\n",
    "\n",
    "$r=b-A\\tilde{x}= \\left(\n",
    "         \t\\begin{array}{c}\n",
    "         \t-10^{-8}  \\\\\\\\\n",
    "         \t10^{-8}\n",
    "        \t\\end{array}\n",
    "    \t\\right) $\n",
    "\n"
   ]
  },
  {
   "cell_type": "code",
   "execution_count": 1,
   "metadata": {
    "colab": {
     "base_uri": "https://localhost:8080/"
    },
    "executionInfo": {
     "elapsed": 450,
     "status": "ok",
     "timestamp": 1724318408392,
     "user": {
      "displayName": "Colin Benjamin",
      "userId": "06886597878420097412"
     },
     "user_tz": -330
    },
    "id": "Vwxj3UdsZCyb",
    "outputId": "42fc67f8-fbbe-4838-9632-eb500d432983"
   },
   "outputs": [
    {
     "name": "stdout",
     "output_type": "stream",
     "text": [
      "[[0.2161 0.1441]\n",
      " [1.2969 0.8648]]\n",
      "[[0.144 ]\n",
      " [0.8642]]\n",
      "Exact solution: x=  [[ 2.        ]\n",
      " [-2.00000001]]\n",
      "[[-9.99999999e-09]\n",
      " [ 1.00000001e-08]]\n",
      "[[-4.38496184e-11]\n",
      " [-2.63158939e-10]]\n"
     ]
    }
   ],
   "source": [
    "import numpy as np\n",
    "Ap = [[.2161,.1441], [1.2969,.8648]]\n",
    "Bp=[[0.1440],[0.8642]]\n",
    "A = np.array(Ap)\n",
    "print(A)\n",
    "B = np.array(Bp)\n",
    "print(B)\n",
    "Ainv=np.linalg.inv(A)\n",
    "x=np.matmul(Ainv,B)\n",
    "print(\"Exact solution: x= \", x)\n",
    "xtp=[[0.9911],[-0.487]]\n",
    "xt=np.array(xtp)\n",
    "rp=print(B-np.matmul(A,xt))\n",
    "r=print(B-np.matmul(A,x))"
   ]
  },
  {
   "cell_type": "markdown",
   "metadata": {
    "id": "nRjLhTc0ZRLs"
   },
   "source": [
    "Example 1: a priori approach\n",
    "\n",
    "Solve $(A+\\Delta A)(x+\\Delta x)=b$.\n",
    "\n"
   ]
  },
  {
   "cell_type": "code",
   "execution_count": 2,
   "metadata": {
    "colab": {
     "base_uri": "https://localhost:8080/"
    },
    "executionInfo": {
     "elapsed": 432,
     "status": "ok",
     "timestamp": 1724318625858,
     "user": {
      "displayName": "Colin Benjamin",
      "userId": "06886597878420097412"
     },
     "user_tz": -330
    },
    "id": "Ml23EaWoYtqU",
    "outputId": "4eda7fe8-3459-426f-f705-649f0795762d"
   },
   "outputs": [
    {
     "name": "stdout",
     "output_type": "stream",
     "text": [
      "[[0.2162 0.1441]\n",
      " [1.2969 0.8648]]\n",
      "[[0.144 ]\n",
      " [0.8642]]\n",
      "solution: x + $\\Delta$ x= [[-2.31294090e-04]\n",
      " [ 9.99653059e-01]]\n"
     ]
    }
   ],
   "source": [
    "import numpy as np\n",
    "Ap = [[.2161,.1441], [1.2969,.8648]]\n",
    "Bp=[[0.1440],[0.8642]]\n",
    "dAp=[[.0001,0], [0,0]]\n",
    "A = np.array(Ap)\n",
    "dA = np.array(dAp)\n",
    "print(A+dA)\n",
    "B = np.array(Bp)\n",
    "print(B)\n",
    "Ainv=np.linalg.inv(A+dA)\n",
    "x=np.matmul(Ainv,B)\n",
    "print(\"solution: x + $\\Delta$ x=\", x)\n"
   ]
  },
  {
   "cell_type": "markdown",
   "metadata": {
    "id": "TlRuMpIRZ7e5"
   },
   "source": [
    "A small error in one element of A, leads to big error in $x$.\n",
    "\n",
    "$x+\\Delta x=  \\left[\\begin{array}{c}-2.312...\\times10^{-4} \\\\\\\\ 9.99....\\times10^{-1} \\end{array} \\right]   $"
   ]
  },
  {
   "cell_type": "markdown",
   "metadata": {
    "id": "UuiVNIRtaGD3"
   },
   "source": [
    "Example 2\n",
    "\n",
    "$Ax = b$ for the case where:\n",
    "\n",
    "$(A|b) =\\begin{bmatrix}  \n",
    "  1 & 1.000 &| 2.000 \\\\\n",
    "  1 & 1.001 &| 2.001 \\end{bmatrix}$\n",
    "\n",
    "  Exact solution $x=\\begin{bmatrix}  1   \\\\ 1  \\end{bmatrix}$\n",
    "\n",
    "\n",
    "Make a small perturbation:\n",
    "\n",
    "  $\\Delta A =\\begin{bmatrix}  \n",
    "  0 & 0 \\\\\n",
    "  0 & .001 \\end{bmatrix} $"
   ]
  },
  {
   "cell_type": "code",
   "execution_count": 3,
   "metadata": {
    "colab": {
     "base_uri": "https://localhost:8080/"
    },
    "executionInfo": {
     "elapsed": 425,
     "status": "ok",
     "timestamp": 1724318823629,
     "user": {
      "displayName": "Colin Benjamin",
      "userId": "06886597878420097412"
     },
     "user_tz": -330
    },
    "id": "iINQawdaZiwF",
    "outputId": "0fdb355d-d76c-4d53-af7c-12d2fc7ef51a"
   },
   "outputs": [
    {
     "name": "stdout",
     "output_type": "stream",
     "text": [
      "[[1.    1.   ]\n",
      " [1.    1.001]]\n",
      "[[1.    1.   ]\n",
      " [1.    1.002]]\n",
      "[[1.]\n",
      " [1.]]\n",
      "[[1.5]\n",
      " [0.5]]\n"
     ]
    }
   ],
   "source": [
    "#Example 2 Gezerlis Ch. 4\n",
    "import numpy as np\n",
    "Ap = [[1,1], [1,1.001]]\n",
    "Bp=[[2],[2.001]]\n",
    "dAp=[[.000,0], [0,0.001]]\n",
    "A = np.array(Ap)\n",
    "print(A)\n",
    "dA = np.array(dAp)\n",
    "print(A+dA)\n",
    "B = np.array(Bp)\n",
    "Ainv=np.linalg.inv(A)\n",
    "Adainv=np.linalg.inv(A+dA)\n",
    "x=np.matmul(Ainv,B)\n",
    "xdA=np.matmul(Adainv,B)\n",
    "print(x)\n",
    "print(xdA)"
   ]
  },
  {
   "cell_type": "markdown",
   "metadata": {
    "id": "UCUCA9evae8g"
   },
   "source": [
    "Solution: $x+\\Delta x=\\begin{bmatrix}  1.5   \\\\ .5  \\end{bmatrix}$\n",
    "\n",
    "Make a small perturbation $\\Delta b= \\begin{bmatrix}  0   \\\\ .001  \\end{bmatrix}$"
   ]
  },
  {
   "cell_type": "code",
   "execution_count": 4,
   "metadata": {
    "colab": {
     "base_uri": "https://localhost:8080/"
    },
    "executionInfo": {
     "elapsed": 435,
     "status": "ok",
     "timestamp": 1724318923679,
     "user": {
      "displayName": "Colin Benjamin",
      "userId": "06886597878420097412"
     },
     "user_tz": -330
    },
    "id": "k7CjPNWWaTCb",
    "outputId": "419bb370-5eac-4c3f-ea44-8cc49cb054dc"
   },
   "outputs": [
    {
     "name": "stdout",
     "output_type": "stream",
     "text": [
      "[[1.    1.   ]\n",
      " [1.    1.001]]\n",
      "[[1.]\n",
      " [1.]]\n",
      "[[0.]\n",
      " [2.]]\n"
     ]
    }
   ],
   "source": [
    "#Example 2b Gezerlis Ch. 4\n",
    "import numpy as np\n",
    "Ap = [[1,1], [1,1.001]]\n",
    "Bp=[[2],[2.001]]\n",
    "dBp=[[0], [0.001]]\n",
    "A = np.array(Ap)\n",
    "print(A)\n",
    "dB = np.array(Bp)+np.array(dBp)\n",
    "Ainv=np.linalg.inv(A)\n",
    "x=np.matmul(Ainv,B)\n",
    "xdb=np.matmul(Ainv,dB)\n",
    "print(x)\n",
    "print(xdb)"
   ]
  },
  {
   "cell_type": "markdown",
   "metadata": {
    "id": "5klqyRm1a2LK"
   },
   "source": [
    "Example 3:\n",
    "\n",
    "$Ax = b$ for the case where:\n",
    "\n",
    "$(A|b) =\\begin{bmatrix}  \n",
    "  2 & 1 &| 2 \\\\\n",
    "  1 & 2 &| 7 \\end{bmatrix}$\n",
    "\n",
    "Exact solution $x=\\begin{bmatrix}  -1   \\\\ 4  \\end{bmatrix}$\n",
    "\n",
    "\n",
    " Make a small perturbation:\n",
    "\n",
    "  $\\Delta A =\\begin{bmatrix}  \n",
    "  0 & 0 \\\\\n",
    "  0.01 & 0 \\end{bmatrix} $ or  $\\Delta b=\\begin{bmatrix}  .01   \\\\ 0  \\end{bmatrix}$"
   ]
  },
  {
   "cell_type": "code",
   "execution_count": 5,
   "metadata": {
    "colab": {
     "base_uri": "https://localhost:8080/"
    },
    "executionInfo": {
     "elapsed": 419,
     "status": "ok",
     "timestamp": 1724319014530,
     "user": {
      "displayName": "Colin Benjamin",
      "userId": "06886597878420097412"
     },
     "user_tz": -330
    },
    "id": "dAIsFGhaardi",
    "outputId": "5d6bb856-8c2e-4fe8-dbe6-5b2c9c6be9da"
   },
   "outputs": [
    {
     "name": "stdout",
     "output_type": "stream",
     "text": [
      "[[2 1]\n",
      " [1 2]]\n",
      "[[2.   1.  ]\n",
      " [1.01 2.  ]]\n",
      "[[2]\n",
      " [7]]\n",
      "[[-1.]\n",
      " [ 4.]]\n",
      "[[-1.00334448]\n",
      " [ 4.00668896]]\n",
      "[[-0.99333333]\n",
      " [ 3.99666667]]\n"
     ]
    }
   ],
   "source": [
    "#Example 3 Gezerlis Ch. 4\n",
    "import numpy as np\n",
    "Ap = [[2,1], [1,2]]\n",
    "Bp=[[2],[7]]\n",
    "dAp=[[.000,0.0], [0.01,0.0]]\n",
    "dBp=[[0.01], [0.0]]\n",
    "A = np.array(Ap)\n",
    "print(A)\n",
    "dA = np.array(dAp)\n",
    "print(A+dA)\n",
    "B = np.array(Bp)\n",
    "dB=np.array(dBp)+np.array(Bp)\n",
    "print(B)\n",
    "Ainv=np.linalg.inv(A)\n",
    "Adainv=np.linalg.inv(A+dA)\n",
    "x=np.matmul(Ainv,B)\n",
    "xdA=np.matmul(Adainv,B)\n",
    "xdB=np.matmul(Ainv,dB)\n",
    "print(x)\n",
    "print(xdA)\n",
    "print(xdB)"
   ]
  },
  {
   "cell_type": "markdown",
   "metadata": {
    "id": "8YpKtRo5bZ30"
   },
   "source": [
    "Exact solution $x= \\begin{bmatrix}  -1 \\\\ 4\\end{bmatrix}$\n",
    "\n",
    "$\\tilde{x}_{\\Delta A}=\\begin{bmatrix}  -1.0003344   \\\\ 4.006688  \\end{bmatrix}$\n",
    "\n",
    "$\\tilde{x}_{\\Delta b}=\\begin{bmatrix}  -0.9933   \\\\ 3.9966  \\end{bmatrix}$"
   ]
  },
  {
   "cell_type": "markdown",
   "metadata": {
    "id": "MwVrtTlnbmhj"
   },
   "source": [
    "Analysis\n",
    "\n",
    "Determinant of each example\n"
   ]
  },
  {
   "cell_type": "code",
   "execution_count": 6,
   "metadata": {
    "colab": {
     "base_uri": "https://localhost:8080/"
    },
    "executionInfo": {
     "elapsed": 438,
     "status": "ok",
     "timestamp": 1724319233370,
     "user": {
      "displayName": "Colin Benjamin",
      "userId": "06886597878420097412"
     },
     "user_tz": -330
    },
    "id": "VYeYeOJIbBpe",
    "outputId": "21183143-b082-4d64-ea8c-4701e5858a49"
   },
   "outputs": [
    {
     "name": "stdout",
     "output_type": "stream",
     "text": [
      "-9.999999984453023e-09 1.5802824652573981\n",
      "0.00099999999999989 2.000500187453128\n",
      "2.9999999999999996 3.1622776601683795\n",
      "0.03000000000000001 0.31622776601683794\n"
     ]
    }
   ],
   "source": [
    "import numpy as np\n",
    "from numpy import linalg as LA\n",
    "A1 = np.array([[.2161,.1441], [1.2969,.8648]])\n",
    "A2 = np.array([[1,1], [1,1.001]])\n",
    "A3 = np.array([[2,1], [1,2]])\n",
    "A4 =np.array([[.2,.1], [.1,.2]])\n",
    "print(LA.det(A1), LA.norm(A1))\n",
    "print(LA.det(A2), LA.norm(A2))\n",
    "print(LA.det(A3), LA.norm(A3))\n",
    "print(LA.det(A4), LA.norm(A4))"
   ]
  },
  {
   "cell_type": "markdown",
   "metadata": {
    "id": "OXbjbKeIcKpc"
   },
   "source": [
    "\n",
    "\n",
    "From these examples , we can draw a conclusion:\n",
    "\n",
    "A should be non-singular i.e., non-zero determinant. 𝐴 Matrices with determinant close to zero are close to being singular and therefore are sensitive to very small perturbations.\n",
    "\n",
    "What does small mean?\n",
    "\n",
    "Example 4: What if I multiply each element of A of example 3 by 0.1 and b by 0.1 too?\n"
   ]
  },
  {
   "cell_type": "code",
   "execution_count": 7,
   "metadata": {
    "colab": {
     "base_uri": "https://localhost:8080/"
    },
    "executionInfo": {
     "elapsed": 503,
     "status": "ok",
     "timestamp": 1724319388780,
     "user": {
      "displayName": "Colin Benjamin",
      "userId": "06886597878420097412"
     },
     "user_tz": -330
    },
    "id": "UBYER2dAb3Es",
    "outputId": "ff761deb-70c6-4750-f9b1-f32603d474ed"
   },
   "outputs": [
    {
     "name": "stdout",
     "output_type": "stream",
     "text": [
      "[[0.2 0.1]\n",
      " [0.1 0.2]]\n",
      "[[0.2  0.1 ]\n",
      " [0.11 0.2 ]]\n",
      "[[0.2]\n",
      " [0.7]]\n",
      "[[-1.]\n",
      " [ 4.]]\n",
      "[[-1.03448276]\n",
      " [ 4.06896552]]\n",
      "[[-0.93333333]\n",
      " [ 3.96666667]]\n",
      "0.03000000000000001\n"
     ]
    },
    {
     "data": {
      "text/plain": [
       "0.31622776601683794"
      ]
     },
     "execution_count": 7,
     "metadata": {},
     "output_type": "execute_result"
    }
   ],
   "source": [
    "#Example 4 Gezerlis Ch. 4\n",
    "import numpy as np\n",
    "from numpy import linalg as LA\n",
    "Ap = [[.2,.1], [.1,.2]]\n",
    "Bp=[[.2],[.7]]\n",
    "dAp=[[.000,0.0], [0.01,0.0]]\n",
    "dBp=[[0.01], [0.0]]\n",
    "A = np.array(Ap)\n",
    "print(A)\n",
    "dA = np.array(dAp)\n",
    "print(A+dA)\n",
    "B = np.array(Bp)\n",
    "dB=np.array(dBp)+np.array(Bp)\n",
    "print(B)\n",
    "Ainv=np.linalg.inv(A)\n",
    "Adainv=np.linalg.inv(A+dA)\n",
    "x=np.matmul(Ainv,B)\n",
    "xdA=np.matmul(Adainv,B)\n",
    "xdB=np.matmul(Ainv,dB)\n",
    "print(x)\n",
    "print(xdA)\n",
    "print(xdB)\n",
    "print(LA.det(A))\n",
    "LA.norm(A)"
   ]
  },
  {
   "cell_type": "markdown",
   "metadata": {
    "id": "wWsmVQVMdsAN"
   },
   "source": [
    "Results from example 3 and 4 are identical. Although |𝐴| for ex. 4 is much smaller than that of ex. 3. But in example 4 det was small and so were matrix elements, that means its the ratio which matters, and ratio of ex. 4 and ex. 3 were identical.\n",
    "\n",
    "That means not just determinant but also norm matters.\n",
    "\n",
    "Ex. 1 and 2 the ratio |𝐴|/||𝐴|| was very small\n",
    "\n",
    "Ex. 3 : |𝐴|/||𝐴||∼𝑂(1) Ex. 4: |𝐴|/||𝐴||∼𝑂(.1)"
   ]
  },
  {
   "cell_type": "code",
   "execution_count": 8,
   "metadata": {
    "colab": {
     "base_uri": "https://localhost:8080/"
    },
    "executionInfo": {
     "elapsed": 433,
     "status": "ok",
     "timestamp": 1724320432770,
     "user": {
      "displayName": "Colin Benjamin",
      "userId": "06886597878420097412"
     },
     "user_tz": -330
    },
    "id": "0HdjRFnDcc_0",
    "outputId": "a603bccf-a0a8-4757-b010-7f3e22858d89"
   },
   "outputs": [
    {
     "name": "stdout",
     "output_type": "stream",
     "text": [
      "[[2.e-10 1.e-10]\n",
      " [1.e-10 2.e-10]]\n",
      "[[2.00e-10 1.00e-10]\n",
      " [1.01e-10 2.00e-10]]\n",
      "[[2.e-10]\n",
      " [7.e-10]]\n",
      "[[-1.]\n",
      " [ 4.]]\n",
      "[[-1.00334448]\n",
      " [ 4.00668896]]\n",
      "[[-0.99333333]\n",
      " [ 3.99666667]]\n",
      "[[-0.99665552]\n",
      " [ 4.00331104]]\n",
      "3.000000000000012e-20 3.1622776601683795e-10\n"
     ]
    }
   ],
   "source": [
    "#Example 5 multiply A , b of example 3 with 10^-10\n",
    "import numpy as np\n",
    "Ap = [[2*10**(-10),1*10**(-10)], [1*10**(-10),2*10**(-10)]]\n",
    "Bp=[[2*10**(-10)],[7*10**(-10)]]\n",
    "dAp=[[.000,0.0], [0.01*10**(-10),0.0]]\n",
    "dBp=[[0.01*10**(-10)], [0.0]]\n",
    "A = np.array(Ap)\n",
    "print(A)\n",
    "dA = np.array(dAp)\n",
    "print(A+dA)\n",
    "B = np.array(Bp)\n",
    "dB=np.array(dBp)+np.array(Bp)\n",
    "print(B)\n",
    "Ainv=np.linalg.inv(A)\n",
    "Adainv=np.linalg.inv(A+dA)\n",
    "x=np.matmul(Ainv,B)\n",
    "xdA=np.matmul(Adainv,B)\n",
    "xdB=np.matmul(Ainv,dB)\n",
    "xdX=np.matmul(Adainv,dB)\n",
    "print(x)\n",
    "print(xdA)\n",
    "print(xdB)\n",
    "print(xdX)\n",
    "print(LA.det(A), LA.norm(A))"
   ]
  },
  {
   "cell_type": "markdown",
   "metadata": {
    "id": "pPuPdOB-gpMr"
   },
   "source": [
    "Even if $|A| << ||A||$ the solutions are insensitive to perturbations for ex. 5 as long we change both A and b.\n",
    "\n",
    "Example 1: $|A| \\sim 10^{-8}$, $||A||_{E}=1.58$, $|A| /||A||_{E}  << 1$ holds, therefore solution were prone to errors.\n",
    "\n",
    "\n",
    "Example 2: $|A| \\sim 0.001$, $||A||_{E}=2.0$, $|A| /||A||_{E}  << 1$ holds, therefore solution were prone to errors.\n",
    "\n",
    "Example 3: $|A| = 3$, $||A||_{E}\\sim 3.16$, $|A| /||A||_{E}  << 1$ does not hold, solution almost independent of errors.\n",
    "\n",
    "Example 4: $|A| = .03$, $||A||_{E}\\sim 0.32$, $|A| /||A||_{E}  << 1$ does not really hold, solution independent of errors.\n",
    "\n",
    "Example 5: $|A| = 10^{-20}$, $||A||_{E}\\sim 10^{-10}$, $|A| /||A||_{E}  << 1$ does hold, but perturbation/error creep has marginal impact, again solution is almost independent of errors.\n",
    "\n",
    "\n",
    "Conclusion Det/Norm ratio $<< 1$ is not a good criterion."
   ]
  },
  {
   "cell_type": "markdown",
   "metadata": {
    "id": "MMoDd0txl9yJ"
   },
   "source": [
    "Example 6: Upper triangular matrix $A$ with diagonal entries $2$ and upper diagonal entries $-2$. $b$ single column vector with alternate entries of $1,-1$. Add perturbation $\\Delta A=0.01$ to row 7, col 0 element. Check how solutions are affected?\n"
   ]
  },
  {
   "cell_type": "code",
   "execution_count": 9,
   "metadata": {
    "colab": {
     "base_uri": "https://localhost:8080/"
    },
    "executionInfo": {
     "elapsed": 440,
     "status": "ok",
     "timestamp": 1724322241891,
     "user": {
      "displayName": "Colin Benjamin",
      "userId": "06886597878420097412"
     },
     "user_tz": -330
    },
    "id": "2CZQIt_6gb5S",
    "outputId": "f873b598-e5e6-4981-c848-dd4ff1b5a2d1"
   },
   "outputs": [
    {
     "name": "stdout",
     "output_type": "stream",
     "text": [
      "The upper triangular matrix: \n",
      "2.0 -2.0 -2.0 -2.0 -2.0 -2.0 -2.0 -2.0  \n",
      "0.0 2.0 -2.0 -2.0 -2.0 -2.0 -2.0 -2.0  \n",
      "0.0 0.0 2.0 -2.0 -2.0 -2.0 -2.0 -2.0  \n",
      "0.0 0.0 0.0 2.0 -2.0 -2.0 -2.0 -2.0  \n",
      "0.0 0.0 0.0 0.0 2.0 -2.0 -2.0 -2.0  \n",
      "0.0 0.0 0.0 0.0 0.0 2.0 -2.0 -2.0  \n",
      "0.0 0.0 0.0 0.0 0.0 0.0 2.0 -2.0  \n",
      "0.0 0.0 0.0 0.0 0.0 0.0 0.0 2.0  \n",
      "255.99999999999994\n",
      "frob_norm = 12.00\n",
      "[[-21. ]\n",
      " [-11. ]\n",
      " [ -5. ]\n",
      " [ -3. ]\n",
      " [ -1. ]\n",
      " [ -1. ]\n",
      " [  0. ]\n",
      " [ -0.5]]\n",
      "[[ 2.   -2.   -2.   -2.   -2.   -2.   -2.   -2.  ]\n",
      " [ 0.    2.   -2.   -2.   -2.   -2.   -2.   -2.  ]\n",
      " [ 0.    0.    2.   -2.   -2.   -2.   -2.   -2.  ]\n",
      " [ 0.    0.    0.    2.   -2.   -2.   -2.   -2.  ]\n",
      " [ 0.    0.    0.    0.    2.   -2.   -2.   -2.  ]\n",
      " [ 0.    0.    0.    0.    0.    2.   -2.   -2.  ]\n",
      " [ 0.    0.    0.    0.    0.    0.    2.   -2.  ]\n",
      " [-0.01  0.    0.    0.    0.    0.    0.    2.  ]]\n",
      "174.07999999999993\n",
      "[[-30.88235294]\n",
      " [-15.94117647]\n",
      " [ -7.47058824]\n",
      " [ -4.23529412]\n",
      " [ -1.61764706]\n",
      " [ -1.30882353]\n",
      " [ -0.15441176]\n",
      " [ -0.65441176]]\n"
     ]
    }
   ],
   "source": [
    "import numpy as np\n",
    "A6= np.zeros((8, 8))\n",
    "print(\"The upper triangular matrix: \")\n",
    "for i in range(8):\n",
    "   for j in range(8):\n",
    "      if(i > j):\n",
    "         A6[i][j] = 0\n",
    "         print(A6[i][j],end=\" \")\n",
    "      elif(i==j):\n",
    "        A6[i][j]=2\n",
    "        print(A6[i][i],end=\" \")\n",
    "      else:\n",
    "        A6[i][j]=-2\n",
    "        print(A6[i][j],end=\" \")\n",
    "   print(\" \")\n",
    "print(np.linalg.det(A6))\n",
    "frob_norm = np.linalg.norm(A6,ord='fro')\n",
    "print(f\"{frob_norm = :.2f}\")\n",
    "Bp=[[1],[-1],[1],[-1],[1],[-1],[1],[-1]]\n",
    "B = np.array(Bp)\n",
    "Ainv=np.linalg.inv(A6)\n",
    "x=np.matmul(Ainv,B)\n",
    "print(x)\n",
    "da=np.zeros((8, 8))\n",
    "da[7][0]=-0.01\n",
    "Ad=A6+da\n",
    "print(Ad)\n",
    "print(np.linalg.det(Ad))\n",
    "Adinv=np.linalg.inv(Ad)\n",
    "xd=np.matmul(Adinv,B)\n",
    "print(xd)"
   ]
  },
  {
   "cell_type": "markdown",
   "metadata": {
    "id": "e9_j7bGMnlSC"
   },
   "source": [
    "Condition Number for previous examples"
   ]
  },
  {
   "cell_type": "code",
   "execution_count": 10,
   "metadata": {
    "colab": {
     "base_uri": "https://localhost:8080/"
    },
    "executionInfo": {
     "elapsed": 441,
     "status": "ok",
     "timestamp": 1724322333529,
     "user": {
      "displayName": "Colin Benjamin",
      "userId": "06886597878420097412"
     },
     "user_tz": -330
    },
    "id": "PfkxnDU-nVkc",
    "outputId": "53385ac9-d35e-4c40-b235-1b8114f8ffdb"
   },
   "outputs": [
    {
     "name": "stdout",
     "output_type": "stream",
     "text": [
      "The upper triangular matrix: \n",
      "2.0 -2.0 -2.0 -2.0 -2.0 -2.0 -2.0 -2.0  \n",
      "0.0 2.0 -2.0 -2.0 -2.0 -2.0 -2.0 -2.0  \n",
      "0.0 0.0 2.0 -2.0 -2.0 -2.0 -2.0 -2.0  \n",
      "0.0 0.0 0.0 2.0 -2.0 -2.0 -2.0 -2.0  \n",
      "0.0 0.0 0.0 0.0 2.0 -2.0 -2.0 -2.0  \n",
      "0.0 0.0 0.0 0.0 0.0 2.0 -2.0 -2.0  \n",
      "0.0 0.0 0.0 0.0 0.0 0.0 2.0 -2.0  \n",
      "0.0 0.0 0.0 0.0 0.0 0.0 0.0 2.0  \n",
      "249729267.38825405\n",
      "4002.0010000004404\n",
      "3.333333333333334\n",
      "3.3333333333333326\n",
      "3.333333333333333\n",
      "512.183560845133\n"
     ]
    }
   ],
   "source": [
    "import numpy as np\n",
    "A1 = np.array([[.2161,.1441], [1.2969,.8648]])\n",
    "A2 = np.array([[1,1], [1,1.001]])\n",
    "A3 = np.array([[2,1], [1,2]])\n",
    "A4 = np.array([[.2,.1], [.1,.2]])\n",
    "A5 = 10e-10*np.array([[2,1], [1,2]])\n",
    "A6= np.zeros((8, 8))\n",
    "print(\"The upper triangular matrix: \")\n",
    "for i in range(8):\n",
    "   for j in range(8):\n",
    "      if(i > j):\n",
    "         A6[i][j] = 0\n",
    "         print(A6[i][j],end=\" \")\n",
    "      elif(i==j):\n",
    "        A6[i][j]=2\n",
    "        print(A6[i][i],end=\" \")\n",
    "      else:\n",
    "        A6[i][j]=-2\n",
    "        print(A6[i][j],end=\" \")\n",
    "   print(\" \")\n",
    "print(np.linalg.norm(np.linalg.inv(A1))*np.linalg.norm(A1))\n",
    "print(np.linalg.norm(np.linalg.inv(A2))*np.linalg.norm(A2))\n",
    "print(np.linalg.norm(np.linalg.inv(A3))*np.linalg.norm(A3))\n",
    "print(np.linalg.norm(np.linalg.inv(A4))*np.linalg.norm(A4))\n",
    "print(np.linalg.norm(np.linalg.inv(A5))*np.linalg.norm(A5))\n",
    "print(np.linalg.norm(np.linalg.inv(A6))*np.linalg.norm(A6))"
   ]
  },
  {
   "cell_type": "markdown",
   "metadata": {
    "id": "sT9m2Iz6oLne"
   },
   "source": [
    "Calculating Eigenvalues of a Matrix\n",
    "\n",
    "Example 8\n",
    "\n",
    "$A =\\begin{bmatrix}  \n",
    "  4 & 3 & 2 & 1 \\\\\n",
    "  3 & 3 & 2 & 1 \\\\\n",
    "  0 & 2 & 2 & 1 \\\\\n",
    "  0 & 0 &1 & 1 \\end{bmatrix}$\n",
    "\n",
    "  If I add a perturbation to element $A_{0,3}=0.1$, what is the effect on the eigenvalues?\n",
    "  "
   ]
  },
  {
   "cell_type": "code",
   "execution_count": 11,
   "metadata": {
    "colab": {
     "base_uri": "https://localhost:8080/"
    },
    "executionInfo": {
     "elapsed": 425,
     "status": "ok",
     "timestamp": 1724322772414,
     "user": {
      "displayName": "Colin Benjamin",
      "userId": "06886597878420097412"
     },
     "user_tz": -330
    },
    "id": "3i7w-zY_nr8W",
    "outputId": "f10a2bf9-cc85-4010-e11f-cbd63d6c82a4"
   },
   "outputs": [
    {
     "name": "stdout",
     "output_type": "stream",
     "text": [
      "E-value: [7.31274213 2.06663092 0.13674761 0.48387934]\n",
      "E-vector [[ 0.73319229 -0.50597951 -0.03552739  0.08981592]\n",
      " [ 0.63293    -0.26114648  0.22427524 -0.09580043]\n",
      " [ 0.24559146  0.599716   -0.63638388 -0.45466534]\n",
      " [ 0.03890408  0.56225259  0.73719331  0.88092838]]\n",
      "126.74383614203887\n",
      "E-value: [7.3129755  2.06287308 0.12477715 0.49937427]\n",
      "E-vector [[ 0.73322121 -0.50489056 -0.04175813  0.09211235]\n",
      " [ 0.63290497 -0.2628705   0.23432976 -0.11006428]\n",
      " [ 0.24557035  0.59881226 -0.63967137 -0.44302653]\n",
      " [ 0.0388993   0.56339018  0.73086686  0.88494557]]\n"
     ]
    }
   ],
   "source": [
    "import numpy as np\n",
    "A8 = np.array([[4,3,2,1], [3,3,2,1],[0,2,2,1],[0,0,1,1]])\n",
    "w,v=np.linalg.eig(A8)\n",
    "print('E-value:', w)\n",
    "print('E-vector', v)\n",
    "A8norm = np.linalg.norm(A8)\n",
    "A8inv=np.linalg.inv(A8)\n",
    "A8invnorm=np.linalg.norm(A8inv)\n",
    "print(A8norm*A8invnorm)\n",
    "A8d = np.array([[4,3,2,1+0.01], [3,3,2,1],[0,2,2,1],[0,0,1,1]])\n",
    "w,v=np.linalg.eig(A8d)\n",
    "print('E-value:', w)\n",
    "print('E-vector', v)"
   ]
  },
  {
   "cell_type": "markdown",
   "metadata": {
    "id": "ohViULccqArj"
   },
   "source": [
    "Example 9\n",
    "\n",
    "$A =\\begin{bmatrix}  \n",
    "  4 & 4 & 0 & 0 \\\\\n",
    "  0 & 3 & 4 & 0 \\\\\n",
    "  0 & 0 & 2 & 4 \\\\\n",
    "  0 & 0 &0 & 1 \\end{bmatrix}$\n",
    "\n",
    "  If I add a perturbation to element $A_{3,0}=0.005$, what is the effect on the eigenvalues?"
   ]
  },
  {
   "cell_type": "code",
   "execution_count": 12,
   "metadata": {
    "colab": {
     "base_uri": "https://localhost:8080/"
    },
    "executionInfo": {
     "elapsed": 441,
     "status": "ok",
     "timestamp": 1724323370029,
     "user": {
      "displayName": "Colin Benjamin",
      "userId": "06886597878420097412"
     },
     "user_tz": -330
    },
    "id": "R89-aLLXpXGK",
    "outputId": "6ed6b23f-56fd-4dc1-f657-7ad55ed60107"
   },
   "outputs": [
    {
     "name": "stdout",
     "output_type": "stream",
     "text": [
      "E-value: [4. 3. 2. 1.]\n",
      "E-vector [[ 1.         -0.9701425   0.88888889 -0.76429148]\n",
      " [ 0.          0.24253563 -0.44444444  0.57321861]\n",
      " [ 0.          0.          0.11111111 -0.28660931]\n",
      " [ 0.          0.          0.          0.07165233]]\n",
      "40.129477943277564\n",
      "E-value: [4.04884232 0.95115768 2.18205744 2.81794256]\n",
      "E-vector [[ 0.99991899  0.75725717 -0.90713923 -0.95891902]\n",
      " [ 0.01220959 -0.57718943  0.41228175  0.28337434]\n",
      " [ 0.00320148  0.29564253 -0.0843057  -0.0128976 ]\n",
      " [ 0.00163983 -0.0775206  -0.00383712 -0.00263737]]\n"
     ]
    }
   ],
   "source": [
    "import numpy as np\n",
    "A9 = np.array([[4,4,0,0], [0,3,4,0],[0,0,2,4],[0,0,0,1]])\n",
    "w,v=np.linalg.eig(A9)\n",
    "print('E-value:', w)\n",
    "print('E-vector', v)\n",
    "A9norm = np.linalg.norm(A9)\n",
    "A9inv=np.linalg.inv(A9)\n",
    "A9invnorm=np.linalg.norm(A9inv)\n",
    "print(A9norm*A9invnorm)\n",
    "A9d = np.array([[4,4,0,0], [0,3,4,0],[0,0,2,4],[0.005,0,0,1]])\n",
    "w,v=np.linalg.eig(A9d)\n",
    "print('E-value:', w)\n",
    "print('E-vector', v)"
   ]
  },
  {
   "cell_type": "markdown",
   "metadata": {
    "id": "k36OiiRjsBJa"
   },
   "source": [
    "This is much better conditioned, at least better than ex. 8, but changes are large compared to perturbation."
   ]
  },
  {
   "cell_type": "markdown",
   "metadata": {
    "id": "7hOI6EkevKqN"
   },
   "source": [
    "CONDITION NUMBER FOR EIGEN VALUES Example 8 (again)"
   ]
  },
  {
   "cell_type": "code",
   "execution_count": 13,
   "metadata": {
    "colab": {
     "base_uri": "https://localhost:8080/"
    },
    "executionInfo": {
     "elapsed": 423,
     "status": "ok",
     "timestamp": 1724324343292,
     "user": {
      "displayName": "Colin Benjamin",
      "userId": "06886597878420097412"
     },
     "user_tz": -330
    },
    "id": "Zdx505yZro_R",
    "outputId": "fb31126d-4cf8-4aad-eeba-a8721297b896"
   },
   "outputs": [
    {
     "name": "stdout",
     "output_type": "stream",
     "text": [
      "E-value: [7.31274213 2.06663092 0.13674761 0.48387934]\n",
      "E-vector [[ 0.73319229 -0.50597951 -0.03552739  0.08981592]\n",
      " [ 0.63293    -0.26114648  0.22427524 -0.09580043]\n",
      " [ 0.24559146  0.599716   -0.63638388 -0.45466534]\n",
      " [ 0.03890408  0.56225259  0.73719331  0.88092838]]\n",
      "[7.31274213+0.j 2.06663092+0.j 0.48387934+0.j 0.13674761+0.j] [[ 0.73319229 -0.50597951  0.08981592 -0.03552739]\n",
      " [ 0.63293    -0.26114648 -0.09580043  0.22427524]\n",
      " [ 0.24559146  0.599716   -0.45466534 -0.63638388]\n",
      " [ 0.03890408  0.56225259  0.88092838  0.73719331]]\n",
      "[-0.03552739  0.22427524 -0.63638388  0.73719331]\n",
      "2.8230996335945195\n",
      "126.74383614203887\n",
      "E-value: [7.3129755  2.06287308 0.12477715 0.49937427]\n",
      "E-vector [[ 0.73322121 -0.50489056 -0.04175813  0.09211235]\n",
      " [ 0.63290497 -0.2628705   0.23432976 -0.11006428]\n",
      " [ 0.24557035  0.59881226 -0.63967137 -0.44302653]\n",
      " [ 0.0388993   0.56339018  0.73086686  0.88494557]]\n"
     ]
    }
   ],
   "source": [
    "import numpy as np\n",
    "from scipy.linalg import eig\n",
    "A8 = np.array([[4,3,2,1], [3,3,2,1],[0,2,2,1],[0,0,1,1]])\n",
    "w,v=np.linalg.eig(A8)\n",
    "print('E-value:', w)\n",
    "print('E-vector', v)\n",
    "w, vl, vr = eig(A8, left=True)\n",
    "idx = np.argsort(w)[::-1]\n",
    "eigenValues = w[idx]\n",
    "LeigenVectors =vl[:,idx]\n",
    "eigenVectors = vr[:,idx]\n",
    "print(eigenValues, eigenVectors)\n",
    "vr3=eigenVectors[:,3]\n",
    "vl3=LeigenVectors[:,3]\n",
    "print(vr3)\n",
    "vlt3=vl3.T\n",
    "K3=1/abs(np.matmul(vlt3,vr3))\n",
    "print(K3)\n",
    "A8norm = np.linalg.norm(A8)\n",
    "A8inv=np.linalg.inv(A8)\n",
    "A8invnorm=np.linalg.norm(A8inv)\n",
    "print(A8norm*A8invnorm)\n",
    "A8d = np.array([[4,3,2,1+0.01], [3,3,2,1],[0,2,2,1],[0,0,1,1]])\n",
    "w,v=np.linalg.eig(A8d)\n",
    "print('E-value:', w)\n",
    "print('E-vector', v)"
   ]
  },
  {
   "cell_type": "markdown",
   "metadata": {
    "id": "WOmWz8EYvqPO"
   },
   "source": [
    "Back to example 9"
   ]
  },
  {
   "cell_type": "code",
   "execution_count": 14,
   "metadata": {
    "colab": {
     "base_uri": "https://localhost:8080/"
    },
    "executionInfo": {
     "elapsed": 615,
     "status": "ok",
     "timestamp": 1724324454700,
     "user": {
      "displayName": "Colin Benjamin",
      "userId": "06886597878420097412"
     },
     "user_tz": -330
    },
    "id": "PBH8J1lWvWnV",
    "outputId": "f272d4e7-3385-4069-b96a-31a19d4e46b2"
   },
   "outputs": [
    {
     "name": "stdout",
     "output_type": "stream",
     "text": [
      "E-value: [4. 3. 2. 1.]\n",
      "E-vector [[ 1.         -0.9701425   0.88888889 -0.76429148]\n",
      " [ 0.          0.24253563 -0.44444444  0.57321861]\n",
      " [ 0.          0.          0.11111111 -0.28660931]\n",
      " [ 0.          0.          0.          0.07165233]]\n",
      "[4.+0.j 3.+0.j 2.+0.j 1.+0.j] [[ 1.         -0.9701425   0.88888889 -0.76429148]\n",
      " [ 0.          0.24253563 -0.44444444  0.57321861]\n",
      " [ 0.          0.          0.11111111 -0.28660931]\n",
      " [ 0.          0.          0.          0.07165233]]\n",
      "[ 0.88888889 -0.44444444  0.11111111  0.        ]\n",
      "37.107950630558946\n",
      "40.129477943277564\n",
      "E-value: [4.04884232 2.81794256 2.18205744 0.95115768]\n",
      "E-vector [0.99991899 0.01220959 0.00320148 0.00163983]\n",
      "[-0.95891902  0.28337434 -0.0128976  -0.00263737]\n",
      "[-0.90713923  0.41228175 -0.0843057  -0.00383712]\n",
      "[ 0.75725717 -0.57718943  0.29564253 -0.0775206 ]\n"
     ]
    }
   ],
   "source": [
    "import numpy as np\n",
    "from scipy.linalg import eig\n",
    "A9 = np.array([[4,4,0,0], [0,3,4,0],[0,0,2,4],[0,0,0,1]])\n",
    "w,v=np.linalg.eig(A9)\n",
    "print('E-value:', w)\n",
    "print('E-vector', v)\n",
    "w, vl, vr = eig(A9, left=True)\n",
    "idx = np.argsort(w)[::-1]\n",
    "eigenValues = w[idx]\n",
    "LeigenVectors =vl[:,idx]\n",
    "eigenVectors = vr[:,idx]\n",
    "print(eigenValues, eigenVectors)\n",
    "vr2=eigenVectors[:,2]\n",
    "vl2=LeigenVectors[:,2]\n",
    "print(vr2)\n",
    "vlt2=vl2.T\n",
    "K2=1/abs(np.matmul(vlt2,vr2))\n",
    "print(K2)\n",
    "A9norm = np.linalg.norm(A9)\n",
    "A9inv=np.linalg.inv(A9)\n",
    "A9invnorm=np.linalg.norm(A9inv)\n",
    "print(A9norm*A9invnorm)\n",
    "A9d = np.array([[4,4,0,0], [0,3,4,0],[0,0,2,4],[0.005,0,0,1]])\n",
    "w,v=np.linalg.eig(A9d)\n",
    "idx = np.argsort(w)[::-1]\n",
    "eigenValues = w[idx]\n",
    "eigenVectors = v[:,idx]\n",
    "print('E-value:', eigenValues)\n",
    "print('E-vector', eigenVectors[:,0])\n",
    "print(eigenVectors[:,1])\n",
    "print(eigenVectors[:,2])\n",
    "print(eigenVectors[:,3])"
   ]
  },
  {
   "cell_type": "markdown",
   "metadata": {
    "id": "VMr-ehP4v8lx"
   },
   "source": [
    "An eigen value condition number differs from condition number for linear equations. An eigenvalue condition number close to 1 means its very well conditioned. While an eigenvalue condition much greater than 1 implies ill conditioned."
   ]
  },
  {
   "cell_type": "markdown",
   "metadata": {
    "id": "MWIIz4zewImG"
   },
   "source": [
    "\n",
    "\n",
    "Sensitivity to eigenvectors\n",
    "\n",
    "Example 3 (Again)\n"
   ]
  },
  {
   "cell_type": "code",
   "execution_count": 15,
   "metadata": {
    "colab": {
     "base_uri": "https://localhost:8080/"
    },
    "executionInfo": {
     "elapsed": 431,
     "status": "ok",
     "timestamp": 1724324677100,
     "user": {
      "displayName": "Colin Benjamin",
      "userId": "06886597878420097412"
     },
     "user_tz": -330
    },
    "id": "fVqcViv7vxw2",
    "outputId": "231c734f-f79a-4c68-d700-dcb71fa3c373"
   },
   "outputs": [
    {
     "name": "stdout",
     "output_type": "stream",
     "text": [
      "[3.+0.j 1.+0.j] [0.70710678 0.70710678] [-0.70710678  0.70710678]\n",
      "[3.00498756+0.j 0.99501244+0.j] [0.70534562 0.70886357] [-0.70534562  0.70886357]\n"
     ]
    }
   ],
   "source": [
    "import numpy as np\n",
    "from scipy.linalg import eig\n",
    "A3 = np.array([[2,1],[1,2]])\n",
    "w, vl, vr = eig(A3, left=True)\n",
    "idx = np.argsort(w)[::-1]\n",
    "eigenValues = w[idx]\n",
    "LeigenVectors =vl[:,idx]\n",
    "eigenVectors = vr[:,idx]\n",
    "print(eigenValues, eigenVectors[:,0],eigenVectors[:,1])\n",
    "A3d = np.array([[2,1],[1+.01,2]])\n",
    "w, vl, vr = eig(A3d, left=True)\n",
    "idx = np.argsort(w)[::-1]\n",
    "eigenValues = w[idx]\n",
    "LeigenVectors =vl[:,idx]\n",
    "eigenVectors = vr[:,idx]\n",
    "print(eigenValues, eigenVectors[:,0],eigenVectors[:,1])"
   ]
  },
  {
   "cell_type": "markdown",
   "metadata": {
    "id": "9lHFOf2rw5YN"
   },
   "source": [
    "This is example of well conditioned, because error in eigenvectors is actually much less than the magnitude of the perturbation."
   ]
  },
  {
   "cell_type": "code",
   "execution_count": 16,
   "metadata": {
    "colab": {
     "base_uri": "https://localhost:8080/"
    },
    "executionInfo": {
     "elapsed": 464,
     "status": "ok",
     "timestamp": 1724324821660,
     "user": {
      "displayName": "Colin Benjamin",
      "userId": "06886597878420097412"
     },
     "user_tz": -330
    },
    "id": "_y6EuQL6woG5",
    "outputId": "2b2bffb3-b82f-4bc7-faec-d4d1d7e6da94"
   },
   "outputs": [
    {
     "name": "stdout",
     "output_type": "stream",
     "text": [
      "[4.+0.j 3.+0.j 2.+0.j 1.+0.j]\n",
      "[1. 0. 0. 0.]\n",
      "[-0.9701425   0.24253563  0.          0.        ]\n",
      "[ 0.88888889 -0.44444444  0.11111111  0.        ]\n",
      "[-0.76429148  0.57321861 -0.28660931  0.07165233]\n",
      "[4.04884232+0.j 2.81794256+0.j 2.18205744+0.j 0.95115768+0.j]\n",
      "[0.99991899 0.01220959 0.00320148 0.00163983]\n",
      "[-0.95891902  0.28337434 -0.0128976  -0.00263737]\n",
      "[-0.90713923  0.41228175 -0.0843057  -0.00383712]\n",
      "[ 0.75725717 -0.57718943  0.29564253 -0.0775206 ]\n"
     ]
    }
   ],
   "source": [
    "import numpy as np\n",
    "from scipy.linalg import eig\n",
    "A9 = np.array([[4,4,0,0],[0,3,4,0],[0,0,2,4],[0,0,0,1]])\n",
    "w, vl, vr = eig(A9, left=True)\n",
    "idx = np.argsort(w)[::-1]\n",
    "eigenValues = w[idx]\n",
    "LeigenVectors =vl[:,idx]\n",
    "eigenVectors = vr[:,idx]\n",
    "print(eigenValues)\n",
    "print(eigenVectors[:,0])\n",
    "print(eigenVectors[:,1])\n",
    "print(eigenVectors[:,2])\n",
    "print(eigenVectors[:,3])\n",
    "A9d = np.array([[4,4,0,0],[0,3,4,0],[0,0,2,4],[0+.005,0,0,1]])\n",
    "w, vl, vr = eig(A9d, left=True)\n",
    "idx = np.argsort(w)[::-1]\n",
    "eigenValues = w[idx]\n",
    "LeigenVectors =vl[:,idx]\n",
    "eigenVectors = vr[:,idx]\n",
    "print(eigenValues),\n",
    "print(eigenVectors[:,0])\n",
    "print(eigenVectors[:,1])\n",
    "print(eigenVectors[:,2])\n",
    "print(eigenVectors[:,3])"
   ]
  },
  {
   "cell_type": "markdown",
   "metadata": {
    "id": "wNOH6gtsxo1x"
   },
   "source": [
    "Example 10\n",
    "\n",
    "$A =\\begin{bmatrix}  \n",
    "  1.01 & 0.01  \\\\\n",
    "  0 & 0.99  \\end{bmatrix}$\n",
    "\n",
    "  If I add a perturbation to element $A_{0,1}=0.005$, what is the effect on the eigenvalues and eigenvectors?"
   ]
  },
  {
   "cell_type": "code",
   "execution_count": 17,
   "metadata": {
    "colab": {
     "base_uri": "https://localhost:8080/"
    },
    "executionInfo": {
     "elapsed": 419,
     "status": "ok",
     "timestamp": 1724325097876,
     "user": {
      "displayName": "Colin Benjamin",
      "userId": "06886597878420097412"
     },
     "user_tz": -330
    },
    "id": "nt-pddOhxLY0",
    "outputId": "dbc8ea91-066e-46fd-e89a-391cd61a944b"
   },
   "outputs": [
    {
     "name": "stdout",
     "output_type": "stream",
     "text": [
      "[1. 0.]\n",
      "[0.89442719 0.4472136 ]\n",
      "1.1180339887498947\n",
      "[-0.4472136   0.89442719]\n",
      "[0. 1.]\n",
      "1.1180339887498947\n",
      "[1.01+0.j 0.99+0.j] [1. 0.] [-0.4472136   0.89442719]\n",
      "[1.01+0.j 0.99+0.j] [1. 0.] [-0.6  0.8]\n"
     ]
    }
   ],
   "source": [
    "import numpy as np\n",
    "from scipy.linalg import eig\n",
    "A10 = np.array([[1.01,.01],[0,.99]])\n",
    "w, vl, vr = eig(A10, left=True)\n",
    "idx = np.argsort(w)[::-1]\n",
    "eigenValues = w[idx]\n",
    "LeigenVectors =vl[:,idx]\n",
    "eigenVectors = vr[:,idx]\n",
    "vr0=eigenVectors[:,0]\n",
    "vl0=LeigenVectors[:,0]\n",
    "print(vr0)\n",
    "vlt0=vl0.T\n",
    "print(vlt0)\n",
    "K0=1/abs(np.matmul(vlt0,vr0))\n",
    "print(K0)\n",
    "vr1=eigenVectors[:,1]\n",
    "vl1=LeigenVectors[:,1]\n",
    "print(vr1)\n",
    "vlt1=vl1.T\n",
    "print(vlt1)\n",
    "K1=1/abs(np.matmul(vlt1,vr1))\n",
    "print(K1)\n",
    "print(eigenValues, eigenVectors[:,0],eigenVectors[:,1])\n",
    "A10d = np.array([[1.01,.01+.005],[0,.99]])\n",
    "w, vl, vr = eig(A10d, left=True)\n",
    "idx = np.argsort(w)[::-1]\n",
    "eigenValues = w[idx]\n",
    "LeigenVectors =vl[:,idx]\n",
    "eigenVectors = vr[:,idx]\n",
    "print(eigenValues, eigenVectors[:,0],eigenVectors[:,1])"
   ]
  },
  {
   "cell_type": "markdown",
   "metadata": {
    "id": "MEiFoiZq2tPh"
   },
   "source": [
    "Example 11\n",
    "\n",
    "$A =\\begin{bmatrix}  \n",
    "  1 & 2 & 3  \\\\\n",
    "  0 & 4 & 5 \\\\\n",
    "  0 & 0 & 4.001  \\end{bmatrix}$\n",
    "\n",
    "  If I add a perturbation to element $A_{2,0}=0.005$, what is the effect on the eigenvalues and eigenvectors?"
   ]
  },
  {
   "cell_type": "code",
   "execution_count": 18,
   "metadata": {
    "colab": {
     "base_uri": "https://localhost:8080/"
    },
    "executionInfo": {
     "elapsed": 454,
     "status": "ok",
     "timestamp": 1724326396973,
     "user": {
      "displayName": "Colin Benjamin",
      "userId": "06886597878420097412"
     },
     "user_tz": -330
    },
    "id": "d8h8b4U2yO1U",
    "outputId": "4771ffcf-ab0c-42e0-d4ec-24a4c3b17e56"
   },
   "outputs": [
    {
     "name": "stdout",
     "output_type": "stream",
     "text": [
      "[5.54687392e-01 8.32058814e-01 1.66411763e-04]\n",
      "[0. 0. 1.]\n",
      "6009.190596870348\n",
      "[0.5547002  0.83205029 0.        ]\n",
      "[ 0.00000000e+00  1.99999996e-04 -9.99999980e-01]\n",
      "6009.25224595635\n",
      "[4.001+0.j 4.   +0.j 1.   +0.j] [5.54687392e-01 8.32058814e-01 1.66411763e-04] [0.5547002  0.83205029 0.        ] [1. 0. 0.]\n",
      "[4.12933336+0.j 3.87111014+0.j 1.0005565 +0.j] [-0.55298164 -0.83291484 -0.02154473] [-0.55629299 -0.83071027  0.02141403] [ 0.99999475  0.00277787 -0.00166641]\n"
     ]
    }
   ],
   "source": [
    "import numpy as np\n",
    "from scipy.linalg import eig\n",
    "A11 = np.array([[1,2,3],[0,4,5],[0,0,4.001]])\n",
    "w, vl, vr = eig(A11, left=True)\n",
    "idx = np.argsort(w)[::-1]\n",
    "eigenValues = w[idx]\n",
    "LeigenVectors =vl[:,idx]\n",
    "eigenVectors = vr[:,idx]\n",
    "vr0=eigenVectors[:,0]\n",
    "vl0=LeigenVectors[:,0]\n",
    "print(vr0)\n",
    "vlt0=vl0.T\n",
    "print(vlt0)\n",
    "K0=1/abs(np.matmul(vlt0,vr0))\n",
    "print(K0)\n",
    "vr1=eigenVectors[:,1]\n",
    "vl1=LeigenVectors[:,1]\n",
    "print(vr1)\n",
    "vlt1=vl1.T\n",
    "print(vlt1)\n",
    "K1=1/abs(np.matmul(vlt1,vr1))\n",
    "print(K1)\n",
    "print(eigenValues, eigenVectors[:,0],eigenVectors[:,1],eigenVectors[:,2])\n",
    "A11d = np.array([[1,2,3],[0,4,5],[0.005,0,4.001]])\n",
    "w, vl, vr = eig(A11d, left=True)\n",
    "idx = np.argsort(w)[::-1]\n",
    "eigenValues = w[idx]\n",
    "LeigenVectors =vl[:,idx]\n",
    "eigenVectors = vr[:,idx]\n",
    "print(eigenValues, eigenVectors[:,0],eigenVectors[:,1],eigenVectors[:,2])"
   ]
  },
  {
   "cell_type": "markdown",
   "metadata": {},
   "source": [
    "Solving $Ax=b$ for lower and upper triangular matrices"
   ]
  },
  {
   "cell_type": "code",
   "execution_count": null,
   "metadata": {},
   "outputs": [
    {
     "name": "stdout",
     "output_type": "stream",
     "text": [
      "[[4.58257569 4.69041576 4.79583152 4.89897949]\n",
      " [5.         5.09901951 5.19615242 5.29150262]\n",
      " [5.38516481 5.47722558 5.56776436 5.65685425]\n",
      " [5.74456265 5.83095189 5.91607978 6.        ]]\n",
      "[24.45289367 25.67697243 26.90383729 28.13337297]\n",
      "[[4.58257569 0.         0.         0.        ]\n",
      " [5.         5.09901951 0.         0.        ]\n",
      " [5.38516481 5.47722558 5.56776436 0.        ]\n",
      " [5.74456265 5.83095189 5.91607978 6.        ]]\n",
      "[ 5.33605887 -0.19676761 -0.13541854 -0.09524368]\n",
      "[ 5.33605887 -0.19676761 -0.13541854 -0.09524368]\n",
      " \n",
      "[[4.58257569 4.69041576 4.79583152 4.89897949]\n",
      " [0.         5.09901951 5.19615242 5.29150262]\n",
      " [0.         0.         5.56776436 5.65685425]\n",
      " [0.         0.         0.         6.        ]]\n",
      "[0.14941285 0.10032435 0.06814924 4.6888955 ]\n",
      "[0.14941285 0.10032435 0.06814924 4.6888955 ]\n"
     ]
    }
   ],
   "source": [
    "import numpy as np\n",
    "def forsub(L,bs):\n",
    "  n = bs.size\n",
    "  xs = np.zeros(n)\n",
    "  for i in range(n):\n",
    "    xs[i] = (bs[i] - L[i,:i]@xs[:i])/L[i,i]\n",
    "  return xs\n",
    "def backsub(U,bs):\n",
    "  n = bs.size\n",
    "  xs = np.zeros(n)\n",
    "  for i in reversed(range(n)):\n",
    "    xs[i] = (bs[i] - U[i,i+1:]@xs[i+1:])/U[i,i]\n",
    "  return xs\n",
    "def testcreate(n,val):\n",
    "  A = np.arange(val,val+n*n).reshape(n,n)\n",
    "  A = np.sqrt(A)\n",
    "  bs = (A[0,:])**2.1\n",
    "  return A, bs\n",
    "def testsolve(f,A,bs):\n",
    "  xs = f(A,bs); print(xs)\n",
    "  xs = np.linalg.solve(A,bs); print(xs)\n",
    "\n",
    "A, bs = testcreate(4,21)\n",
    "print(A)\n",
    "print(bs)\n",
    "L = np.tril(A)\n",
    "print(L)\n",
    "testsolve(forsub,L,bs)\n",
    "print(\" \")\n",
    "U = np.triu(A)\n",
    "print(U)\n",
    "testsolve(backsub,U,bs)"
   ]
  },
  {
   "cell_type": "markdown",
   "metadata": {},
   "source": [
    "Gaussian elimination\n"
   ]
  },
  {
   "cell_type": "code",
   "execution_count": null,
   "metadata": {},
   "outputs": [
    {
     "name": "stdout",
     "output_type": "stream",
     "text": [
      "[[4.58257569 4.69041576 4.79583152 4.89897949]\n",
      " [5.         5.09901951 5.19615242 5.29150262]\n",
      " [5.38516481 5.47722558 5.56776436 5.65685425]\n",
      " [5.74456265 5.83095189 5.91607978 6.        ]]\n",
      "[24.45289367 25.67697243 26.90383729 28.13337297]\n",
      "[ 17118.9554009  -55069.99934969  58822.07580723 -20866.39246612]\n",
      "[ 17118.95550576 -55069.99968225  58822.07615809 -20866.39258928]\n"
     ]
    }
   ],
   "source": [
    "import numpy as np\n",
    "def gauelim(inA,inbs):\n",
    "  A = np.copy(inA)\n",
    "  bs = np.copy(inbs)\n",
    "  n = bs.size\n",
    "  for j in range(n-1):\n",
    "    for i in range(j+1,n):\n",
    "      coeff = A[i,j]/A[j,j]\n",
    "      A[i,j:] -= coeff*A[j,j:]\n",
    "      bs[i] -= coeff*bs[j]\n",
    "  xs = backsub(A,bs)\n",
    "  return xs\n",
    "\n",
    "def forsub(L,bs):\n",
    "  n = bs.size\n",
    "  xs = np.zeros(n)\n",
    "  for i in range(n):\n",
    "    xs[i] = (bs[i] - L[i,:i]@xs[:i])/L[i,i]\n",
    "  return xs\n",
    "def backsub(U,bs):\n",
    "  n = bs.size\n",
    "  xs = np.zeros(n)\n",
    "  for i in reversed(range(n)):\n",
    "    xs[i] = (bs[i] - U[i,i+1:]@xs[i+1:])/U[i,i]\n",
    "  return xs\n",
    "def testcreate(n,val):\n",
    "  A = np.arange(val,val+n*n).reshape(n,n)\n",
    "  A = np.sqrt(A)\n",
    "  bs = (A[0,:])**2.1\n",
    "  return A, bs\n",
    "def testsolve(f,A,bs):\n",
    "  xs = f(A,bs); print(xs)\n",
    "  xs = np.linalg.solve(A,bs); print(xs)\n",
    "#if _name == '_main_':\n",
    "A, bs = testcreate(4,21)\n",
    "print(A)\n",
    "print(bs)\n",
    "testsolve(gauelim,A,bs)"
   ]
  },
  {
   "cell_type": "markdown",
   "metadata": {},
   "source": [
    "LU Decomposition"
   ]
  },
  {
   "cell_type": "code",
   "execution_count": null,
   "metadata": {},
   "outputs": [
    {
     "name": "stdout",
     "output_type": "stream",
     "text": [
      "[ 17118.9554009  -55069.99934969  58822.07580723 -20866.39246612]\n",
      "[ 17118.95550576 -55069.99968225  58822.07615809 -20866.39258928]\n"
     ]
    }
   ],
   "source": [
    "import numpy as np\n",
    "def ludec(A):\n",
    "  n = A.shape[0]\n",
    "  U = np.copy(A)\n",
    "  L = np.identity(n)\n",
    "  for j in range(n-1):\n",
    "    for i in range(j+1,n):\n",
    "      coeff = U[i,j]/U[j,j]\n",
    "      U[i,j:] -= coeff*U[j,j:]\n",
    "      L[i,j] = coeff\n",
    "  return L, U\n",
    "def lusolve(A,bs):\n",
    "  L, U = ludec(A)\n",
    "  ys = forsub(L,bs)\n",
    "  xs = backsub(U,ys)\n",
    "  return xs\n",
    "def forsub(L,bs):\n",
    "  n = bs.size\n",
    "  xs = np.zeros(n)\n",
    "  for i in range(n):\n",
    "    xs[i] = (bs[i] - L[i,:i]@xs[:i])/L[i,i]\n",
    "  return xs\n",
    "def backsub(U,bs):\n",
    "  n = bs.size\n",
    "  xs = np.zeros(n)\n",
    "  for i in reversed(range(n)):\n",
    "    xs[i] = (bs[i] - U[i,i+1:]@xs[i+1:])/U[i,i]\n",
    "  return xs\n",
    "def testcreate(n,val):\n",
    "  A = np.arange(val,val+n*n).reshape(n,n)\n",
    "  A = np.sqrt(A)\n",
    "  bs = (A[0,:])**2.1\n",
    "  return A, bs\n",
    "def testsolve(f,A,bs):\n",
    "  xs = f(A,bs); print(xs)\n",
    "  xs = np.linalg.solve(A,bs); print(xs)\n",
    "A, bs = testcreate(4,21)\n",
    "testsolve(lusolve,A,bs)"
   ]
  },
  {
   "cell_type": "markdown",
   "metadata": {},
   "source": [
    "Gaussian elimnation doesn't work: \\\\\n",
    "Example 1:\n",
    "$(A|b)= \\begin{bmatrix}  \n",
    "  0 & -1 &| 1 \\\\\n",
    "  1 & 1 &| 2 \\end{bmatrix}$"
   ]
  },
  {
   "cell_type": "code",
   "execution_count": null,
   "metadata": {},
   "outputs": [
    {
     "name": "stdout",
     "output_type": "stream",
     "text": [
      "[[ 0. -1.]\n",
      " [ 1.  1.]]\n",
      "[1.0, 2.0]\n",
      "[nan nan]\n",
      "[ 3. -1.]\n"
     ]
    },
    {
     "name": "stderr",
     "output_type": "stream",
     "text": [
      "<ipython-input-2-e1312c4eee02>:8: RuntimeWarning: divide by zero encountered in scalar divide\n",
      "  coeff = A[i,j]/A[j,j]\n",
      "<ipython-input-2-e1312c4eee02>:9: RuntimeWarning: invalid value encountered in multiply\n",
      "  A[i,j:] -= coeff*A[j,j:]\n",
      "<ipython-input-2-e1312c4eee02>:24: RuntimeWarning: invalid value encountered in scalar divide\n",
      "  xs[i] = (bs[i] - U[i,i+1:]@xs[i+1:])/U[i,i]\n"
     ]
    }
   ],
   "source": [
    "import numpy as np\n",
    "def gauelim(inA,inbs):\n",
    "  A = np.copy(inA)\n",
    "  bs = np.copy(inbs)\n",
    "  n = bs.size\n",
    "  for j in range(n-1):\n",
    "    for i in range(j+1,n):\n",
    "      coeff = A[i,j]/A[j,j]\n",
    "      A[i,j:] -= coeff*A[j,j:]\n",
    "      bs[i] -= coeff*bs[j]\n",
    "  xs = backsub(A,bs)\n",
    "  return xs\n",
    "\n",
    "def forsub(L,bs):\n",
    "  n = bs.size\n",
    "  xs = np.zeros(n)\n",
    "  for i in range(n):\n",
    "    xs[i] = (bs[i] - L[i,:i]@xs[:i])/L[i,i]\n",
    "  return xs\n",
    "def backsub(U,bs):\n",
    "  n = bs.size\n",
    "  xs = np.zeros(n)\n",
    "  for i in reversed(range(n)):\n",
    "    xs[i] = (bs[i] - U[i,i+1:]@xs[i+1:])/U[i,i]\n",
    "  return xs\n",
    "Ap=[[0.,-1.], [1.,1.]]\n",
    "bs=[1.,2.]\n",
    "A = np.matrix(Ap)\n",
    "print(A)\n",
    "print(bs)\n",
    "def testsolve(f,A,bs):\n",
    "  xs = f(A,bs); print(xs)\n",
    "  xs = np.linalg.solve(A,bs); print(xs)\n",
    "testsolve(gauelim,A,bs)"
   ]
  },
  {
   "cell_type": "markdown",
   "metadata": {},
   "source": [
    "Example 2:\n",
    "$(A|b)= \\begin{bmatrix}  \n",
    "  2 & 1 &1 & | 8 \\\\\n",
    "  2 & 1 &-4  & |  -2 \\\\\n",
    "  1 & 2 & 1  &| 2 \\end{bmatrix}$"
   ]
  },
  {
   "cell_type": "code",
   "execution_count": null,
   "metadata": {},
   "outputs": [
    {
     "name": "stdout",
     "output_type": "stream",
     "text": [
      "[[ 2.  1.  1.]\n",
      " [ 2.  1. -4.]\n",
      " [ 1.  2.  1.]]\n",
      "[8.0, -2.0, 2.0]\n",
      "[nan nan nan]\n",
      "[ 4. -2.  2.]\n"
     ]
    },
    {
     "name": "stderr",
     "output_type": "stream",
     "text": [
      "<ipython-input-3-40b4fdcefc11>:8: RuntimeWarning: divide by zero encountered in scalar divide\n",
      "  coeff = A[i,j]/A[j,j]\n",
      "<ipython-input-3-40b4fdcefc11>:9: RuntimeWarning: invalid value encountered in multiply\n",
      "  A[i,j:] -= coeff*A[j,j:]\n",
      "<ipython-input-3-40b4fdcefc11>:24: RuntimeWarning: invalid value encountered in scalar divide\n",
      "  xs[i] = (bs[i] - U[i,i+1:]@xs[i+1:])/U[i,i]\n"
     ]
    }
   ],
   "source": [
    "import numpy as np\n",
    "def gauelim(inA,inbs):\n",
    "  A = np.copy(inA)\n",
    "  bs = np.copy(inbs)\n",
    "  n = bs.size\n",
    "  for j in range(n-1):\n",
    "    for i in range(j+1,n):\n",
    "      coeff = A[i,j]/A[j,j]\n",
    "      A[i,j:] -= coeff*A[j,j:]\n",
    "      bs[i] -= coeff*bs[j]\n",
    "  xs = backsub(A,bs)\n",
    "  return xs\n",
    "\n",
    "def forsub(L,bs):\n",
    "  n = bs.size\n",
    "  xs = np.zeros(n)\n",
    "  for i in range(n):\n",
    "    xs[i] = (bs[i] - L[i,:i]@xs[:i])/L[i,i]\n",
    "  return xs\n",
    "def backsub(U,bs):\n",
    "  n = bs.size\n",
    "  xs = np.zeros(n)\n",
    "  for i in reversed(range(n)):\n",
    "    xs[i] = (bs[i] - U[i,i+1:]@xs[i+1:])/U[i,i]\n",
    "  return xs\n",
    "Ap=[[2.,1.,1.], [2.,1.,-4.],[1.,2.,1.]]\n",
    "bs=[8.,-2.,2.]\n",
    "A = np.matrix(Ap)\n",
    "print(A)\n",
    "print(bs)\n",
    "def testsolve(f,A,bs):\n",
    "  xs = f(A,bs); print(xs)\n",
    "  xs = np.linalg.solve(A,bs); print(xs)\n",
    "testsolve(gauelim,A,bs)"
   ]
  },
  {
   "cell_type": "markdown",
   "metadata": {},
   "source": [
    "Gaussian elimnation doesn't work: \\\\\n",
    "Example 3:\n",
    "$(A|b)= \\begin{bmatrix}  \n",
    "  10^{-20} & -1 &   | 1 \\\\\n",
    "  1 & 1 &   | 2 \\end{bmatrix}$"
   ]
  },
  {
   "cell_type": "code",
   "execution_count": null,
   "metadata": {},
   "outputs": [
    {
     "name": "stdout",
     "output_type": "stream",
     "text": [
      "[[ 1.e-20 -1.e+00]\n",
      " [ 1.e+00  1.e+00]]\n",
      "[1.0, 2.0]\n",
      "[ 0. -1.]\n",
      "[ 3. -1.]\n"
     ]
    }
   ],
   "source": [
    "import numpy as np\n",
    "def gauelim(inA,inbs):\n",
    "  A = np.copy(inA)\n",
    "  bs = np.copy(inbs)\n",
    "  n = bs.size\n",
    "  for j in range(n-1):\n",
    "    for i in range(j+1,n):\n",
    "      coeff = A[i,j]/A[j,j]\n",
    "      A[i,j:] -= coeff*A[j,j:]\n",
    "      bs[i] -= coeff*bs[j]\n",
    "  xs = backsub(A,bs)\n",
    "  return xs\n",
    "def backsub(U,bs):\n",
    "  n = bs.size\n",
    "  xs = np.zeros(n)\n",
    "  for i in reversed(range(n)):\n",
    "    xs[i] = (bs[i] - U[i,i+1:]@xs[i+1:])/U[i,i]\n",
    "  return xs\n",
    "Ap=[[10.**(-20),-1.], [1.,1.]]\n",
    "bs=[1.,2.]\n",
    "A = np.matrix(Ap)\n",
    "print(A)\n",
    "print(bs)\n",
    "def testsolve(f,A,bs):\n",
    "  xs = f(A,bs); print(xs)\n",
    "  xs = np.linalg.solve(A,bs); print(xs)\n",
    "testsolve(gauelim,A,bs)"
   ]
  },
  {
   "cell_type": "markdown",
   "metadata": {},
   "source": [
    "PARTIAL PIVOTING\n",
    "\n",
    "Example 1:\n",
    "$(A|b)= \\begin{bmatrix}  \n",
    "  0 & -1 &| 1 \\\\\n",
    "  1 & 1 &| 2 \\end{bmatrix}$"
   ]
  },
  {
   "cell_type": "code",
   "execution_count": null,
   "metadata": {},
   "outputs": [
    {
     "name": "stdout",
     "output_type": "stream",
     "text": [
      "[[ 0. -1.]\n",
      " [ 1.  1.]]\n",
      "[1.0, 2.0]\n",
      "[ 3. -1.]\n",
      "[ 3. -1.]\n"
     ]
    }
   ],
   "source": [
    "import numpy as np\n",
    "def gauelim_pivot(inA,inbs):\n",
    "  A = np.copy(inA)\n",
    "  bs = np.copy(inbs)\n",
    "  n = bs.size\n",
    "  for j in range(n-1):\n",
    "    k = np.argmax(np.abs(A[j:,j])) + j\n",
    "#fIND INDEX OF MAXIMUM ENTRY IN COLUMN j\n",
    "    if k != j:\n",
    "      A[j,:], A[k,:] = A[k,:], A[j,:].copy()\n",
    "#INTERCHANGE ROWS j and k\n",
    "      bs[j], bs[k] = bs[k], bs[j]\n",
    "    for i in range(j+1,n):\n",
    "      coeff = A[i,j]/A[j,j]\n",
    "      A[i,j:] -= coeff*A[j,j:]\n",
    "      bs[i] -= coeff*bs[j]\n",
    "  xs = backsub(A,bs)\n",
    "  return xs\n",
    "def backsub(U,bs):\n",
    "  n = bs.size\n",
    "  xs = np.zeros(n)\n",
    "  for i in reversed(range(n)):\n",
    "    xs[i] = (bs[i] - U[i,i+1:]@xs[i+1:])/U[i,i]\n",
    "  return xs\n",
    "Ap=[[0.,-1.], [1.,1.]]\n",
    "bs=[1.,2.]\n",
    "A = np.matrix(Ap)\n",
    "print(A)\n",
    "print(bs)\n",
    "def testsolve(f,A,bs):\n",
    "  xs = f(A,bs); print(xs)\n",
    "  xs = np.linalg.solve(A,bs); print(xs)\n",
    "testsolve(gauelim_pivot,A,bs)"
   ]
  },
  {
   "cell_type": "markdown",
   "metadata": {},
   "source": [
    "Partial Pivot\n",
    "Example 2:\n",
    "$(A|b)= \\begin{bmatrix}  \n",
    "  2 & 1 & 1 &| 8 \\\\\n",
    "  2 & 1 & -4&|  -2 \\\\\n",
    "  1 & 2 & 1 &| 2 \\end{bmatrix}$"
   ]
  },
  {
   "cell_type": "code",
   "execution_count": null,
   "metadata": {},
   "outputs": [
    {
     "name": "stdout",
     "output_type": "stream",
     "text": [
      "[ 4. -2.  2.]\n",
      "[ 4. -2.  2.]\n"
     ]
    }
   ],
   "source": [
    "import numpy as np\n",
    "def gauelim_pivot(inA,inbs):\n",
    "  A = np.copy(inA)\n",
    "  bs = np.copy(inbs)\n",
    "  n = bs.size\n",
    "  for j in range(n-1):\n",
    "    k = np.argmax(np.abs(A[j:,j])) + j\n",
    "    if k != j:\n",
    "      A[j,:], A[k,:] = A[k,:], A[j,:].copy()\n",
    "      bs[j], bs[k] = bs[k], bs[j]\n",
    "    for i in range(j+1,n):\n",
    "      coeff = A[i,j]/A[j,j]\n",
    "      A[i,j:] -= coeff*A[j,j:]\n",
    "      bs[i] -= coeff*bs[j]\n",
    "  xs = backsub(A,bs)\n",
    "  return xs\n",
    "def backsub(U,bs):\n",
    "  n = bs.size\n",
    "  xs = np.zeros(n)\n",
    "  for i in reversed(range(n)):\n",
    "    xs[i] = (bs[i] - U[i,i+1:]@xs[i+1:])/U[i,i]\n",
    "  return xs\n",
    "Ap=[[2.,1.,1.], [2.,1.,-4.],[1.,2.,1.]]\n",
    "bs=[8.,-2.,2]\n",
    "A = np.array(Ap)\n",
    "def testsolve(f,A,bs):\n",
    "  xs = f(A,bs); print(xs)\n",
    "  xs = np.linalg.solve(A,bs); print(xs)\n",
    "testsolve(gauelim_pivot,A,bs)"
   ]
  },
  {
   "cell_type": "markdown",
   "metadata": {},
   "source": [
    "Partial Pivot\n",
    "Example 3:\n",
    "$(A|b)= \\begin{bmatrix}  \n",
    "  10^{-20} & -1 &| 1 \\\\\n",
    "  1 & 1 &| 2 \\end{bmatrix}$"
   ]
  },
  {
   "cell_type": "code",
   "execution_count": null,
   "metadata": {},
   "outputs": [
    {
     "name": "stdout",
     "output_type": "stream",
     "text": [
      "[ 3. -1.]\n",
      "[ 3. -1.]\n"
     ]
    }
   ],
   "source": [
    "import numpy as np\n",
    "def gauelim_pivot(inA,inbs):\n",
    "  A = np.copy(inA)\n",
    "  bs = np.copy(inbs)\n",
    "  n = bs.size\n",
    "  for j in range(n-1):\n",
    "    k = np.argmax(np.abs(A[j:,j])) + j\n",
    "    if k != j:\n",
    "      A[j,:], A[k,:] = A[k,:], A[j,:].copy()\n",
    "      bs[j], bs[k] = bs[k], bs[j]\n",
    "    for i in range(j+1,n):\n",
    "      coeff = A[i,j]/A[j,j]\n",
    "      A[i,j:] -= coeff*A[j,j:]\n",
    "      bs[i] -= coeff*bs[j]\n",
    "  xs = backsub(A,bs)\n",
    "  return xs\n",
    "def backsub(U,bs):\n",
    "  n = bs.size\n",
    "  xs = np.zeros(n)\n",
    "  for i in reversed(range(n)):\n",
    "    xs[i] = (bs[i] - U[i,i+1:]@xs[i+1:])/U[i,i]\n",
    "  return xs\n",
    "Ap=[[10**(-20),-1.], [1.,1.]]\n",
    "bs=[1.,2]\n",
    "A = np.matrix(Ap)\n",
    "def testsolve(f,A,bs):\n",
    "  xs = f(A,bs); print(xs)\n",
    "  xs = np.linalg.solve(A,bs); print(xs)\n",
    "testsolve(gauelim_pivot,A,bs)"
   ]
  },
  {
   "cell_type": "markdown",
   "metadata": {},
   "source": [
    "SCALED PARTIAL\n",
    "\n",
    "\n",
    "\n",
    "\n",
    "Define for each row: a scale factor $s_{i}= max_{0\\le j \\le n-1}  |A_{ij}|$.\n",
    "\n",
    "\n",
    "$s_i$ is the largest element in row $i$.\n",
    "\n",
    "\n",
    "Instead of determining $k$ as corresponding to largest matrix element in column $j$ (at or below $A_{jj}$), as done in Partial Pivot, we determine $k$ by finding matrix element with largest relative magnitude, i.e., the largest in comparison to other elements in its row.\n",
    "\n",
    "\n",
    "Thus we search for smallest integer $k$ that satisfies:\n",
    "\n",
    "$\\frac{|A_{kj}|}{s_{k}} = \\max_{j\\le m\\le n-1} \\frac{|A_{mj}|}{s_{m}}  $.\n",
    "\n",
    "Then we interchange rows $j$ and $k$."
   ]
  },
  {
   "cell_type": "code",
   "execution_count": null,
   "metadata": {},
   "outputs": [
    {
     "name": "stdout",
     "output_type": "stream",
     "text": [
      "[[ 1.e-20 -1.e+00]\n",
      " [ 1.e-20  1.e-20]]\n",
      "[1, 2e-20]\n",
      "[ 3. -1.]\n",
      "[ 0. -1.]\n"
     ]
    }
   ],
   "source": [
    "#scaled partial pivot\n",
    "import numpy as np\n",
    "def gauelim_pivot_scale(inA,inbs):\n",
    "    A = np.copy(inA)\n",
    "    bs = np.copy(inbs)\n",
    "    n = bs.size\n",
    "    scales = np.max(np.abs(A),axis=1)\n",
    "#In a 2-dimensional NumPy array, the axes are the directions along the rows and columns.\n",
    "#AXIS 0 IS THE DIRECTION ALONG THE ROWS, AXIS 1 IS THE DIRECTION ALONG THE COLUMNS\n",
    "\n",
    "    for j in range(n-1):\n",
    "        k = np.argmax(np.abs(A[j:,j])/scales[j:]) + j\n",
    "        scales[j], scales[k] = scales[k], scales[j]\n",
    "        bs[j], bs[k] = bs[k], bs[j]\n",
    "        A[j,:], A[k,:] = A[k,:], A[j,:].copy()\n",
    "\n",
    "        for i in range(j+1,n):\n",
    "            coeff = A[i,j]/A[j,j]\n",
    "            A[i,j:] -= coeff*A[j,j:]\n",
    "            bs[i] -= coeff*bs[j]\n",
    "\n",
    "    xs = backsub(A,bs)\n",
    "    return xs\n",
    "def backsub(U,bs):\n",
    "  n = bs.size\n",
    "  xs = np.zeros(n)\n",
    "  for i in reversed(range(n)):\n",
    "    xs[i] = (bs[i] - U[i,i+1:]@xs[i+1:])/U[i,i]\n",
    "  return xs\n",
    "Ap=[[10**(-20),-1.], [10**(-20),10**(-20)]]\n",
    "bs=[1,2.*10**(-20)]\n",
    "A = np.matrix(Ap)\n",
    "print(A)\n",
    "print(bs)\n",
    "def testsolve(f,A,bs):\n",
    "  xs = f(A,bs); print(xs)\n",
    "  xs = np.linalg.solve(A,bs); print(xs)\n",
    "testsolve(gauelim_pivot_scale,A,bs)"
   ]
  },
  {
   "cell_type": "markdown",
   "metadata": {},
   "source": [
    "Jacobi Iterative Method\n",
    "\n",
    "\n",
    "$x_i^{k}=(b_{i} - \\sum_{j=0}^{i-1} A_{ij}x_{j}^{k-1}- \\sum_{j=i+1}^{n-1} A_{ij}x_{j}^{k-1})\\frac{1}{A_{ii}}, i=0, 1, ..n-1$\n",
    "\n",
    "\n",
    "convergence criteria:\n",
    "\n",
    "$\\sum_{i=0}^{n-1} |\\frac{x_{i}^{k}-x_{i}^{k-1}}{x_{i}^k}| \\le \\epsilon$"
   ]
  },
  {
   "cell_type": "code",
   "execution_count": null,
   "metadata": {},
   "outputs": [
    {
     "name": "stdout",
     "output_type": "stream",
     "text": [
      "1 [0.95584174 0.98382901 1.01264965 1.04197678] 4.0\n",
      "2 [0.38609117 0.38784058 0.39421864 0.40425572] 6.158643474272702\n",
      "3 [0.73341768 0.74941422 0.76835846 0.78969405] 1.9310672038734116\n",
      "4 [0.52317706 0.53023862 0.54134654 0.55573114] 1.6555533665830167\n",
      "5 [0.65072149 0.6631481  0.67896251 0.6975372 ] 0.8024076458188099\n",
      "6 [0.57339977 0.58256412 0.59551555 0.61154376] 0.5539167512173229\n",
      "7 [0.6202852  0.63142596 0.64611142 0.66368227] 0.30983792417040845\n",
      "8 [0.59185737 0.60179949 0.61543315 0.63206832] 0.19712628238915642\n",
      "9 [0.60909428 0.61976313 0.63403445 0.65123688] 0.11605599760545227\n",
      "10 [0.59864294 0.60887114 0.62275581 0.63961427] 0.07162932168524415\n",
      "11 [0.60497996 0.61547534 0.62959445 0.64666147] 0.04296480237007709\n",
      "12 [0.6011376  0.61147098 0.62544794 0.6423885 ] 0.026221914973545257\n",
      "13 [0.60346736 0.61389897 0.62796212 0.64497935] 0.015836323357587702\n",
      "14 [0.60205475 0.61242679 0.62643768 0.64340843] 0.009625240606544867\n",
      "15 [0.60291127 0.61331942 0.627362   0.64436094] 0.005827622959638275\n",
      "16 [0.60239193 0.61277819 0.62680155 0.6437834 ] 0.0035366211778694286\n",
      "17 [0.60270682 0.61310636 0.62714137 0.64413358] 0.002143230680561838\n",
      "18 [0.60251589 0.61290738 0.62693533 0.64392125] 0.0012999398547222725\n",
      "19 [0.60263166 0.61302803 0.62706026 0.64404999] 0.0007880447138564145\n",
      "20 [0.60256146 0.61295487 0.62698451 0.64397193] 0.00047787679848529385\n",
      "21 [0.60260403 0.61299923 0.62703044 0.64401926] 0.0002897328047164427\n",
      "22 [0.60257822 0.61297234 0.62700259 0.64399056] 0.00017568308149790347\n",
      "23 [0.60259387 0.61298864 0.62701948 0.64400797] 0.00010652009946952199\n",
      "24 [0.60258438 0.61297875 0.62700924 0.64399742] 6.458798988974602e-05\n",
      "25 [0.60259013 0.61298475 0.62701545 0.64400381] 3.916162521264781e-05\n",
      "26 [0.60258664 0.61298111 0.62701168 0.64399993] 2.3745235251712988e-05\n",
      "27 [0.60258876 0.61298332 0.62701397 0.64400229] 1.4397533714587382e-05\n",
      "28 [0.60258748 0.61298198 0.62701258 0.64400086] 8.729758777493622e-06\n",
      "29 [0.60258825 0.61298279 0.62701342 0.64400172] 5.2931580222949495e-06\n",
      "30 [0.60258778 0.6129823  0.62701291 0.6440012 ] 3.2094336318618936e-06\n",
      "31 [0.60258807 0.6129826  0.62701322 0.64400152] 1.9459934721551643e-06\n",
      "32 [0.60258789 0.61298242 0.62701303 0.64400132] 1.1799258029178294e-06\n",
      "33 [0.602588   0.61298253 0.62701315 0.64400144] 7.154310950193359e-07\n",
      "[0.602588   0.61298253 0.62701315 0.64400144]\n",
      "[0.60258796 0.61298249 0.6270131  0.6440014 ]\n"
     ]
    }
   ],
   "source": [
    "import numpy as np\n",
    "def termcrit(xolds,xnews):\n",
    "  errs = np.abs((xnews - xolds)/xnews)\n",
    "  return np.sum(errs)\n",
    "def jacobi(A,bs,kmax=50,tol=1.e-6):\n",
    "  n = bs.size\n",
    "  xnews = np.zeros(n)\n",
    "  for k in range(1,kmax):\n",
    "    xs = np.copy(xnews)\n",
    "    for i in range(n):\n",
    "      slt = A[i,:i]@xs[:i]\n",
    "      sgt = A[i,i+1:]@xs[i+1:]\n",
    "      xnews[i] = (bs[i] - slt - sgt)/A[i,i]\n",
    "    err = termcrit(xs, xnews)\n",
    "    print(k, xnews, err)\n",
    "    if err < tol:\n",
    "      break\n",
    "  else:\n",
    "    xnews = None\n",
    "  return xnews\n",
    "def testcreate(n,val):\n",
    "  A = np.arange(val,val+n*n).reshape(n,n)\n",
    "  A = np.sqrt(A)\n",
    "  bs = (A[0,:])**2.1\n",
    "  return A, bs\n",
    "def testsolve(f,A,bs):\n",
    "  xs = f(A,bs); print(xs)\n",
    "  xs = np.linalg.solve(A,bs); print(xs)\n",
    "n = 4; val = 21;\n",
    "A, bs = testcreate(n,val)\n",
    "A += val*np.identity(n)\n",
    "testsolve(jacobi,A,bs)"
   ]
  }
 ],
 "metadata": {
  "colab": {
   "authorship_tag": "ABX9TyOTRWsNpWsKpJCKccrW5+e7",
   "provenance": []
  },
  "kernelspec": {
   "display_name": "Python 3",
   "name": "python3"
  },
  "language_info": {
   "name": "python"
  }
 },
 "nbformat": 4,
 "nbformat_minor": 0
}
