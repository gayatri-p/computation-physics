{
 "cells": [
  {
   "cell_type": "markdown",
   "metadata": {
    "id": "e1XE-3HZ9hrJ"
   },
   "source": [
    "Trapeziodal Gezerlis"
   ]
  },
  {
   "cell_type": "code",
   "execution_count": 1,
   "metadata": {
    "colab": {
     "base_uri": "https://localhost:8080/"
    },
    "executionInfo": {
     "elapsed": 403,
     "status": "ok",
     "timestamp": 1730971926082,
     "user": {
      "displayName": "Colin Benjamin",
      "userId": "06886597878420097412"
     },
     "user_tz": -330
    },
    "id": "LWqcwcd28Jxt",
    "outputId": "3ae27b98-3cbd-47ae-9de6-1e8aa0cb5be2"
   },
   "outputs": [
    {
     "name": "stdout",
     "output_type": "stream",
     "text": [
      "-0.894834657645572 "
     ]
    }
   ],
   "source": [
    "import numpy as np\n",
    "\n",
    "\n",
    "def f(x): return np.sqrt(x)*np.cos(x)\n",
    "\n",
    "def trapezoid(f,a,b,n):\n",
    "  h = (b-a)/(n-1)\n",
    "  xs = a + np.arange(n)*h\n",
    "  cs = np.ones(n); cs[0] = 0.5; cs[-1] = 0.5\n",
    "  contribs = cs*f(xs)\n",
    "  return h*np.sum(contribs)\n",
    "print(trapezoid(f, 0., np.pi, 5100), end=\" \")"
   ]
  },
  {
   "cell_type": "code",
   "execution_count": 2,
   "metadata": {
    "colab": {
     "base_uri": "https://localhost:8080/"
    },
    "executionInfo": {
     "elapsed": 422,
     "status": "ok",
     "timestamp": 1730973192788,
     "user": {
      "displayName": "Colin Benjamin",
      "userId": "06886597878420097412"
     },
     "user_tz": -330
    },
    "id": "iRk11ra690qT",
    "outputId": "7dbdd8fc-2fe1-4b78-f9ad-a1a26ddb7389"
   },
   "outputs": [
    {
     "name": "stdout",
     "output_type": "stream",
     "text": [
      "3 -1.3920819992079265 0.3333333333333334\n",
      "5 -1.056338333343367 0.10594574839859407\n",
      "9 -0.9498046747146611 0.037387918261794356\n",
      "17 -0.9138409458774788 0.013118157668983865\n",
      "33 -0.9014541939325874 0.004580285213330047\n",
      "65 -0.8971491275741257 0.0015995357687829622\n",
      "129 -0.8956449881556915 0.0005597974786607915\n",
      "257 -0.8951176226136272 0.00019638593809399814\n",
      "513 -0.8949322730499143 6.903671905107309e-05\n",
      "1025 -0.8948670172545393 2.4307446103436986e-05\n",
      "2049 -0.8948440146042699 8.568588451927434e-06\n",
      "4097 -0.8948358991255416 3.0230789564079614e-06\n",
      "8193 -0.894833034166816 1.0672228286169633e-06\n",
      "16385 -0.8948320223249948 3.769205824761148e-07\n",
      "-0.8948320223249948\n",
      "\n"
     ]
    }
   ],
   "source": [
    "import numpy as np\n",
    "def f(x):\n",
    "  return np.sqrt(x)*np.cos(x)\n",
    "\n",
    "def trapeze(f,a,b,n):\n",
    "  h = (b-a)/(n-1)\n",
    "  xs = a + np.arange(n)*h\n",
    "  cs = np.ones(n); cs[0] = 0.5; cs[-1] = 0.5\n",
    "  contribs = cs*f(xs)\n",
    "  return h*np.sum(contribs)\n",
    "\n",
    "def adaptive(f,a,b,simpson,kmax = 20,tol = 1.e-6):\n",
    "  denom = 3\n",
    "  n = 2\n",
    "  val = trapeze(f,a,b,n)\n",
    "  for k in range(kmax):\n",
    "    nprime = 2*n-1\n",
    "    valprime = trapeze(f,a,b,nprime)\n",
    "    err = abs(valprime-val)/denom\n",
    "    err /= abs(valprime)\n",
    "    print(nprime, valprime, err)\n",
    "    if err<tol:\n",
    "      break\n",
    "    n, val = nprime, valprime\n",
    "  else:\n",
    "    valprime = None\n",
    "  return valprime\n",
    "print(adaptive(f, 0., np.pi, trapeze)); print(\"\")"
   ]
  },
  {
   "cell_type": "markdown",
   "metadata": {
    "id": "BaIqStsXGOaU"
   },
   "source": [
    "Simpson Composite\n"
   ]
  },
  {
   "cell_type": "code",
   "execution_count": 3,
   "metadata": {
    "colab": {
     "base_uri": "https://localhost:8080/"
    },
    "executionInfo": {
     "elapsed": 404,
     "status": "ok",
     "timestamp": 1730974194382,
     "user": {
      "displayName": "Colin Benjamin",
      "userId": "06886597878420097412"
     },
     "user_tz": -330
    },
    "id": "xmBbx3BvCs4j",
    "outputId": "bf1fbfd4-99c7-4203-f041-b7145d636ef5"
   },
   "outputs": [
    {
     "name": "stdout",
     "output_type": "stream",
     "text": [
      "-0.8948719029807339 "
     ]
    }
   ],
   "source": [
    "import numpy as np\n",
    "def f(x):\n",
    "  return np.sqrt(x)*np.cos(x)\n",
    "\n",
    "def simpson(f,a,b,n):\n",
    "  h = (b-a)/(n-1)\n",
    "  xs = a + np.arange(n)*h\n",
    "  cs = 2*np.ones(n)\n",
    "  cs[1::2] = 4; cs[0] = 1; cs[-1] = 1\n",
    "  contribs = cs*f(xs)\n",
    "  return (h/3)*np.sum(contribs)\n",
    "print(simpson(f, 0., np.pi, 501), end=\" \")\n"
   ]
  },
  {
   "cell_type": "markdown",
   "metadata": {
    "id": "jFcMPE0FHQzV"
   },
   "source": [
    "Adaptive Simpson"
   ]
  },
  {
   "cell_type": "code",
   "execution_count": 4,
   "metadata": {
    "colab": {
     "base_uri": "https://localhost:8080/"
    },
    "executionInfo": {
     "elapsed": 391,
     "status": "ok",
     "timestamp": 1730974427304,
     "user": {
      "displayName": "Colin Benjamin",
      "userId": "06886597878420097412"
     },
     "user_tz": -330
    },
    "id": "EQgxJDQEGhar",
    "outputId": "2efd605c-c6ca-47be-e1e7-e82e0b6a13eb"
   },
   "outputs": [
    {
     "name": "stdout",
     "output_type": "stream",
     "text": [
      "3 -0.9280546661386176 0.06666666666666668\n",
      "5 -0.9444237780551803 0.0011554920080666191\n",
      "9 -0.914293455171759 0.002196984109276749\n",
      "17 -0.9018530362650847 0.0009196190810419056\n",
      "33 -0.8973252766176234 0.0003363893239493752\n",
      "65 -0.8957141054546385 0.00011991706975647414\n",
      "129 -0.8951436083495465 4.248831135552376e-05\n",
      "257 -0.8949418340996058 1.503071613167845e-05\n",
      "513 -0.89487048986201 5.315051239560298e-06\n",
      "1025 -0.8948452653227479 1.8792477492763297e-06\n",
      "2049 -0.8948363470541802 6.644245507010768e-07\n",
      "-0.8948363470541802\n",
      "\n"
     ]
    }
   ],
   "source": [
    "import numpy as np\n",
    "def f(x):\n",
    "  return np.sqrt(x)*np.cos(x)\n",
    "\n",
    "def simpson(f,a,b,n):\n",
    "  h = (b-a)/(n-1)\n",
    "  xs = a + np.arange(n)*h\n",
    "  cs = 2*np.ones(n)\n",
    "  cs[1::2] = 4; cs[0] = 1; cs[-1] = 1\n",
    "  contribs = cs*f(xs)\n",
    "  return (h/3)*np.sum(contribs)\n",
    "\n",
    "def adaptive(f,a,b,simpson,kmax = 20,tol = 1.e-6):\n",
    "  denom = 15\n",
    "  n = 2\n",
    "  val = simpson(f,a,b,n)\n",
    "  for k in range(kmax):\n",
    "    nprime = 2*n-1\n",
    "    valprime = simpson(f,a,b,nprime)\n",
    "    err = abs(valprime-val)/denom\n",
    "    err /= abs(valprime)\n",
    "    print(nprime, valprime, err)\n",
    "    if err<tol:\n",
    "      break\n",
    "    n, val = nprime, valprime\n",
    "  else:\n",
    "    valprime = None\n",
    "  return valprime\n",
    "print(adaptive(f, 0., np.pi, simpson)); print(\"\")\n"
   ]
  },
  {
   "cell_type": "code",
   "execution_count": null,
   "metadata": {},
   "outputs": [
    {
     "name": "stdout",
     "output_type": "stream",
     "text": [
      "0.8813735870195429\n",
      "0.8535533906 \n",
      "0.8739902908 0.8808025909 \n",
      "0.8795307704 0.8813775970 0.8814159307 \n",
      "0.8809131418 0.8813739323 0.8813736880 0.8813730175 \n",
      "0.8812584924 0.8813736093 0.8813735877 0.8813735861 0.8813735884 \n",
      "0.8813448144 0.8813735884 0.8813735870 0.8813735870 0.8813735870 0.8813735870 \n",
      "0.8813735870215318\n"
     ]
    }
   ],
   "source": [
    "#Romberg\n",
    "import numpy as np\n",
    "def f(x):\n",
    "  return 1/np.sqrt(x**2 + 1)\n",
    "def trapezoid(f,a,b,n):\n",
    "  h = (b-a)/(n-1)\n",
    "  xs = a + np.arange(n)*h\n",
    "  cs = np.ones(n); cs[0] = 0.5; cs[-1] = 0.5\n",
    "  contribs = cs*f(xs)\n",
    "  return h*np.sum(contribs)\n",
    "def prettyprint(row):\n",
    "  for elem in row:\n",
    "    print(\"{0:1.10f} \".format(elem),end=\"\")\n",
    "  print(\"\")\n",
    "def richardson(Rprev, Rincurr0, i):\n",
    "  Rcurr = [Rincurr0]\n",
    "  for j in range(1, i+1):\n",
    "    val = (4**j*Rcurr[j-1] - Rprev[j-1])/(4**j - 1)\n",
    "    Rcurr.append(val)\n",
    "  return Rcurr\n",
    "def romberg(f,a,b,imax = 20,tol = 1.e-8):\n",
    "  n = 2\n",
    "  val = trapezoid(f,a,b,n)\n",
    "  Rprev = [val]\n",
    "  prettyprint(Rprev)\n",
    "  for i in range(1,imax):\n",
    "    nprime = 2*n-1\n",
    "    Rincurr0 = trapezoid(f,a,b,nprime)\n",
    "    Rcurr = richardson(Rprev, Rincurr0, i)\n",
    "    prettyprint(Rcurr)\n",
    "    err = abs(Rprev[-1] - Rcurr[-1])/abs(Rcurr[-1])\n",
    "    valprime = Rcurr[-1]\n",
    "    if err < tol:\n",
    "      break\n",
    "    n = nprime\n",
    "    Rprev = Rcurr[:]\n",
    "  else:\n",
    "    valprime = None\n",
    "  return valprime\n",
    "ans = np.log(1 + np.sqrt(2))\n",
    "print(ans)\n",
    "print(romberg(f,0.,1.))"
   ]
  },
  {
   "cell_type": "markdown",
   "metadata": {},
   "source": [
    "Gauss Legendre quadrature"
   ]
  },
  {
   "cell_type": "code",
   "execution_count": null,
   "metadata": {},
   "outputs": [
    {
     "name": "stdout",
     "output_type": "stream",
     "text": [
      "0.8813735870195429\n",
      "2 0.8817898064445451\n",
      "3 0.881331201937916\n",
      "4 0.8813752230725129\n",
      "5 0.8813735706987258\n",
      "6 0.8813735849145596\n",
      "7 0.8813735871721439\n",
      "8 0.8813735870147532\n",
      "9 0.8813735870195203\n"
     ]
    }
   ],
   "source": [
    "import numpy as np\n",
    "import matplotlib.pyplot as plt\n",
    "def f(x):\n",
    "  return 1/np.sqrt(x**2 + 1)\n",
    "#Get derivatives of Legendre polynomial which are needed for weights\n",
    "def legendre(n,x):\n",
    "  if n==0:\n",
    "    val2 = 1.\n",
    "    dval2 = 0.\n",
    "  elif n==1:\n",
    "    val2 = x\n",
    "    dval2 = 1.\n",
    "  else:\n",
    "    val0 = 1.; val1 = x\n",
    "    for j in range(1,n):\n",
    "      val2 = ((2*j+1)*x*val1 - j*val0)/(j+1)\n",
    "      val0, val1 = val1, val2\n",
    "    dval2 = n*(val0-x*val1)/(1.-x**2)\n",
    "  return val2, dval2\n",
    "def legnewton(n,xold,kmax=200,tol=1.e-8):\n",
    "  for k in range(1,kmax):\n",
    "    val, dval = legendre(n,xold)\n",
    "    xnew = xold - val/dval\n",
    "    xdiff = xnew - xold\n",
    "    if abs(xdiff/xnew) < tol:\n",
    "      break\n",
    "    xold = xnew\n",
    "  else:\n",
    "    xnew = None\n",
    "  return xnew\n",
    "def legroots(n):\n",
    "  roots = np.zeros(n)\n",
    "  npos = n//2\n",
    "  for i in range(npos):\n",
    "    xold = np.cos(np.pi*(4*i+3)/(4*n+2))\n",
    "    root = legnewton(n,xold)\n",
    "    roots[i] = -root\n",
    "    roots[-1-i] = root\n",
    "  return roots\n",
    "def gauleg_params(n):\n",
    "  xs = legroots(n)\n",
    "  cs = 2/((1-xs**2)*legendre(n,xs)[1]**2)\n",
    "  return xs, cs\n",
    "def gauleg(f,a,b,n):\n",
    "  xs, cs = gauleg_params(n)\n",
    "  coeffp = 0.5*(b+a)\n",
    "  coeffm = 0.5*(b-a)\n",
    "  ts = coeffp + coeffm*xs\n",
    "  contribs = cs*f(ts)\n",
    "  return coeffm*np.sum(contribs)\n",
    "ans = np.log(1 + np.sqrt(2))\n",
    "print(ans)\n",
    "for n in range(2,10):\n",
    "    print(n, gauleg(f,0.,1,n))"
   ]
  }
 ],
 "metadata": {
  "colab": {
   "authorship_tag": "ABX9TyNkgtm3DFpdboCOgl7Ge22S",
   "provenance": []
  },
  "kernelspec": {
   "display_name": "Python 3",
   "name": "python3"
  },
  "language_info": {
   "name": "python"
  }
 },
 "nbformat": 4,
 "nbformat_minor": 0
}
