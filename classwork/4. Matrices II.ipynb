{
 "cells": [
  {
   "cell_type": "markdown",
   "metadata": {
    "id": "VwfypiALbfEc"
   },
   "source": [
    "Power METHOD\n",
    "\n",
    "$z^{(k)} = Aq^{(k−1)}$ \\\\\n",
    "\n",
    "\n",
    "$q^{(k)} =\\frac{z^{(k)}}{||z^{(k)}||}$ \\\\\n",
    "\n",
    "\n",
    "$μ(q^{(k)}) = [q^{(k)}]^{T}Aq^{(k)}$"
   ]
  },
  {
   "cell_type": "code",
   "execution_count": null,
   "metadata": {
    "colab": {
     "base_uri": "https://localhost:8080/"
    },
    "executionInfo": {
     "elapsed": 554,
     "status": "ok",
     "timestamp": 1726047366667,
     "user": {
      "displayName": "Colin Benjamin",
      "userId": "06886597878420097412"
     },
     "user_tz": -330
    },
    "id": "C8Cqg_h6fjBA",
    "outputId": "2747cd37-53d3-4edf-99da-7643e0ca5278"
   },
   "outputs": [
    {
     "name": "stdout",
     "output_type": "stream",
     "text": [
      "Non Singular matrix\n",
      "1 [0.44421209 0.48212489 0.51726163 0.55015599]\n",
      "2 [0.4443962  0.4821814  0.5172089  0.55000734]\n",
      "3 [0.44439562 0.48218122 0.51720907 0.55000781]\n",
      "4 [0.44439562 0.48218122 0.51720906 0.55000781]\n",
      "5 [0.44439562 0.48218122 0.51720906 0.55000781]\n",
      " \n",
      "21.316662663452\n",
      "[0.44439562 0.48218122 0.51720906 0.55000781]\n",
      " \n",
      "21.316662663452043\n",
      "[0.44439562 0.48218122 0.51720906 0.55000781]\n"
     ]
    }
   ],
   "source": [
    "import numpy as np\n",
    "def mag(xs):\n",
    " return np.sqrt(np.sum(xs*xs))\n",
    "def power(A,kmax=6):\n",
    " zs = np.ones(A.shape[0])\n",
    " qs = zs/mag(zs)\n",
    " for k in range(1,kmax):\n",
    "  zs = A@qs\n",
    "  qs = zs/mag(zs)\n",
    "  print(k,qs)\n",
    " lam = qs@A@qs\n",
    " return lam, qs\n",
    "def testeigone(f,A,indx=0):\n",
    " eigval, eigvec = f(A)\n",
    " print(\" \"); print(eigval); print(eigvec)\n",
    " npeigvals, npeigvecs = np.linalg.eig(A)\n",
    " print(\" \")\n",
    " print(npeigvals[indx]); print(npeigvecs[:,indx])\n",
    "def testcreate(n,val):\n",
    "  A = np.arange(val,val+n*n).reshape(n,n)\n",
    "  A = np.sqrt(A)\n",
    "  bs = (A[0,:])**2.1\n",
    "  if (np.linalg.det(A)):\n",
    "    print(\"Non Singular matrix\")\n",
    "  else:\n",
    "    print(\"Singular Matrix\")\n",
    "  return A, bs\n",
    "A, bs = testcreate(4,21)\n",
    "testeigone(power,A)"
   ]
  },
  {
   "cell_type": "markdown",
   "metadata": {
    "id": "QUvDYLpOf9Gz"
   },
   "source": [
    "INVERSE POWER"
   ]
  },
  {
   "cell_type": "code",
   "execution_count": null,
   "metadata": {
    "colab": {
     "base_uri": "https://localhost:8080/"
    },
    "executionInfo": {
     "elapsed": 686,
     "status": "ok",
     "timestamp": 1726048531599,
     "user": {
      "displayName": "Colin Benjamin",
      "userId": "06886597878420097412"
     },
     "user_tz": -330
    },
    "id": "XBWvwd91cHfH",
    "outputId": "8edcf2f9-a76a-4c99-cecc-9f805db01e05"
   },
   "outputs": [
    {
     "name": "stdout",
     "output_type": "stream",
     "text": [
      "1 [-0.19413979  0.63927381 -0.69930436  0.25418919] 6.475361348514734\n",
      "2 [-0.20535582  0.65200499 -0.68860547  0.24195243] 0.1402558669886967\n",
      "3 [-0.20536844  0.6520184  -0.6885935   0.24193967] 0.00015213395518359692\n",
      "4 [-0.20536846  0.65201842 -0.68859348  0.24193965] 1.646703298787922e-07\n",
      "5 [-0.20536846  0.65201842 -0.68859348  0.24193965] 1.7824102693162985e-10\n",
      " \n",
      "-7.501283413473064e-08\n",
      "[-0.20536846  0.65201842 -0.68859348  0.24193965]\n",
      " \n",
      "-7.501283389068605e-08\n",
      "[ 0.20536846 -0.65201842  0.68859348 -0.24193965]\n"
     ]
    }
   ],
   "source": [
    "import numpy as np\n",
    "def termcrit(xolds,xnews):\n",
    "  errs = np.abs((xnews - xolds)/xnews)\n",
    "  return np.sum(errs)\n",
    "def forsub(L,bs):\n",
    "  n = bs.size\n",
    "  xs = np.zeros(n)\n",
    "  for i in range(n):\n",
    "    xs[i] = (bs[i] - L[i,:i]@xs[:i])/L[i,i]\n",
    "  return xs\n",
    "def backsub(U,bs):\n",
    "  n = bs.size\n",
    "  xs = np.zeros(n)\n",
    "  for i in reversed(range(n)):\n",
    "    xs[i] = (bs[i] - U[i,i+1:]@xs[i+1:])/U[i,i]\n",
    "  return xs\n",
    "def ludec(A):\n",
    "  n = A.shape[0]\n",
    "  U = np.copy(A)\n",
    "  L = np.identity(n)\n",
    "  for j in range(n-1):\n",
    "    for i in range(j+1,n):\n",
    "      coeff = U[i,j]/U[j,j]\n",
    "      U[i,j:] -= coeff*U[j,j:]\n",
    "      L[i,j] = coeff\n",
    "  return L, U\n",
    "def mag(xs):\n",
    " return np.sqrt(np.sum(xs*xs))\n",
    "def testeigone(f,A,indx=3):\n",
    " eigval, eigvec = f(A)\n",
    " print(\" \"); print(eigval); print(eigvec)\n",
    " npeigvals, npeigvecs = np.linalg.eig(A)\n",
    " print(\" \")\n",
    " print(npeigvals[indx]); print(npeigvecs[:,indx])\n",
    "def testcreate(n,val):\n",
    "  A = np.arange(val,val+n*n).reshape(n,n)\n",
    "  A = np.sqrt(A)\n",
    "  bs = (A[0,:])**2.1\n",
    "  return A, bs\n",
    "def invpowershift(A,shift=0,kmax=200,tol=1.e-8):\n",
    "  n = A.shape[0]\n",
    "  znews = np.ones(n)\n",
    "  qnews = znews/mag(znews)\n",
    "  Astar = A\n",
    "  L, U = ludec(Astar)\n",
    "  for k in range(1,kmax):\n",
    "    qs = np.copy(qnews)\n",
    "    ys = forsub(L,qs)\n",
    "    znews = backsub(U,ys)\n",
    "    qnews = znews/mag(znews)\n",
    "    if qs@qnews<0:\n",
    "      qnews = -qnews\n",
    "    err = termcrit(qs, qnews)\n",
    "    print(k, qnews, err)\n",
    "    if err < tol:\n",
    "      lam = qnews@A@qnews\n",
    "      break\n",
    "  else:\n",
    "    lam = qnews = None\n",
    "  return lam, qnews\n",
    "A, bs = testcreate(4,21)\n",
    "testeigone(invpowershift,A)"
   ]
  },
  {
   "cell_type": "markdown",
   "metadata": {
    "id": "m0Lx6niEiZgK"
   },
   "source": [
    "INVERSE POWER WITH SHIFT"
   ]
  },
  {
   "cell_type": "code",
   "execution_count": 1,
   "metadata": {
    "colab": {
     "base_uri": "https://localhost:8080/"
    },
    "executionInfo": {
     "elapsed": 499,
     "status": "ok",
     "timestamp": 1726132996381,
     "user": {
      "displayName": "Colin Benjamin",
      "userId": "06886597878420097412"
     },
     "user_tz": -330
    },
    "id": "A1en4Vc5ggHm",
    "outputId": "5ced1b7b-ca68-40e3-bbe3-5879a1beca86"
   },
   "outputs": [
    {
     "name": "stdout",
     "output_type": "stream",
     "text": [
      "1 [0.44065813 0.48090955 0.51822387 0.55316403] 0.30563801879330116\n",
      "2 [0.44464049 0.48226426 0.51714199 0.54980012] 0.019975893536692307\n",
      "3 [0.44437955 0.48217577 0.51721346 0.55002143] 0.0013112849763798457\n",
      "4 [0.44439667 0.48218158 0.51720878 0.55000691] 8.603442270281627e-05\n",
      "5 [0.44439555 0.4821812  0.51720908 0.55000787] 5.64496399461636e-06\n",
      "6 [0.44439562 0.48218122 0.51720906 0.5500078 ] 3.703814284020928e-07\n",
      "7 [0.44439562 0.48218122 0.51720906 0.55000781] 2.430173570284188e-08\n",
      "8 [0.44439562 0.48218122 0.51720906 0.55000781] 1.5945032439464706e-09\n",
      " \n",
      "21.316662663486134\n",
      "[0.44439562 0.48218122 0.51720906 0.55000781]\n",
      " \n",
      "21.316662663452043\n",
      "[0.44439562 0.48218122 0.51720906 0.55000781]\n"
     ]
    }
   ],
   "source": [
    "import numpy as np\n",
    "def termcrit(xolds,xnews):\n",
    "  errs = np.abs((xnews - xolds)/xnews)\n",
    "  return np.sum(errs)\n",
    "def forsub(L,bs):\n",
    "  n = bs.size\n",
    "  xs = np.zeros(n)\n",
    "  for i in range(n):\n",
    "    xs[i] = (bs[i] - L[i,:i]@xs[:i])/L[i,i]\n",
    "  return xs\n",
    "def backsub(U,bs):\n",
    "  n = bs.size\n",
    "  xs = np.zeros(n)\n",
    "  for i in reversed(range(n)):\n",
    "    xs[i] = (bs[i] - U[i,i+1:]@xs[i+1:])/U[i,i]\n",
    "  return xs\n",
    "def ludec(A):\n",
    "  n = A.shape[0]\n",
    "  U = np.copy(A)\n",
    "  L = np.identity(n)\n",
    "  for j in range(n-1):\n",
    "    for i in range(j+1,n):\n",
    "      coeff = U[i,j]/U[j,j]\n",
    "      U[i,j:] -= coeff*U[j,j:]\n",
    "      L[i,j] = coeff\n",
    "  return L, U\n",
    "def mag(xs):\n",
    " return np.sqrt(np.sum(xs*xs))\n",
    "def testeigone(f,A,indx=0):\n",
    " eigval, eigvec = f(A)\n",
    " print(\" \"); print(eigval); print(eigvec)\n",
    " npeigvals, npeigvecs = np.linalg.eig(A)\n",
    " print(\" \")\n",
    " print(npeigvals[indx]); print(npeigvecs[:,indx])\n",
    "def testcreate(n,val):\n",
    "  A = np.arange(val,val+n*n).reshape(n,n)\n",
    "  A = np.sqrt(A)\n",
    "  bs = (A[0,:])**2.1\n",
    "  return A, bs\n",
    "def invpowershift(A,shift=20,kmax=200,tol=1.e-8):\n",
    "  n = A.shape[0]\n",
    "  znews = np.ones(n)\n",
    "  qnews = znews/mag(znews)\n",
    "  Astar = A - np.identity(n)*shift\n",
    "  L, U = ludec(Astar)\n",
    "  for k in range(1,kmax):\n",
    "    qs = np.copy(qnews)\n",
    "    ys = forsub(L,qs)\n",
    "    znews = backsub(U,ys)\n",
    "    qnews = znews/mag(znews)\n",
    "    if qs@qnews<0:\n",
    "      qnews = -qnews\n",
    "    err = termcrit(qs, qnews)\n",
    "    print(k, qnews, err)\n",
    "    if err < tol:\n",
    "      lam = qnews@A@qnews\n",
    "      break\n",
    "  else:\n",
    "    lam = qnews = None\n",
    "  return lam, qnews\n",
    "\n",
    "A, bs = testcreate(4,21)\n",
    "testeigone(invpowershift,A)"
   ]
  },
  {
   "cell_type": "markdown",
   "metadata": {
    "id": "C6gt24gljB_v"
   },
   "source": [
    "Use invpowershift to evaluate all eigenvalues and all eigenvectors for:\n",
    "\n",
    "\n",
    "\n",
    "$\\begin{bmatrix} 3 & 1 & 2   \\\\\n",
    "1 & 4 & 3 \\\\\n",
    "2 &3 & 1\n",
    "\\end{bmatrix}$\n",
    "\n",
    "Take the shifts as: $-2, 4, 5$"
   ]
  },
  {
   "cell_type": "markdown",
   "metadata": {
    "id": "hrTdyVPis4dk"
   },
   "source": [
    "**QR DECOMPOSITION**"
   ]
  },
  {
   "cell_type": "code",
   "execution_count": 2,
   "metadata": {
    "colab": {
     "base_uri": "https://localhost:8080/"
    },
    "executionInfo": {
     "elapsed": 404,
     "status": "ok",
     "timestamp": 1726135730347,
     "user": {
      "displayName": "Colin Benjamin",
      "userId": "06886597878420097412"
     },
     "user_tz": -330
    },
    "id": "lgZhrl0QixDO",
    "outputId": "74fb0bc5-0785-4605-e218-107987d37d09"
   },
   "outputs": [
    {
     "name": "stdout",
     "output_type": "stream",
     "text": [
      "4 8.881784197001252e-16 0.007574779382486467\n",
      "6 2.6645352591003757e-15 2.448182686363376\n",
      "8 5.617333549722722e-15 4.323370968322845\n"
     ]
    }
   ],
   "source": [
    "#QR Decomposition\n",
    "import numpy as np\n",
    "def mag(xs):\n",
    " return np.sqrt(np.sum(xs*xs))\n",
    "def testcreate(n,val):\n",
    "  A = np.arange(val,val+n*n).reshape(n,n)\n",
    "  A = np.sqrt(A)\n",
    "  bs = (A[0,:])**2.1\n",
    "  return A, bs\n",
    "def qrdec(A):\n",
    "  n = A.shape[0]\n",
    "  Ap = np.copy(A)\n",
    "  Q = np.zeros((n,n))\n",
    "  R = np.zeros((n,n))\n",
    "  for j in range(n):\n",
    "    for i in range(j):\n",
    "      R[i,j] = Q[:,i]@A[:,j]\n",
    "      Ap[:,j] -= R[i,j]*Q[:,i]\n",
    "    R[j,j] = mag(Ap[:,j])\n",
    "    Q[:,j] = Ap[:,j]/R[j,j]\n",
    "  return Q, R\n",
    "def testqrdec(A):\n",
    "  n = A.shape[0]\n",
    "  Q, R = qrdec(A)\n",
    "  diffa = A - Q@R\n",
    "  diffq = np.transpose(Q)@Q - np.identity(n)\n",
    "  print(n, mag(diffa), mag(diffq))\n",
    "\n",
    "for n in range(4,10,2):\n",
    "    A, bs = testcreate(n,21)\n",
    "    testqrdec(A)"
   ]
  },
  {
   "cell_type": "markdown",
   "metadata": {
    "id": "JWPH-pYn3Dlp"
   },
   "source": [
    "  QR METHOD"
   ]
  },
  {
   "cell_type": "code",
   "execution_count": 3,
   "metadata": {
    "colab": {
     "base_uri": "https://localhost:8080/"
    },
    "executionInfo": {
     "elapsed": 442,
     "status": "ok",
     "timestamp": 1726138449007,
     "user": {
      "displayName": "Colin Benjamin",
      "userId": "06886597878420097412"
     },
     "user_tz": -330
    },
    "id": "VfDCMqXStPjN",
    "outputId": "0e992b88-03a0-4588-833e-2c1cfaeb1185"
   },
   "outputs": [
    {
     "name": "stdout",
     "output_type": "stream",
     "text": [
      "4 8.881784197001252e-16 0.007574779382486467\n",
      "6 2.6645352591003757e-15 2.448182686363376\n",
      "8 5.617333549722722e-15 4.323370968322845\n",
      "1 [ 5.5         3.62820513 -1.12820513]\n",
      "2 [ 6.63168724  2.59113089 -1.22281814]\n",
      "3 [ 6.81566884  2.41029195 -1.22596079]\n",
      "4 [ 6.83878211  2.38729736 -1.22607946]\n",
      "5 [ 6.84159501  2.38449295 -1.22608796]\n",
      "6 [ 6.84193648  2.38415299 -1.22608947]\n",
      "7 [ 6.84197793  2.38411192 -1.22608985]\n",
      "8 [ 6.84198296  2.38410698 -1.22608995]\n",
      "9 [ 6.84198358  2.3841064  -1.22608997]\n",
      " \n",
      "[ 6.84198366  2.38410632 -1.22608998]\n"
     ]
    }
   ],
   "source": [
    "import numpy as np\n",
    "def mag(xs):\n",
    " return np.sqrt(np.sum(xs*xs))\n",
    "def testcreate(n,val):\n",
    "  A = np.arange(val,val+n*n).reshape(n,n)\n",
    "  A = np.sqrt(A)\n",
    "  bs = (A[0,:])**2.1\n",
    "  return A, bs\n",
    "def qrdec(A):\n",
    "  n = A.shape[0]\n",
    "  Ap = np.copy(A)\n",
    "  Q = np.zeros((n,n))\n",
    "  R = np.zeros((n,n))\n",
    "  for j in range(n):\n",
    "    for i in range(j):\n",
    "      R[i,j] = Q[:,i]@A[:,j]\n",
    "      Ap[:,j] -= R[i,j]*Q[:,i]\n",
    "    R[j,j] = mag(Ap[:,j])\n",
    "    Q[:,j] = Ap[:,j]/R[j,j]\n",
    "  return Q, R\n",
    "def testqrdec(A):\n",
    "  n = A.shape[0]\n",
    "  Q, R = qrdec(A)\n",
    "  diffa = A - Q@R\n",
    "  diffq = np.transpose(Q)@Q - np.identity(n)\n",
    "  print(n, mag(diffa), mag(diffq))\n",
    "\n",
    "for n in range(4,10,2):\n",
    "    A, bs = testcreate(n,21)\n",
    "    testqrdec(A)\n",
    "def qrmet(inA,kmax=100):\n",
    "  A = np.copy(inA)\n",
    "  for k in range(1,kmax):\n",
    "    Q, R = qrdec(A)\n",
    "    A = R@Q\n",
    "    print(k, np.diag(A))\n",
    "  qreigvals = np.diag(A)\n",
    "  return qreigvals\n",
    "A = np.array([3., 1, 2, 1, 4, 3, 2, 3, 1]).reshape(3,3)\n",
    "\n",
    "qreigvals = qrmet(A,10)\n",
    "print(\" \")\n",
    "npeigvals, npeigvecs = np.linalg.eig(A); print(npeigvals)"
   ]
  },
  {
   "cell_type": "markdown",
   "metadata": {},
   "source": [
    "ALL EIGENVALUES AND EIGENVECTORS"
   ]
  },
  {
   "cell_type": "code",
   "execution_count": null,
   "metadata": {},
   "outputs": [
    {
     "name": "stdout",
     "output_type": "stream",
     "text": [
      "1 [ 2.13103450e+01 -6.09089099e-02 -7.63972225e-05 -9.18570315e-08]\n",
      "2 [ 2.13166811e+01 -6.72521830e-02 -6.93094896e-05 -7.50301569e-08]\n",
      "3 [ 2.13166626e+01 -6.72336565e-02 -6.93022714e-05 -7.50128526e-08]\n",
      "4 [ 2.13166627e+01 -6.72337150e-02 -6.93022639e-05 -7.50128339e-08]\n",
      "5 [ 2.13166627e+01 -6.72337148e-02 -6.93022639e-05 -7.50128339e-08]\n",
      "6 [ 2.13166627e+01 -6.72337148e-02 -6.93022639e-05 -7.50128339e-08]\n",
      "7 [ 2.13166627e+01 -6.72337148e-02 -6.93022639e-05 -7.50128339e-08]\n",
      "8 [ 2.13166627e+01 -6.72337148e-02 -6.93022639e-05 -7.50128339e-08]\n",
      "9 [ 2.13166627e+01 -6.72337148e-02 -6.93022639e-05 -7.50128339e-08]\n",
      "10 [ 2.13166627e+01 -6.72337148e-02 -6.93022639e-05 -7.50128339e-08]\n",
      "11 [ 2.13166627e+01 -6.72337148e-02 -6.93022639e-05 -7.50128339e-08]\n",
      "12 [ 2.13166627e+01 -6.72337148e-02 -6.93022639e-05 -7.50128339e-08]\n",
      "13 [ 2.13166627e+01 -6.72337148e-02 -6.93022639e-05 -7.50128339e-08]\n",
      "14 [ 2.13166627e+01 -6.72337148e-02 -6.93022639e-05 -7.50128339e-08]\n",
      "15 [ 2.13166627e+01 -6.72337148e-02 -6.93022639e-05 -7.50128339e-08]\n",
      "16 [ 2.13166627e+01 -6.72337148e-02 -6.93022639e-05 -7.50128339e-08]\n",
      "17 [ 2.13166627e+01 -6.72337148e-02 -6.93022639e-05 -7.50128339e-08]\n",
      "18 [ 2.13166627e+01 -6.72337148e-02 -6.93022639e-05 -7.50128339e-08]\n",
      "19 [ 2.13166627e+01 -6.72337148e-02 -6.93022639e-05 -7.50128339e-08]\n",
      "20 [ 2.13166627e+01 -6.72337148e-02 -6.93022639e-05 -7.50128339e-08]\n",
      "21 [ 2.13166627e+01 -6.72337148e-02 -6.93022639e-05 -7.50128339e-08]\n",
      "22 [ 2.13166627e+01 -6.72337148e-02 -6.93022639e-05 -7.50128339e-08]\n",
      "23 [ 2.13166627e+01 -6.72337148e-02 -6.93022639e-05 -7.50128339e-08]\n",
      "24 [ 2.13166627e+01 -6.72337148e-02 -6.93022639e-05 -7.50128339e-08]\n",
      "25 [ 2.13166627e+01 -6.72337148e-02 -6.93022639e-05 -7.50128339e-08]\n",
      "26 [ 2.13166627e+01 -6.72337148e-02 -6.93022639e-05 -7.50128339e-08]\n",
      "27 [ 2.13166627e+01 -6.72337148e-02 -6.93022639e-05 -7.50128339e-08]\n",
      "28 [ 2.13166627e+01 -6.72337148e-02 -6.93022639e-05 -7.50128339e-08]\n",
      "29 [ 2.13166627e+01 -6.72337148e-02 -6.93022639e-05 -7.50128339e-08]\n",
      "30 [ 2.13166627e+01 -6.72337148e-02 -6.93022639e-05 -7.50128339e-08]\n",
      "31 [ 2.13166627e+01 -6.72337148e-02 -6.93022639e-05 -7.50128339e-08]\n",
      "32 [ 2.13166627e+01 -6.72337148e-02 -6.93022639e-05 -7.50128339e-08]\n",
      "33 [ 2.13166627e+01 -6.72337148e-02 -6.93022639e-05 -7.50128339e-08]\n",
      "34 [ 2.13166627e+01 -6.72337148e-02 -6.93022639e-05 -7.50128339e-08]\n",
      "35 [ 2.13166627e+01 -6.72337148e-02 -6.93022639e-05 -7.50128339e-08]\n",
      "36 [ 2.13166627e+01 -6.72337148e-02 -6.93022639e-05 -7.50128339e-08]\n",
      "37 [ 2.13166627e+01 -6.72337148e-02 -6.93022639e-05 -7.50128339e-08]\n",
      "38 [ 2.13166627e+01 -6.72337148e-02 -6.93022639e-05 -7.50128339e-08]\n",
      "39 [ 2.13166627e+01 -6.72337148e-02 -6.93022639e-05 -7.50128339e-08]\n",
      "40 [ 2.13166627e+01 -6.72337148e-02 -6.93022639e-05 -7.50128339e-08]\n",
      "41 [ 2.13166627e+01 -6.72337148e-02 -6.93022639e-05 -7.50128339e-08]\n",
      "42 [ 2.13166627e+01 -6.72337148e-02 -6.93022639e-05 -7.50128339e-08]\n",
      "43 [ 2.13166627e+01 -6.72337148e-02 -6.93022639e-05 -7.50128339e-08]\n",
      "44 [ 2.13166627e+01 -6.72337148e-02 -6.93022639e-05 -7.50128339e-08]\n",
      "45 [ 2.13166627e+01 -6.72337148e-02 -6.93022639e-05 -7.50128339e-08]\n",
      "46 [ 2.13166627e+01 -6.72337148e-02 -6.93022639e-05 -7.50128339e-08]\n",
      "47 [ 2.13166627e+01 -6.72337148e-02 -6.93022639e-05 -7.50128339e-08]\n",
      "48 [ 2.13166627e+01 -6.72337148e-02 -6.93022639e-05 -7.50128339e-08]\n",
      "49 [ 2.13166627e+01 -6.72337148e-02 -6.93022639e-05 -7.50128339e-08]\n",
      "50 [ 2.13166627e+01 -6.72337148e-02 -6.93022639e-05 -7.50128339e-08]\n",
      "51 [ 2.13166627e+01 -6.72337148e-02 -6.93022639e-05 -7.50128339e-08]\n",
      "52 [ 2.13166627e+01 -6.72337148e-02 -6.93022639e-05 -7.50128339e-08]\n",
      "53 [ 2.13166627e+01 -6.72337148e-02 -6.93022639e-05 -7.50128339e-08]\n",
      "54 [ 2.13166627e+01 -6.72337148e-02 -6.93022639e-05 -7.50128339e-08]\n",
      "55 [ 2.13166627e+01 -6.72337148e-02 -6.93022639e-05 -7.50128339e-08]\n",
      "56 [ 2.13166627e+01 -6.72337148e-02 -6.93022639e-05 -7.50128339e-08]\n",
      "57 [ 2.13166627e+01 -6.72337148e-02 -6.93022639e-05 -7.50128339e-08]\n",
      "58 [ 2.13166627e+01 -6.72337148e-02 -6.93022639e-05 -7.50128339e-08]\n",
      "59 [ 2.13166627e+01 -6.72337148e-02 -6.93022639e-05 -7.50128339e-08]\n",
      "60 [ 2.13166627e+01 -6.72337148e-02 -6.93022639e-05 -7.50128339e-08]\n",
      "61 [ 2.13166627e+01 -6.72337148e-02 -6.93022639e-05 -7.50128339e-08]\n",
      "62 [ 2.13166627e+01 -6.72337148e-02 -6.93022639e-05 -7.50128339e-08]\n",
      "63 [ 2.13166627e+01 -6.72337148e-02 -6.93022639e-05 -7.50128339e-08]\n",
      "64 [ 2.13166627e+01 -6.72337148e-02 -6.93022639e-05 -7.50128339e-08]\n",
      "65 [ 2.13166627e+01 -6.72337148e-02 -6.93022639e-05 -7.50128339e-08]\n",
      "66 [ 2.13166627e+01 -6.72337148e-02 -6.93022639e-05 -7.50128339e-08]\n",
      "67 [ 2.13166627e+01 -6.72337148e-02 -6.93022639e-05 -7.50128339e-08]\n",
      "68 [ 2.13166627e+01 -6.72337148e-02 -6.93022639e-05 -7.50128339e-08]\n",
      "69 [ 2.13166627e+01 -6.72337148e-02 -6.93022639e-05 -7.50128339e-08]\n",
      "70 [ 2.13166627e+01 -6.72337148e-02 -6.93022639e-05 -7.50128339e-08]\n",
      "71 [ 2.13166627e+01 -6.72337148e-02 -6.93022639e-05 -7.50128339e-08]\n",
      "72 [ 2.13166627e+01 -6.72337148e-02 -6.93022639e-05 -7.50128339e-08]\n",
      "73 [ 2.13166627e+01 -6.72337148e-02 -6.93022639e-05 -7.50128339e-08]\n",
      "74 [ 2.13166627e+01 -6.72337148e-02 -6.93022639e-05 -7.50128339e-08]\n",
      "75 [ 2.13166627e+01 -6.72337148e-02 -6.93022639e-05 -7.50128339e-08]\n",
      "76 [ 2.13166627e+01 -6.72337148e-02 -6.93022639e-05 -7.50128339e-08]\n",
      "77 [ 2.13166627e+01 -6.72337148e-02 -6.93022639e-05 -7.50128339e-08]\n",
      "78 [ 2.13166627e+01 -6.72337148e-02 -6.93022639e-05 -7.50128339e-08]\n",
      "79 [ 2.13166627e+01 -6.72337148e-02 -6.93022639e-05 -7.50128339e-08]\n",
      "80 [ 2.13166627e+01 -6.72337148e-02 -6.93022639e-05 -7.50128339e-08]\n",
      "81 [ 2.13166627e+01 -6.72337148e-02 -6.93022639e-05 -7.50128339e-08]\n",
      "82 [ 2.13166627e+01 -6.72337148e-02 -6.93022639e-05 -7.50128339e-08]\n",
      "83 [ 2.13166627e+01 -6.72337148e-02 -6.93022639e-05 -7.50128339e-08]\n",
      "84 [ 2.13166627e+01 -6.72337148e-02 -6.93022639e-05 -7.50128339e-08]\n",
      "85 [ 2.13166627e+01 -6.72337148e-02 -6.93022639e-05 -7.50128339e-08]\n",
      "86 [ 2.13166627e+01 -6.72337148e-02 -6.93022639e-05 -7.50128339e-08]\n",
      "87 [ 2.13166627e+01 -6.72337148e-02 -6.93022639e-05 -7.50128339e-08]\n",
      "88 [ 2.13166627e+01 -6.72337148e-02 -6.93022639e-05 -7.50128339e-08]\n",
      "89 [ 2.13166627e+01 -6.72337148e-02 -6.93022639e-05 -7.50128339e-08]\n",
      "90 [ 2.13166627e+01 -6.72337148e-02 -6.93022639e-05 -7.50128339e-08]\n",
      "91 [ 2.13166627e+01 -6.72337148e-02 -6.93022639e-05 -7.50128339e-08]\n",
      "92 [ 2.13166627e+01 -6.72337148e-02 -6.93022639e-05 -7.50128339e-08]\n",
      "93 [ 2.13166627e+01 -6.72337148e-02 -6.93022639e-05 -7.50128339e-08]\n",
      "94 [ 2.13166627e+01 -6.72337148e-02 -6.93022639e-05 -7.50128339e-08]\n",
      "95 [ 2.13166627e+01 -6.72337148e-02 -6.93022639e-05 -7.50128339e-08]\n",
      "96 [ 2.13166627e+01 -6.72337148e-02 -6.93022639e-05 -7.50128339e-08]\n",
      "97 [ 2.13166627e+01 -6.72337148e-02 -6.93022639e-05 -7.50128339e-08]\n",
      "98 [ 2.13166627e+01 -6.72337148e-02 -6.93022639e-05 -7.50128339e-08]\n",
      "99 [ 2.13166627e+01 -6.72337148e-02 -6.93022639e-05 -7.50128339e-08]\n",
      "1 [0.44439562 0.48218122 0.51720906 0.55000781] 0.28627306844850064\n",
      "2 [0.44439562 0.48218122 0.51720906 0.55000781] 1.3278045887998358e-14\n",
      "1 [ 0.71207238  0.1981024  -0.24202361 -0.62859601] 6.683109033292688\n",
      "2 [ 0.71207238  0.1981024  -0.24202361 -0.62859601] 5.1077408070255215e-12\n",
      "1 [-0.51532474  0.59247233  0.39774447 -0.47456959] 4.437015464762139\n",
      "2 [-0.51532474  0.59247232  0.39774447 -0.47456959] 2.9670461183845672e-09\n",
      "1 [ 0.20536831 -0.65201825  0.68859363 -0.24193982] 6.542011953764735\n",
      "2 [ 0.20536846 -0.65201842  0.68859348 -0.24193965] 1.8710637753360698e-06\n",
      "3 [ 0.20536846 -0.65201842  0.68859348 -0.24193965] 2.7434015215500895e-14\n",
      "[ 2.13166627e+01 -6.72337148e-02 -6.93022639e-05 -7.50128345e-08]\n",
      "[ 2.13166627e+01 -6.72337148e-02 -6.93022639e-05 -7.50128339e-08]\n",
      " \n",
      "[0.44439562 0.48218122 0.51720906 0.55000781]\n",
      "[0.44439562 0.48218122 0.51720906 0.55000781]\n",
      " \n",
      "[ 0.71207238  0.1981024  -0.24202361 -0.62859601]\n",
      "[-0.71207238 -0.1981024   0.24202361  0.62859601]\n",
      " \n",
      "[-0.51532474  0.59247232  0.39774447 -0.47456959]\n",
      "[-0.51532474  0.59247232  0.39774447 -0.47456959]\n",
      " \n",
      "[ 0.20536846 -0.65201842  0.68859348 -0.24193965]\n",
      "[ 0.20536846 -0.65201842  0.68859348 -0.24193965]\n",
      " \n"
     ]
    }
   ],
   "source": [
    "import numpy as np\n",
    "def termcrit(xolds,xnews):\n",
    "  errs = np.abs((xnews - xolds)/xnews)\n",
    "  return np.sum(errs)\n",
    "def forsub(L,bs):\n",
    "  n = bs.size\n",
    "  xs = np.zeros(n)\n",
    "  for i in range(n):\n",
    "    xs[i] = (bs[i] - L[i,:i]@xs[:i])/L[i,i]\n",
    "  return xs\n",
    "def backsub(U,bs):\n",
    "  n = bs.size\n",
    "  xs = np.zeros(n)\n",
    "  for i in reversed(range(n)):\n",
    "    xs[i] = (bs[i] - U[i,i+1:]@xs[i+1:])/U[i,i]\n",
    "  return xs\n",
    "\n",
    "def ludec(A):\n",
    "  n = A.shape[0]\n",
    "  U = np.copy(A)\n",
    "  L = np.identity(n)\n",
    "  for j in range(n-1):\n",
    "    for i in range(j+1,n):\n",
    "      coeff = U[i,j]/U[j,j]\n",
    "      U[i,j:] -= coeff*U[j,j:]\n",
    "      L[i,j] = coeff\n",
    "  return L, U\n",
    "\n",
    "def invpowershift(A,shift=20,kmax=200,tol=1.e-8):\n",
    "  n = A.shape[0]\n",
    "  znews = np.ones(n)\n",
    "  qnews = znews/mag(znews)\n",
    "  Astar = A - np.identity(n)*shift\n",
    "  L, U = ludec(Astar)\n",
    "  for k in range(1,kmax):\n",
    "    qs = np.copy(qnews)\n",
    "    ys = forsub(L,qs)\n",
    "    znews = backsub(U,ys)\n",
    "    qnews = znews/mag(znews)\n",
    "    if qs@qnews<0:\n",
    "      qnews = -qnews\n",
    "    err = termcrit(qs, qnews)\n",
    "    print(k, qnews, err)\n",
    "    if err < tol:\n",
    "      lam = qnews@A@qnews\n",
    "      break\n",
    "  else:\n",
    "    lam = qnews = None\n",
    "  return lam, qnews\n",
    "def mag(xs):\n",
    " return np.sqrt(np.sum(xs*xs))\n",
    "def testcreate(n,val):\n",
    "  A = np.arange(val,val+n*n).reshape(n,n)\n",
    "  A = np.sqrt(A)\n",
    "  bs = (A[0,:])**2.1\n",
    "  return A, bs\n",
    "def qrdec(A):\n",
    "  n = A.shape[0]\n",
    "  Ap = np.copy(A)\n",
    "  Q = np.zeros((n,n))\n",
    "  R = np.zeros((n,n))\n",
    "  for j in range(n):\n",
    "    for i in range(j):\n",
    "      R[i,j] = Q[:,i]@A[:,j]\n",
    "      Ap[:,j] -= R[i,j]*Q[:,i]\n",
    "    R[j,j] = mag(Ap[:,j])\n",
    "    Q[:,j] = Ap[:,j]/R[j,j]\n",
    "  return Q, R\n",
    "def qrmet(inA,kmax=100):\n",
    "  A = np.copy(inA)\n",
    "  for k in range(1,kmax):\n",
    "    Q, R = qrdec(A)\n",
    "    A = R@Q\n",
    "    print(k, np.diag(A))\n",
    "  qreigvals = np.diag(A)\n",
    "  return qreigvals\n",
    "def eig(A,eps=1.e-12):\n",
    "  n = A.shape[0]\n",
    "  eigvals = np.zeros(n)\n",
    "  eigvecs = np.zeros((n,n))\n",
    "  qreigvals = qrmet(A)\n",
    "  for i, qre in enumerate(qreigvals):\n",
    "    eigvals[i], eigvecs[:,i] = invpowershift(A,qre+eps)\n",
    "  return eigvals, eigvecs\n",
    "def testeigall(f,A):\n",
    "  eigvals, eigvecs = f(A)\n",
    "  npeigvals, npeigvecs = np.linalg.eig(A)\n",
    "  print(eigvals); print(npeigvals)\n",
    "  print(\" \")\n",
    "  for eigvec, npeigvec in zip(eigvecs.T,npeigvecs.T):\n",
    "    print(eigvec); print(npeigvec)\n",
    "    print(\" \")\n",
    "\n",
    "A, _ = testcreate(4,21)\n",
    "testeigall(eig,A)"
   ]
  },
  {
   "cell_type": "code",
   "execution_count": null,
   "metadata": {},
   "outputs": [
    {
     "name": "stdout",
     "output_type": "stream",
     "text": [
      "[[ 1  0  0  0]\n",
      " [ 0 -1  2  0]\n",
      " [ 0  2 -1  0]\n",
      " [ 0  0  0  1]]\n",
      "[ 1.+0.j  1.+0.j  1.+0.j -3.+0.j] [0.         0.70710678 0.70710678 0.        ] [0. 0. 0. 1.] [1. 0. 0. 0.] [ 0.          0.70710678 -0.70710678  0.        ]\n"
     ]
    }
   ],
   "source": [
    "import numpy as np\n",
    "from scipy.linalg import eig\n",
    "spin2 = np.array([[1,0,0,0],[0,-1,2,0],[0,2,-1,0],[0,0,0,1]])\n",
    "w, vl, vr = eig(spin2, left=True)\n",
    "idx = np.argsort(w)[::-1]\n",
    "eigenValues = w[idx]\n",
    "LeigenVectors =vl[:,idx]\n",
    "eigenVectors = vr[:,idx]\n",
    "print(spin2)\n",
    "print(eigenValues, eigenVectors[:,0],eigenVectors[:,1], eigenVectors[:,2],eigenVectors[:,3])"
   ]
  },
  {
   "cell_type": "code",
   "execution_count": null,
   "metadata": {},
   "outputs": [
    {
     "name": "stdout",
     "output_type": "stream",
     "text": [
      "0.0 0.25 -0.75 0.25 0.25\n",
      "0.1 0.09999999999999998 -0.7524937810560447 0.25249378105604453 0.4\n",
      "0.2 -0.050000000000000044 -0.7599019513592783 0.2599019513592785 0.55\n",
      "0.30000000000000004 -0.20000000000000007 -0.7720153254455274 0.27201532544552753 0.7000000000000001\n",
      "0.4 -0.3500000000000001 -0.7885164807134506 0.28851648071345043 0.8500000000000001\n",
      "0.5 -0.5 -0.8090169943749472 0.30901699437494745 1.0\n",
      "0.6000000000000001 -0.6500000000000001 -0.83309518948453 0.3330951894845302 1.1500000000000001\n",
      "0.7000000000000001 -0.8 -0.8603277807866853 0.3603277807866851 1.3\n",
      "0.8 -0.9500000000000002 -0.8903124237432848 0.39031242374328495 1.4500000000000002\n",
      "0.9 -1.1 -0.9226812023536856 0.42268120235368545 1.6\n",
      "1.0 -1.25 -0.9571067811865475 0.4571067811865475 1.75\n",
      "1.1 -1.4000000000000001 -0.9933034373659254 0.49330343736592513 1.9000000000000001\n",
      "1.2000000000000002 -1.5500000000000003 -1.0310249675906653 0.5310249675906654 2.0500000000000003\n",
      "1.3 -1.7000000000000002 -1.070060973342837 0.5700609733428362 2.2\n",
      "1.4000000000000001 -1.85 -1.110232526704263 0.610232526704263 2.35\n",
      "1.5 -2.0 -1.1513878188659972 0.6513878188659974 2.5\n",
      "1.6 -2.1500000000000004 -1.1933981132056606 0.69339811320566 2.6500000000000004\n",
      "1.7000000000000002 -2.3000000000000003 -1.2361541461658014 0.7361541461658009 2.8000000000000003\n",
      "1.8 -2.45 -1.2795630140987007 0.7795630140987002 2.95\n",
      "1.9000000000000001 -2.6 -1.323545527679194 0.8235455276791941 3.1\n",
      "2.0 -2.75 -1.3680339887498947 0.8680339887498948 3.25\n",
      "2.1 -2.9000000000000004 -1.4129703349612999 0.9129703349613008 3.4000000000000004\n",
      "2.2 -3.0500000000000003 -1.4583045973594575 0.9583045973594568 3.5500000000000003\n",
      "2.3000000000000003 -3.2 -1.5039936203984452 1.0039936203984452 3.7\n",
      "2.4000000000000004 -3.3500000000000005 -1.5499999999999998 1.0499999999999998 3.8500000000000005\n",
      "2.5 -3.5 -1.596291201783626 1.096291201783626 4.0\n",
      "2.6 -3.6500000000000004 -1.6428388277184123 1.1428388277184123 4.15\n",
      "2.7 -3.8000000000000007 -1.6896180048887977 1.189618004888798 4.300000000000001\n",
      "2.8000000000000003 -3.95 -1.7366068747318495 1.23660687473185 4.45\n",
      "2.9000000000000004 -4.1000000000000005 -1.7837861650177969 1.2837861650177969 4.6000000000000005\n",
      "3.0 -4.25 -1.8311388300841898 1.33113883008419 4.75\n"
     ]
    },
    {
     "data": {
      "text/plain": [
       "(-3.0, 3.0)"
      ]
     },
     "metadata": {},
     "output_type": "display_data"
    },
    {
     "data": {
      "image/png": "[encoded data removed]",
      "text/plain": [
       "<Figure size 640x480 with 1 Axes>"
      ]
     },
     "metadata": {},
     "output_type": "display_data"
    }
   ],
   "source": [
    "import numpy as np\n",
    "import matplotlib.pyplot as plt\n",
    "def paulimatrices():\n",
    "  sigx = np.array([0.,1,1,0]).reshape(2,2)\n",
    "  sigy = np.array([0.,-1j,1j,0]).reshape(2,2)\n",
    "  sigz = np.array([1.,0,0,-1]).reshape(2,2)\n",
    "  return sigx, sigy, sigz\n",
    "def mag(xs):\n",
    " return np.sqrt(np.sum(xs*xs))\n",
    "def qrdec(A):\n",
    "  n = A.shape[0]\n",
    "  Ap = np.copy(A)\n",
    "  Q = np.zeros((n,n))\n",
    "  R = np.zeros((n,n))\n",
    "  for j in range(n):\n",
    "    for i in range(j):\n",
    "      R[i,j] = Q[:,i]@A[:,j]\n",
    "      Ap[:,j] -= R[i,j]*Q[:,i]\n",
    "    R[j,j] = mag(Ap[:,j])\n",
    "    Q[:,j] = Ap[:,j]/R[j,j]\n",
    "  return Q, R\n",
    "def qrmet(inA,kmax=100):\n",
    "  A = np.copy(inA)\n",
    "  for k in range(1,kmax):\n",
    "    Q, R = qrdec(A)\n",
    "    A = R@Q\n",
    "  qreigvals = np.diag(A)\n",
    "  return qreigvals\n",
    "def twospins(omI,omII,gam):\n",
    "  hbar = 1.\n",
    "  paulis = paulimatrices()\n",
    "  iden = np.identity(2)\n",
    "  SIs = [hbar*np.kron(pa,iden)/2 for pa in paulis]\n",
    "  SIIs = [hbar*np.kron(iden,pa)/2 for pa in paulis]\n",
    "  SIdotII=SIs[0]@SIIs[0] + SIs[1]@SIIs[1] + SIs[2]@SIIs[2]\n",
    "  H = -omI*SIs[2] - omII*SIIs[2] + gam*SIdotII\n",
    "  H = H.real\n",
    "  return H\n",
    "xs = (x * 0.1 for x in range(0, 31))\n",
    "xs=list(xs)\n",
    "x1=[]\n",
    "y1=[]\n",
    "y2=[]\n",
    "y3=[]\n",
    "y4=[]\n",
    "for x in xs:\n",
    "  H = twospins(x,2.*x,1.0)\n",
    "  qreigvals = qrmet(H);\n",
    "  print(x,qreigvals[0],qreigvals[1],qreigvals[2],qreigvals[3])\n",
    "  x1.append(float(x))\n",
    "  y1.append(float(qreigvals[0]))\n",
    "  y2.append(float(qreigvals[1]))\n",
    "  y3.append(float(qreigvals[2]))\n",
    "  y4.append(float(qreigvals[3]))\n",
    "plt.xlabel('$\\omega_I$', fontsize=20)\n",
    "plt.ylabel('Eigenvalues', fontsize=20)\n",
    "plt.plot(x1,y1,color='red')\n",
    "plt.plot(x1,y2,color='green')\n",
    "plt.plot(x1,y3,color='blue')\n",
    "plt.plot(x1,y4,color='black')\n",
    "plt.ylim([-3, 3])"
   ]
  }
 ],
 "metadata": {
  "colab": {
   "authorship_tag": "ABX9TyORNl6uMjt6BVoBOBM6eakc",
   "provenance": []
  },
  "kernelspec": {
   "display_name": "Python 3",
   "name": "python3"
  },
  "language_info": {
   "name": "python"
  }
 },
 "nbformat": 4,
 "nbformat_minor": 0
}
