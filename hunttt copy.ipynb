{
 "cells": [
  {
   "cell_type": "code",
   "execution_count": 2,
   "metadata": {},
   "outputs": [],
   "source": [
    "import numpy as np\n",
    "import matplotlib.pyplot as plt\n",
    "from matplotlib import animation\n",
    "from mpl_toolkits.mplot3d import Axes3D\n",
    "from matplotlib.animation import PillowWriter\n",
    "from matplotlib import cm\n",
    "import numba\n",
    "from numba import jit"
   ]
  },
  {
   "cell_type": "markdown",
   "metadata": {},
   "source": [
    "$$ru\\left(1-\\frac{u}{K}\\right) - hu + D\\nabla^2 u = \\frac{\\partial u}{\\partial t}$$\n",
    "\n",
    "$$ru_{i,j}^{(m)} \\left(1 - \\frac{u_{i,j}^{(m)}}{K} \\right) - hu_{i,j}^{(m)} + D \\left( \\frac{u_{i+1,j}^{(m)} -2u_{i,j}^{(m)} + u_{i-1,j}^{(m)}}{\\Delta x^2} + \\frac{u_{i,j+1}^{(m)} -2u_{i,j}^{(m)} + u_{i,j-1}^{(m)}}{\\Delta y^2}\\right) = \\frac{u_j^{(m+1)} - u_j^{(m)}}{\\Delta t} $$ \n",
    "\n",
    "$$(r-h)u_{i,j}^{(m)} - \\frac{r(u_{i,j}^{(m)})^2}{K} + D \\left( \\frac{u_{i+1,j}^{(m)} -2u_{i,j}^{(m)} + u_{i-1,j}^{(m)}}{\\Delta x^2} + \\frac{u_{i,j+1}^{(m)} -2u_{i,j}^{(m)} + u_{i,j-1}^{(m)}}{\\Delta y^2}\\right) = \\frac{u_j^{(m+1)} - u_j^{(m)}}{\\Delta t} $$ \n",
    "\n",
    "Can rearrange to solve for $m+1$ \n",
    "\n",
    "$$ u_j^{(m+1)} = u_j^{(m)} + \\Delta t\\left[(r-h)u_{i,j}^{(m)} - \\frac{r(u_{i,j}^{(m)})^2}{K} + \\frac{D}{\\Delta x^2} \\left( u_{i+1,j}^{(m)} + u_{i-1,j}^{(m)} +  u_{i,j+1}^{(m)} + u_{i,j-1}^{(m)}  -4u_{i,j}^{(m)} \\right)\\right] $$"
   ]
  },
  {
   "cell_type": "markdown",
   "metadata": {},
   "source": [
    "Initialise space grid with random spawns"
   ]
  },
  {
   "cell_type": "code",
   "execution_count": 3,
   "metadata": {},
   "outputs": [],
   "source": [
    "n = 100\n",
    "i = 5\n",
    "# coords = np.array([(np.random.randint(i, n-i), np.random.randint(i, n-i)) for _ in range (50)])\n",
    "# for x, y in coords:\n",
    "init_population = np.zeros((n, n))\n",
    "init_population[:,0] = 80"
   ]
  },
  {
   "cell_type": "code",
   "execution_count": 4,
   "metadata": {},
   "outputs": [
    {
     "data": {
      "image/png": "[encoded data removed]",
      "text/plain": [
       "<Figure size 640x480 with 2 Axes>"
      ]
     },
     "metadata": {},
     "output_type": "display_data"
    }
   ],
   "source": [
    "fig,ax = plt.subplots()\n",
    "vmin,vmax = int(np.min(init_population)), int(np.max(init_population))\n",
    "contourf_ = ax.contourf(init_population, levels=np.linspace(vmin,vmax,400),extend='max')\n",
    "cbar = fig.colorbar(contourf_,ticks=range(vmin, vmax, 10))"
   ]
  },
  {
   "cell_type": "markdown",
   "metadata": {},
   "source": [
    "diffusion constant"
   ]
  },
  {
   "cell_type": "code",
   "execution_count": 5,
   "metadata": {},
   "outputs": [],
   "source": [
    "D = 0.27 # mm^2/sec\n",
    "# D *= 0.01\n",
    "# D # cm^2/sec"
   ]
  },
  {
   "cell_type": "markdown",
   "metadata": {},
   "source": [
    "Set the dimensions of the problem"
   ]
  },
  {
   "cell_type": "code",
   "execution_count": 6,
   "metadata": {},
   "outputs": [],
   "source": [
    "x = 5\n",
    "dx = 0.05\n",
    "dt = 0.001"
   ]
  },
  {
   "cell_type": "code",
   "execution_count": 6,
   "metadata": {},
   "outputs": [],
   "source": [
    "total_time = 3600*24 # sec\n",
    "times = int(total_time/dt)\n",
    "times_snapshot = 60*24\n",
    "f = int(times/times_snapshot)\n",
    "population_frames = np.zeros([times_snapshot, 100, 100])\n",
    "population_frames[0] = init_population\n",
    "population_size = np.zeros(times)"
   ]
  },
  {
   "cell_type": "markdown",
   "metadata": {},
   "source": [
    "* Number of differential equation update iterations `times`\n",
    "* Number of snapshots we will take `times_snaphot`. \n",
    "* The array of snapshots we will take of the turkey\n"
   ]
  },
  {
   "cell_type": "code",
   "execution_count": 7,
   "metadata": {},
   "outputs": [
    {
     "name": "stdout",
     "output_type": "stream",
     "text": [
      "Snapshot taken every 60000th frame.\n",
      "Total time of simulation is 86400.0 sec.\n",
      "Snapshot taken every 60.0 sec.\n"
     ]
    }
   ],
   "source": [
    "print(f'Snapshot taken every {f}th frame.')\n",
    "print(f'Total time of simulation is {times*dt} sec.')\n",
    "print(f'Snapshot taken every {f*dt} sec.')"
   ]
  },
  {
   "cell_type": "markdown",
   "metadata": {},
   "source": [
    "Compute $s = \\alpha \\Delta t / \\Delta x^2$. $s$ needs to be much less than 1/4 for this to work."
   ]
  },
  {
   "cell_type": "code",
   "execution_count": 8,
   "metadata": {},
   "outputs": [
    {
     "data": {
      "text/plain": [
       "0.10799999999999998"
      ]
     },
     "execution_count": 8,
     "metadata": {},
     "output_type": "execute_result"
    }
   ],
   "source": [
    "D * dt / dx**2"
   ]
  },
  {
   "cell_type": "markdown",
   "metadata": {},
   "source": [
    "Set up numba function"
   ]
  },
  {
   "cell_type": "code",
   "execution_count": null,
   "metadata": {},
   "outputs": [],
   "source": [
    "@numba.jit(\"(f8[:,:,:], f8, f8, f8)\", nopython=True, nogil=True, fastmath = True)\n",
    "def solve_heat(environment, K, r, h):\n",
    "    cs = environment[0].copy() #current state\n",
    "    length = len(cs[0])\n",
    "    size = np.zeros(times)\n",
    "    size[0] = np.average(cs)\n",
    "    cf = 0 # current frame\n",
    "    for t in range(1, times):\n",
    "        ns = cs.copy() # new state\n",
    "        for i in range(1, length-1):\n",
    "            for j in range(1, length-1):\n",
    "                ns[j][i] = cs[j][i] + D*dt/dx**2 * (cs[j+1][i] + cs[j-1][i] +\\\n",
    "                                                    cs[j][i+1] + cs[j][i-1] -\\\n",
    "                                                    4*cs[j][i]) +\\\n",
    "                                                    dt*((r-h)*cs[j][i] - (r*cs[j][i]**2)/K)\n",
    "                                                    # dt*(r*cs[j][i]*(1-(cs[j][i]/K)) - (h*cs[j][i]))\n",
    "        size[t] = np.average(cs)\n",
    "        cs = ns.copy()\n",
    "        if t%f==0:\n",
    "            cf = cf + 1\n",
    "            environment[cf] = cs\n",
    "            \n",
    "    if t/(times/10)%1 == 0:\n",
    "        print(f'{int(t/(times/10))*10}% done') \n",
    "    return environment, size"
   ]
  },
  {
   "cell_type": "markdown",
   "metadata": {},
   "source": [
    "Get population snapshots and population size over time plot"
   ]
  },
  {
   "cell_type": "code",
   "execution_count": null,
   "metadata": {},
   "outputs": [],
   "source": [
    "K, r, h = 1, 0.9, 0.2\n",
    "population_frames, population_sizes = solve_heat(population_frames, K, r, h)\n",
    "plt.plot(np.linspace(0, times*dt, times), population_sizes/1e4)\n",
    "plt.xlabel('Time (s)')\n",
    "plt.ylabel('Total Population')"
   ]
  },
  {
   "cell_type": "markdown",
   "metadata": {},
   "source": [
    "The final snapshot"
   ]
  },
  {
   "cell_type": "code",
   "execution_count": 7,
   "metadata": {},
   "outputs": [
    {
     "ename": "NameError",
     "evalue": "name 'population_frames' is not defined",
     "output_type": "error",
     "traceback": [
      "\u001b[1;31m---------------------------------------------------------------------------\u001b[0m",
      "\u001b[1;31mNameError\u001b[0m                                 Traceback (most recent call last)",
      "\u001b[1;32md:\\comp phy\\computation-physics\\hunttt copy.ipynb Cell 20\u001b[0m line \u001b[0;36m3\n\u001b[0;32m      <a href='vscode-notebook-cell:/d%3A/comp%20phy/computation-physics/hunttt%20copy.ipynb#X25sZmlsZQ%3D%3D?line=0'>1</a>\u001b[0m my_cmap \u001b[39m=\u001b[39m plt\u001b[39m.\u001b[39mget_cmap(\u001b[39m'\u001b[39m\u001b[39minferno\u001b[39m\u001b[39m'\u001b[39m)\n\u001b[0;32m      <a href='vscode-notebook-cell:/d%3A/comp%20phy/computation-physics/hunttt%20copy.ipynb#X25sZmlsZQ%3D%3D?line=1'>2</a>\u001b[0m plt\u001b[39m.\u001b[39mfigure(figsize\u001b[39m=\u001b[39m(\u001b[39m8\u001b[39m,\u001b[39m8\u001b[39m))\n\u001b[1;32m----> <a href='vscode-notebook-cell:/d%3A/comp%20phy/computation-physics/hunttt%20copy.ipynb#X25sZmlsZQ%3D%3D?line=2'>3</a>\u001b[0m a \u001b[39m=\u001b[39m plt\u001b[39m.\u001b[39mcontourf(population_frames[\u001b[39m-\u001b[39m\u001b[39m1\u001b[39m], \u001b[39m100\u001b[39m, cmap\u001b[39m=\u001b[39mmy_cmap)\n\u001b[0;32m      <a href='vscode-notebook-cell:/d%3A/comp%20phy/computation-physics/hunttt%20copy.ipynb#X25sZmlsZQ%3D%3D?line=3'>4</a>\u001b[0m plt\u001b[39m.\u001b[39mcolorbar(a)\n",
      "\u001b[1;31mNameError\u001b[0m: name 'population_frames' is not defined"
     ]
    },
    {
     "data": {
      "text/plain": [
       "<Figure size 800x800 with 0 Axes>"
      ]
     },
     "metadata": {},
     "output_type": "display_data"
    }
   ],
   "source": [
    "my_cmap = plt.get_cmap('inferno')\n",
    "plt.figure(figsize=(8,8))\n",
    "a = plt.contourf(population_frames[-1], 100, cmap=my_cmap)\n",
    "plt.colorbar(a)"
   ]
  },
  {
   "cell_type": "markdown",
   "metadata": {},
   "source": [
    "Make animation"
   ]
  },
  {
   "cell_type": "code",
   "execution_count": 31,
   "metadata": {},
   "outputs": [
    {
     "data": {
      "image/png": "[encoded data removed]",
      "text/plain": [
       "<Figure size 800x600 with 1 Axes>"
      ]
     },
     "metadata": {},
     "output_type": "display_data"
    }
   ],
   "source": [
    "def animate(i):\n",
    "    ax.clear()\n",
    "    ax.contourf(population_frames[10*i], 100, cmap=my_cmap) #put vmin and vmax\n",
    "\n",
    "    return fig,\n",
    "\n",
    "fig, ax = plt.subplots(figsize=(8,6))\n",
    "ani = animation.FuncAnimation(fig, animate,\n",
    "                               frames=359, interval=50)\n",
    "ani.save('population1.gif',writer='pillow',fps=30)"
   ]
  }
 ],
 "metadata": {
  "kernelspec": {
   "display_name": "Python 3",
   "language": "python",
   "name": "python3"
  },
  "language_info": {
   "codemirror_mode": {
    "name": "ipython",
    "version": 3
   },
   "file_extension": ".py",
   "mimetype": "text/x-python",
   "name": "python",
   "nbconvert_exporter": "python",
   "pygments_lexer": "ipython3",
   "version": "3.10.11"
  }
 },
 "nbformat": 4,
 "nbformat_minor": 4
}
