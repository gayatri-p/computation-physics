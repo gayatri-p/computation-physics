{
 "cells": [
  {
   "cell_type": "markdown",
   "metadata": {},
   "source": [
    "# Heating adobe houses\n",
    "\n",
    "- final output: temp vs time of the day plot for different seasons with external/internal air/surface\n",
    "- ideal thickness as a function of time for an year\n",
    "$$\n",
    "C = c \\times \\text{Area} \\times t = kt\\\\\n",
    "\\Delta T_\\text{avg} = k'/t\n",
    "$$"
   ]
  },
  {
   "cell_type": "markdown",
   "metadata": {},
   "source": [
    "Consider the 1D heat equation for a rod of length $L$,\n",
    "\n",
    "$$\n",
    "\\frac{\\partial T}{\\partial t} = D\\frac{\\partial^2 T}{\\partial x^2} \n",
    "$$\n",
    "\n",
    "This is a parabolic PDE. Using discretization, we can numerically solve this PDE using finite difference approximation.\n",
    "Here, by discretising the rod into N nodes, we can numerically model how the temperature profile varies between the nodes. Here, $\\Delta x$ is the length between each node.\n",
    "For the time derivative part of the heat equation, we will discretise time into chunks of $\\Delta t$. For the stability of ???,\n",
    "\n",
    "$$  \n",
    "\\Delta t \\le \\frac{1}{2}\\frac{(\\Delta x)^2}{D}\n",
    "$$\n",
    "\n",
    "Using the finite difference approximations for the first and second derivatives,\n",
    "\n",
    "$$\n",
    "\\frac{T_{(t+1,\\,x)}-T_{(t,\\,x)}}{\\delta t} = D\\frac{T_{(t,\\,x+1)}-2T_{(t,\\,x)}+T_{(t,\\,x-1)}}{(\\delta x)^2}\n",
    "$$\n",
    "\n",
    "Next, we define the boundary values at the ends of the rod for any $t$ as well as the initial temperature profile for the rod when $t=0$."
   ]
  },
  {
   "cell_type": "markdown",
   "metadata": {},
   "source": [
    "For the 2D case, we can extend the rod analogy by considering a grid of $n$ nodes in both $x$ and $y$ axes. The diffusion equation becomes,\n",
    "\n",
    "$$  \n",
    "\\frac{\\partial T}{\\partial t} = D\\left(\\frac{\\partial^2 T}{\\partial x^2} + \\frac{\\partial^2 T}{\\partial y^2}\\right)\n",
    "$$\n",
    "\n",
    "$$  \n",
    "\\frac{\\partial T}{\\partial t} = D\\left(\\frac{\\partial^2 T}{\\partial x^2} + \\frac{\\partial^2 T}{\\partial y^2} + \\frac{\\partial^2 T}{\\partial z^2}\\right)$$\n",
    "$$\n",
    "D=\\frac{k}{c_p\\rho}\n",
    "$$\n",
    "\n",
    "And the second derivative in $y$ gets appended to our working formula as,\n",
    "\n",
    "$$\n",
    "\\frac{T_{(t+1,\\,x,\\,y)}-T_{(t,\\,x,\\,y)}}{\\Delta t} = D\\left(\\frac{T_{(t,\\,x+1,\\,y)}-2T_{(t,\\,x,\\,y)}+T_{(t,\\,x-1,\\,y)}}{(\\Delta x)^2}+\\frac{T_{(t,\\,x,\\,y+1)}-2T_{(t,\\,x,\\,y)}+T_{(t,\\,x,\\,y-1)}}{(\\Delta y)^2}\\right)\n",
    "$$\n",
    "\n",
    "where\n",
    "\n",
    "$$\n",
    "\\Delta t \\le \\min \\left(\\frac{(\\Delta x)^2}{4D}, \\frac{(\\Delta y)^2}{4D}\\right)\n",
    "$$"
   ]
  },
  {
   "cell_type": "code",
   "execution_count": 1,
   "metadata": {},
   "outputs": [],
   "source": [
    "import numpy as np\n",
    "import matplotlib.pyplot as plt\n",
    "from ipywidgets import interactive"
   ]
  },
  {
   "cell_type": "code",
   "execution_count": 25,
   "metadata": {},
   "outputs": [],
   "source": [
    "t = np.linspace(0,1,10)\n",
    "x = np.linspace(0,1,10)\n",
    "dt = t[1]-t[0]\n",
    "dx = x[1]-x[0]"
   ]
  },
  {
   "cell_type": "code",
   "execution_count": 27,
   "metadata": {},
   "outputs": [
    {
     "name": "stdout",
     "output_type": "stream",
     "text": [
      "dt= 0.1111111111111111 , dx= 0.1111111111111111  and D dt/dxˆ2= 4.5\n"
     ]
    }
   ],
   "source": [
    "# The next two lines build two parameters that are of interest\n",
    "# for the finite difference scheme.\n",
    "D = 0.5 # The diffusion coefficient for the heat equation given.\n",
    "# The coefficient \"a\" appears in the finite difference scheme.\n",
    "a = D*dt / dx**2\n",
    "print(\"dt=\",dt,\", dx=\",dx,\" and D dt/dxˆ2=\",a)"
   ]
  },
  {
   "cell_type": "code",
   "execution_count": 28,
   "metadata": {},
   "outputs": [],
   "source": [
    "U = np.zeros( (len(t),len(x)) )\n",
    "U[:,0] = 0 # left boundary condition\n",
    "U[:,-1] = 0 # right boundary condition\n",
    "U[0,:] = np.sin(2*np.pi*x)# the function for the init. condition (should depend on x)"
   ]
  },
  {
   "cell_type": "code",
   "execution_count": 29,
   "metadata": {},
   "outputs": [],
   "source": [
    "for n in range(len(t)-1):\n",
    "    U[n+1,1:-1] = U[n,1:-1] + a*( U[n,2:] - 2*U[n,1:-1] + U[n,:-2])"
   ]
  },
  {
   "cell_type": "code",
   "execution_count": 30,
   "metadata": {},
   "outputs": [
    {
     "data": {
      "application/vnd.jupyter.widget-view+json": {
       "model_id": "e4beafbd0d6f4619aa821b7c4f56a4b8",
       "version_major": 2,
       "version_minor": 0
      },
      "text/plain": [
       "interactive(children=(IntSlider(value=4, description='Frame', max=9), Output()), _dom_classes=('widget-interac…"
      ]
     },
     "metadata": {},
     "output_type": "display_data"
    }
   ],
   "source": [
    "def plotter(Frame):\n",
    "    plt.plot(x,U[Frame,:],'b')\n",
    "    plt.grid()\n",
    "    plt.ylim(-1,1)\n",
    "    plt.show()\n",
    "interactive_plot = interactive(plotter, Frame=(0,len(t)-1,1))\n",
    "interactive_plot"
   ]
  },
  {
   "cell_type": "code",
   "execution_count": 31,
   "metadata": {},
   "outputs": [
    {
     "data": {
      "image/png": "[encoded data removed]",
      "text/plain": [
       "<Figure size 640x480 with 1 Axes>"
      ]
     },
     "metadata": {},
     "output_type": "display_data"
    }
   ],
   "source": [
    "for Frame in range(0,len(t),20): # ex: build every 20th frame\n",
    "    plotter(Frame)"
   ]
  },
  {
   "cell_type": "code",
   "execution_count": null,
   "metadata": {
    "scrolled": false
   },
   "outputs": [],
   "source": [
    "a = 110\n",
    "length = 50 #mm\n",
    "time = 4 #seconds\n",
    "nodes = 40\n",
    "\n",
    "# Initialization \n",
    "\n",
    "dx = length / (nodes-1)\n",
    "dy = length / (nodes-1)\n",
    "\n",
    "dt = min(   dx**2 / (4 * a),     dy**2 / (4 * a))\n",
    "\n",
    "t_nodes = int(time/dt) + 1\n",
    "\n",
    "u = np.zeros((nodes, nodes)) + 20 # Plate is initially as 20 degres C\n",
    "\n",
    "# Boundary Conditions \n",
    "\n",
    "u[0, :] = np.linspace(0, 100, nodes)\n",
    "u[-1, :] = np.linspace(0, 100, nodes)\n",
    "\n",
    "u[:, 0] = np.linspace(0, 100, nodes)\n",
    "u[:, -1] = np.linspace(0, 100, nodes)\n",
    "\n",
    "# Visualizing with a plot\n",
    "\n",
    "fig, axis = plt.subplots()\n",
    "\n",
    "pcm = axis.pcolormesh(u, cmap=plt.cm.jet, vmin=0, vmax=100)\n",
    "plt.colorbar(pcm, ax=axis)\n",
    "\n",
    "# Simulating\n",
    "\n",
    "counter = 0\n",
    "\n",
    "while counter < time :\n",
    "\n",
    "    w = u.copy()\n",
    "\n",
    "    for i in range(1, nodes - 1):\n",
    "        for j in range(1, nodes - 1):\n",
    "\n",
    "            dd_ux = (w[i-1, j] - 2*w[i, j] + w[i+1, j])/dx**2\n",
    "            dd_uy = (w[i, j-1] - 2*w[i, j] + w[i, j+1])/dy**2\n",
    "\n",
    "            u[i, j] = dt * a * (dd_ux + dd_uy) + w[i, j]\n",
    "\n",
    "    counter += dt\n",
    "\n",
    "    print(\"t: {:.3f} [s], Average temperature: {:.2f} Celcius\".format(counter, np.average(u)))\n",
    "\n",
    "    # Updating the plot\n",
    "\n",
    "    pcm.set_array(u)\n",
    "    axis.set_title(\"Distribution at t: {:.3f} [s].\".format(counter))\n",
    "    plt.pause(0.01)\n",
    "\n",
    "\n",
    "plt.show()\n",
    "\n"
   ]
  }
 ],
 "metadata": {
  "kernelspec": {
   "display_name": "Python 3",
   "language": "python",
   "name": "python3"
  },
  "language_info": {
   "codemirror_mode": {
    "name": "ipython",
    "version": 3
   },
   "file_extension": ".py",
   "mimetype": "text/x-python",
   "name": "python",
   "nbconvert_exporter": "python",
   "pygments_lexer": "ipython3",
   "version": "3.10.6"
  }
 },
 "nbformat": 4,
 "nbformat_minor": 2
}
